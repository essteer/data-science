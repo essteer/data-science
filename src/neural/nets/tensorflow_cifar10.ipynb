{
  "cells": [
    {
      "cell_type": "markdown",
      "metadata": {
        "id": "view-in-github",
        "colab_type": "text"
      },
      "source": [
        "<a href=\"https://colab.research.google.com/github/essteer/data-science/blob/main/src/neural/nets/tensorflow_cifar10.ipynb\" target=\"_parent\"><img src=\"https://colab.research.google.com/assets/colab-badge.svg\" alt=\"Open In Colab\"/></a>"
      ]
    },
    {
      "cell_type": "markdown",
      "id": "daf5ef75-3831-43ca-abd6-19359d88b975",
      "metadata": {
        "id": "daf5ef75-3831-43ca-abd6-19359d88b975"
      },
      "source": [
        "# TensorFlow CNN - CIFAR-10"
      ]
    },
    {
      "cell_type": "code",
      "execution_count": null,
      "id": "1c9fdb8e-2ccd-489a-832b-938cc087ad9c",
      "metadata": {
        "id": "1c9fdb8e-2ccd-489a-832b-938cc087ad9c"
      },
      "outputs": [],
      "source": [
        "import plotly.graph_objects as go\n",
        "import plotly.subplots as sp\n",
        "import numpy as np\n",
        "import tensorflow as tf\n",
        "from tensorflow import keras\n",
        "from keras.datasets import cifar10\n",
        "from keras.models import Sequential\n",
        "from keras.layers import Dense, Dropout, Flatten, BatchNormalization\n",
        "# Dropout Regularization: To get rid of overfitting problem\n",
        "from keras.layers import Conv2D, MaxPooling2D\n",
        "from keras import backend as K"
      ]
    },
    {
      "cell_type": "markdown",
      "id": "8b845e7e-db3e-4af7-b913-b0a4ab13f4ce",
      "metadata": {
        "id": "8b845e7e-db3e-4af7-b913-b0a4ab13f4ce"
      },
      "source": [
        "## Load train and test data"
      ]
    },
    {
      "cell_type": "code",
      "execution_count": null,
      "id": "a5712f6e-e2b8-4971-9204-edd76780159a",
      "metadata": {
        "id": "a5712f6e-e2b8-4971-9204-edd76780159a"
      },
      "outputs": [],
      "source": [
        "# The data, shuffled and split between train and test sets\n",
        "(X_train, y_train), (X_test, y_test) = cifar10.load_data()"
      ]
    },
    {
      "cell_type": "code",
      "execution_count": null,
      "id": "17b62cf0-a576-43db-bf19-678742992ca8",
      "metadata": {
        "id": "17b62cf0-a576-43db-bf19-678742992ca8",
        "outputId": "164b8032-153e-4a86-81d9-1c752eea22f5"
      },
      "outputs": [
        {
          "name": "stdout",
          "output_type": "stream",
          "text": [
            "X_train dimensions: (50000, 32, 32, 3)\n",
            "y_train dimensions: (50000, 1)\n",
            "X_test dimensions:  (10000, 32, 32, 3)\n",
            "y_test dimensions:  (10000, 1)\n"
          ]
        }
      ],
      "source": [
        "print(f\"X_train dimensions: {X_train.shape}\")\n",
        "print(f\"y_train dimensions: {y_train.shape}\")\n",
        "print(f\"X_test dimensions:  {X_test.shape}\")\n",
        "print(f\"y_test dimensions:  {y_test.shape}\")"
      ]
    },
    {
      "cell_type": "code",
      "execution_count": null,
      "id": "9ddea791-f38d-48aa-be62-a75b6e7972e6",
      "metadata": {
        "id": "9ddea791-f38d-48aa-be62-a75b6e7972e6",
        "outputId": "0804e5e8-2229-408b-83bc-92f3c3741149"
      },
      "outputs": [
        {
          "data": {
            "text/plain": [
              "array([0, 1, 2, 3, 4, 5, 6, 7, 8, 9], dtype=uint8)"
            ]
          },
          "execution_count": 81,
          "metadata": {},
          "output_type": "execute_result"
        }
      ],
      "source": [
        "# Get no. unique values from train set\n",
        "unique_values, counts = np.unique(y_train, return_counts=True)\n",
        "unique_values"
      ]
    },
    {
      "cell_type": "code",
      "execution_count": null,
      "id": "c4cee1be-5f0e-43db-a417-4c7c10dd7480",
      "metadata": {
        "id": "c4cee1be-5f0e-43db-a417-4c7c10dd7480",
        "outputId": "77b718e0-a148-4716-e950-f63ec91c3d24"
      },
      "outputs": [
        {
          "data": {
            "text/plain": [
              "array([0, 1, 2, 3, 4, 5, 6, 7, 8, 9], dtype=uint8)"
            ]
          },
          "execution_count": 82,
          "metadata": {},
          "output_type": "execute_result"
        }
      ],
      "source": [
        "# Get no. unique values from test set\n",
        "unique_values, counts = np.unique(y_test, return_counts=True)\n",
        "unique_values"
      ]
    },
    {
      "cell_type": "code",
      "execution_count": null,
      "id": "4a470e11-37d3-4e14-8719-0fd05f7709fb",
      "metadata": {
        "id": "4a470e11-37d3-4e14-8719-0fd05f7709fb"
      },
      "outputs": [],
      "source": [
        "# 10 different digits\n",
        "num_classes = 10\n",
        "# Image dimensions\n",
        "img_rows, img_cols = 32, 32"
      ]
    },
    {
      "cell_type": "markdown",
      "id": "04c665b5-6593-4eb0-8a11-b4c956bcb075",
      "metadata": {
        "id": "04c665b5-6593-4eb0-8a11-b4c956bcb075"
      },
      "source": [
        "## Transform data"
      ]
    },
    {
      "cell_type": "code",
      "execution_count": null,
      "id": "56f1b8a2-92d9-4271-addb-7ac115cf132f",
      "metadata": {
        "id": "56f1b8a2-92d9-4271-addb-7ac115cf132f"
      },
      "outputs": [],
      "source": [
        "X_train = X_train.reshape(X_train.shape[0], img_rows, img_cols, 3)\n",
        "X_test = X_test.reshape(X_test.shape[0], img_rows, img_cols, 3)\n",
        "input_shape = (img_rows, img_cols, 3)"
      ]
    },
    {
      "cell_type": "code",
      "execution_count": null,
      "id": "4c6e7a0e-8acf-48d0-975f-9851e947915d",
      "metadata": {
        "id": "4c6e7a0e-8acf-48d0-975f-9851e947915d",
        "outputId": "944ddf40-0133-4a77-ecd2-2220806280b3"
      },
      "outputs": [
        {
          "data": {
            "text/plain": [
              "(32, 32, 3)"
            ]
          },
          "execution_count": 85,
          "metadata": {},
          "output_type": "execute_result"
        }
      ],
      "source": [
        "input_shape"
      ]
    },
    {
      "cell_type": "code",
      "execution_count": null,
      "id": "346878a4-05e4-4bd9-973c-f4d77fe5de33",
      "metadata": {
        "id": "346878a4-05e4-4bd9-973c-f4d77fe5de33"
      },
      "outputs": [],
      "source": [
        "# Convert data types for train and test data\n",
        "X_train = X_train.astype(\"float32\")\n",
        "X_test = X_test.astype(\"float32\")"
      ]
    },
    {
      "cell_type": "code",
      "execution_count": null,
      "id": "254a58f6-74cc-4ed1-a443-1016759a5134",
      "metadata": {
        "id": "254a58f6-74cc-4ed1-a443-1016759a5134",
        "outputId": "20d2715e-2a21-45e4-d17c-0ad152f05522"
      },
      "outputs": [
        {
          "name": "stdout",
          "output_type": "stream",
          "text": [
            "[[[ 59.  62.  63.]\n",
            "  [ 43.  46.  45.]\n",
            "  [ 50.  48.  43.]\n",
            "  ...\n",
            "  [158. 132. 108.]\n",
            "  [152. 125. 102.]\n",
            "  [148. 124. 103.]]\n",
            "\n",
            " [[ 16.  20.  20.]\n",
            "  [  0.   0.   0.]\n",
            "  [ 18.   8.   0.]\n",
            "  ...\n",
            "  [123.  88.  55.]\n",
            "  [119.  83.  50.]\n",
            "  [122.  87.  57.]]\n",
            "\n",
            " [[ 25.  24.  21.]\n",
            "  [ 16.   7.   0.]\n",
            "  [ 49.  27.   8.]\n",
            "  ...\n",
            "  [118.  84.  50.]\n",
            "  [120.  84.  50.]\n",
            "  [109.  73.  42.]]\n",
            "\n",
            " ...\n",
            "\n",
            " [[208. 170.  96.]\n",
            "  [201. 153.  34.]\n",
            "  [198. 161.  26.]\n",
            "  ...\n",
            "  [160. 133.  70.]\n",
            "  [ 56.  31.   7.]\n",
            "  [ 53.  34.  20.]]\n",
            "\n",
            " [[180. 139.  96.]\n",
            "  [173. 123.  42.]\n",
            "  [186. 144.  30.]\n",
            "  ...\n",
            "  [184. 148.  94.]\n",
            "  [ 97.  62.  34.]\n",
            "  [ 83.  53.  34.]]\n",
            "\n",
            " [[177. 144. 116.]\n",
            "  [168. 129.  94.]\n",
            "  [179. 142.  87.]\n",
            "  ...\n",
            "  [216. 184. 140.]\n",
            "  [151. 118.  84.]\n",
            "  [123.  92.  72.]]]\n"
          ]
        }
      ],
      "source": [
        "print(X_train[0])"
      ]
    },
    {
      "cell_type": "code",
      "execution_count": null,
      "id": "b4b133f5-bf80-4acc-9990-e442194b9489",
      "metadata": {
        "id": "b4b133f5-bf80-4acc-9990-e442194b9489"
      },
      "outputs": [],
      "source": [
        "# Scale train and test data\n",
        "X_train /= 255.\n",
        "X_test /= 255."
      ]
    },
    {
      "cell_type": "code",
      "execution_count": null,
      "id": "d9393d27-0d72-4548-818d-ea827f45900a",
      "metadata": {
        "id": "d9393d27-0d72-4548-818d-ea827f45900a",
        "outputId": "4baa53e0-f34f-4c87-da8b-6abbc29ecd2a"
      },
      "outputs": [
        {
          "data": {
            "text/plain": [
              "array([[[0.23137255, 0.24313726, 0.24705882],\n",
              "        [0.16862746, 0.18039216, 0.1764706 ],\n",
              "        [0.19607843, 0.1882353 , 0.16862746],\n",
              "        ...,\n",
              "        [0.61960787, 0.5176471 , 0.42352942],\n",
              "        [0.59607846, 0.49019608, 0.4       ],\n",
              "        [0.5803922 , 0.4862745 , 0.40392157]],\n",
              "\n",
              "       [[0.0627451 , 0.07843138, 0.07843138],\n",
              "        [0.        , 0.        , 0.        ],\n",
              "        [0.07058824, 0.03137255, 0.        ],\n",
              "        ...,\n",
              "        [0.48235294, 0.34509805, 0.21568628],\n",
              "        [0.46666667, 0.3254902 , 0.19607843],\n",
              "        [0.47843137, 0.34117648, 0.22352941]],\n",
              "\n",
              "       [[0.09803922, 0.09411765, 0.08235294],\n",
              "        [0.0627451 , 0.02745098, 0.        ],\n",
              "        [0.19215687, 0.10588235, 0.03137255],\n",
              "        ...,\n",
              "        [0.4627451 , 0.32941177, 0.19607843],\n",
              "        [0.47058824, 0.32941177, 0.19607843],\n",
              "        [0.42745098, 0.28627452, 0.16470589]],\n",
              "\n",
              "       ...,\n",
              "\n",
              "       [[0.8156863 , 0.6666667 , 0.3764706 ],\n",
              "        [0.7882353 , 0.6       , 0.13333334],\n",
              "        [0.7764706 , 0.6313726 , 0.10196079],\n",
              "        ...,\n",
              "        [0.627451  , 0.52156866, 0.27450982],\n",
              "        [0.21960784, 0.12156863, 0.02745098],\n",
              "        [0.20784314, 0.13333334, 0.07843138]],\n",
              "\n",
              "       [[0.7058824 , 0.54509807, 0.3764706 ],\n",
              "        [0.6784314 , 0.48235294, 0.16470589],\n",
              "        [0.7294118 , 0.5647059 , 0.11764706],\n",
              "        ...,\n",
              "        [0.72156864, 0.5803922 , 0.36862746],\n",
              "        [0.38039216, 0.24313726, 0.13333334],\n",
              "        [0.3254902 , 0.20784314, 0.13333334]],\n",
              "\n",
              "       [[0.69411767, 0.5647059 , 0.45490196],\n",
              "        [0.65882355, 0.5058824 , 0.36862746],\n",
              "        [0.7019608 , 0.5568628 , 0.34117648],\n",
              "        ...,\n",
              "        [0.84705883, 0.72156864, 0.54901963],\n",
              "        [0.5921569 , 0.4627451 , 0.32941177],\n",
              "        [0.48235294, 0.36078432, 0.28235295]]], dtype=float32)"
            ]
          },
          "execution_count": 89,
          "metadata": {},
          "output_type": "execute_result"
        }
      ],
      "source": [
        "X_train[0]"
      ]
    },
    {
      "cell_type": "code",
      "execution_count": null,
      "id": "185564db-5210-4c98-90f1-c78abe395b42",
      "metadata": {
        "id": "185564db-5210-4c98-90f1-c78abe395b42",
        "outputId": "9bc0d39a-9ab7-4303-d471-5bc1f9dd83d6"
      },
      "outputs": [
        {
          "name": "stdout",
          "output_type": "stream",
          "text": [
            "X_train shape: (50000, 32, 32, 3)\n",
            "X_test shape:  (10000, 32, 32, 3)\n"
          ]
        }
      ],
      "source": [
        "print(f\"X_train shape: {X_train.shape}\")\n",
        "print(f\"X_test shape:  {X_test.shape}\")"
      ]
    },
    {
      "cell_type": "code",
      "execution_count": null,
      "id": "45449951-8961-4ed3-8d9a-ea19530d274c",
      "metadata": {
        "id": "45449951-8961-4ed3-8d9a-ea19530d274c"
      },
      "outputs": [],
      "source": [
        "# Convert labels (0 to 9) to binary class matrices with one-hot encoding\n",
        "# e.g. 9 => 0 0 0 0 0 0 0 0 0 1 and 3 => 0 0 0 1 0 0 0 0 0 0\n",
        "y_train = tf.keras.utils.to_categorical(y_train, num_classes)\n",
        "y_test = tf.keras.utils.to_categorical(y_test, num_classes)"
      ]
    },
    {
      "cell_type": "code",
      "execution_count": null,
      "id": "52f6f881-9f09-48d0-93e6-b8b3d65944e4",
      "metadata": {
        "id": "52f6f881-9f09-48d0-93e6-b8b3d65944e4",
        "outputId": "15aae290-f7da-497e-e8a6-9f4e0c35172e"
      },
      "outputs": [
        {
          "name": "stdout",
          "output_type": "stream",
          "text": [
            "[[0. 0. 0. 0. 0. 0. 1. 0. 0. 0.]\n",
            " [0. 0. 0. 0. 0. 0. 0. 0. 0. 1.]\n",
            " [0. 0. 0. 0. 0. 0. 0. 0. 0. 1.]\n",
            " [0. 0. 0. 0. 1. 0. 0. 0. 0. 0.]]\n"
          ]
        }
      ],
      "source": [
        "# Verify one-hot encoding\n",
        "print(y_train[0:4])"
      ]
    },
    {
      "cell_type": "markdown",
      "id": "48a06275-4f30-47fc-919b-efcf960f8c3a",
      "metadata": {
        "id": "48a06275-4f30-47fc-919b-efcf960f8c3a"
      },
      "source": [
        "## Model 1\n",
        "\n",
        "### Prepare model for training"
      ]
    },
    {
      "cell_type": "code",
      "execution_count": null,
      "id": "dbf52a36-fda3-4d47-952a-5633a4373cd2",
      "metadata": {
        "id": "dbf52a36-fda3-4d47-952a-5633a4373cd2"
      },
      "outputs": [],
      "source": [
        "# Initialise the model\n",
        "model = Sequential()"
      ]
    },
    {
      "cell_type": "code",
      "execution_count": null,
      "id": "7feb0e78-13a6-476e-81f7-ce4af2ba945e",
      "metadata": {
        "id": "7feb0e78-13a6-476e-81f7-ce4af2ba945e",
        "outputId": "a0e73841-5538-4b64-9b92-c819b82e4dca"
      },
      "outputs": [
        {
          "data": {
            "text/plain": [
              "10"
            ]
          },
          "execution_count": 94,
          "metadata": {},
          "output_type": "execute_result"
        }
      ],
      "source": [
        "num_classes"
      ]
    },
    {
      "cell_type": "code",
      "execution_count": null,
      "id": "dcb4fc01-51be-45de-83de-a409bc6abf1b",
      "metadata": {
        "id": "dcb4fc01-51be-45de-83de-a409bc6abf1b",
        "outputId": "541773eb-8714-4d29-b68d-1cc11a705320"
      },
      "outputs": [
        {
          "data": {
            "text/plain": [
              "(32, 32, 3)"
            ]
          },
          "execution_count": 95,
          "metadata": {},
          "output_type": "execute_result"
        }
      ],
      "source": [
        "input_shape"
      ]
    },
    {
      "cell_type": "code",
      "execution_count": null,
      "id": "bb40f8ee-201b-4d42-8143-97ca3437ba46",
      "metadata": {
        "id": "bb40f8ee-201b-4d42-8143-97ca3437ba46"
      },
      "outputs": [],
      "source": [
        "# Create CNN to classify images\n",
        "model.add(Conv2D(\n",
        "    64,  # increase number of filters - used 32 on the 28x28x1 MNIST and fashion_MNIST sets\n",
        "    kernel_size=(3, 3),\n",
        "    activation=\"relu\",\n",
        "    input_shape=input_shape))\n",
        "model.add(BatchNormalization())\n",
        "# Add second convolutional layer for further feature extractions\n",
        "model.add(Conv2D(32, kernel_size=(3, 3), activation=\"relu\"))\n",
        "model.add(BatchNormalization())\n",
        "# First pooling layer\n",
        "model.add(MaxPooling2D(pool_size=(2, 2)))\n",
        "model.add(Dropout(0.25))\n",
        "model.add(Conv2D(32, kernel_size=(3, 3), activation=\"relu\"))\n",
        "model.add(BatchNormalization())\n",
        "model.add(MaxPooling2D(pool_size=(2, 2)))\n",
        "model.add(Dropout(0.25))\n",
        "model.add(Flatten())\n",
        "model.add(Dense(256, activation=\"relu\"))\n",
        "model.add(Dense(128, activation=\"relu\"))\n",
        "model.add(Dense(num_classes, activation=\"softmax\"))"
      ]
    },
    {
      "cell_type": "markdown",
      "id": "c8dd3087-1f5c-4f40-9b88-f1c9b311dc6d",
      "metadata": {
        "id": "c8dd3087-1f5c-4f40-9b88-f1c9b311dc6d"
      },
      "source": [
        "### Compile the CNN"
      ]
    },
    {
      "cell_type": "code",
      "execution_count": null,
      "id": "6c33c341-014a-4b24-856c-509dec36f138",
      "metadata": {
        "id": "6c33c341-014a-4b24-856c-509dec36f138"
      },
      "outputs": [],
      "source": [
        "# Define compile to minimise categorical loss, use ada delta optimized, and optimize to maXimizing accuracy\n",
        "model.compile(loss=keras.losses.categorical_crossentropy,\n",
        "              optimizer=keras.optimizers.Adam(),\n",
        "              metrics=[\"accuracy\"])"
      ]
    },
    {
      "cell_type": "markdown",
      "id": "9325470e-040e-49eb-bac8-0007fd466236",
      "metadata": {
        "id": "9325470e-040e-49eb-bac8-0007fd466236"
      },
      "source": [
        "### Train the model\n",
        "\n",
        "Train the model and test/validate with the test data after each cycle (epoch) through the training data."
      ]
    },
    {
      "cell_type": "code",
      "execution_count": null,
      "id": "e7d18e0d-b66a-4f8e-90db-84e85af64368",
      "metadata": {
        "id": "e7d18e0d-b66a-4f8e-90db-84e85af64368"
      },
      "outputs": [],
      "source": [
        "batch_size = 64\n",
        "epochs = 10"
      ]
    },
    {
      "cell_type": "code",
      "execution_count": null,
      "id": "048003e8-26c2-408c-a27c-cd693ed309bc",
      "metadata": {
        "id": "048003e8-26c2-408c-a27c-cd693ed309bc",
        "outputId": "4099a3e2-3eae-43fe-f7c6-cc2ecec67c4a"
      },
      "outputs": [
        {
          "name": "stdout",
          "output_type": "stream",
          "text": [
            "Epoch 1/10\n",
            "782/782 [==============================] - 93s 116ms/step - loss: 1.3708 - accuracy: 0.5129 - val_loss: 1.2198 - val_accuracy: 0.5639\n",
            "Epoch 2/10\n",
            "782/782 [==============================] - 89s 113ms/step - loss: 0.9674 - accuracy: 0.6588 - val_loss: 1.1025 - val_accuracy: 0.6329\n",
            "Epoch 3/10\n",
            "782/782 [==============================] - 82s 105ms/step - loss: 0.8148 - accuracy: 0.7109 - val_loss: 0.8396 - val_accuracy: 0.7139\n",
            "Epoch 4/10\n",
            "782/782 [==============================] - 86s 110ms/step - loss: 0.7216 - accuracy: 0.7447 - val_loss: 0.8191 - val_accuracy: 0.7180\n",
            "Epoch 5/10\n",
            "782/782 [==============================] - 89s 114ms/step - loss: 0.6531 - accuracy: 0.7680 - val_loss: 0.8171 - val_accuracy: 0.7224\n",
            "Epoch 6/10\n",
            "782/782 [==============================] - 88s 112ms/step - loss: 0.5941 - accuracy: 0.7914 - val_loss: 0.7356 - val_accuracy: 0.7537\n",
            "Epoch 7/10\n",
            "782/782 [==============================] - 91s 117ms/step - loss: 0.5436 - accuracy: 0.8086 - val_loss: 0.7554 - val_accuracy: 0.7495\n",
            "Epoch 8/10\n",
            "782/782 [==============================] - 86s 110ms/step - loss: 0.5022 - accuracy: 0.8220 - val_loss: 0.8922 - val_accuracy: 0.7252\n",
            "Epoch 9/10\n",
            "782/782 [==============================] - 96s 123ms/step - loss: 0.4701 - accuracy: 0.8340 - val_loss: 0.8089 - val_accuracy: 0.7461\n",
            "Epoch 10/10\n",
            "782/782 [==============================] - 89s 114ms/step - loss: 0.4299 - accuracy: 0.8478 - val_loss: 0.7728 - val_accuracy: 0.7660\n"
          ]
        }
      ],
      "source": [
        "# Return history of loss and accuracy for each epoch\n",
        "hist = model.fit(X_train, y_train,\n",
        "          batch_size=batch_size,\n",
        "          epochs=epochs,\n",
        "          verbose=1,\n",
        "          validation_data=(X_test, y_test))"
      ]
    },
    {
      "cell_type": "code",
      "execution_count": null,
      "id": "2cd61d18-c722-4191-aeb3-c6ed04b60a41",
      "metadata": {
        "id": "2cd61d18-c722-4191-aeb3-c6ed04b60a41",
        "outputId": "466043c8-b521-4839-b343-1790eac18a10"
      },
      "outputs": [
        {
          "name": "stdout",
          "output_type": "stream",
          "text": [
            "Test loss:      77.28%\n",
            "Test accuracy:  76.60%\n"
          ]
        }
      ],
      "source": [
        "# Evaluate model with test data to get scores on \"real\" data\n",
        "score = model.evaluate(X_test, y_test, verbose=0)\n",
        "print(f\"Test loss:      {score[0]:.2%}\")\n",
        "print(f\"Test accuracy:  {score[1]:.2%}\")"
      ]
    },
    {
      "cell_type": "markdown",
      "id": "8618691c-f201-48a6-88c0-f9f399473735",
      "metadata": {
        "id": "8618691c-f201-48a6-88c0-f9f399473735"
      },
      "source": [
        "### Plot results"
      ]
    },
    {
      "cell_type": "code",
      "execution_count": null,
      "id": "05a329fa-4bb3-4e8c-8ca2-77c03e787133",
      "metadata": {
        "id": "05a329fa-4bb3-4e8c-8ca2-77c03e787133"
      },
      "outputs": [],
      "source": [
        "palette = {\n",
        "    \"dark\": \"#252b33\", \"grey\": \"#45464d\", \"light\": \"#fefeff\",\n",
        "    \"stone\": \"#8f8f94\", \"blue\": \"#336681\", \"green\": \"#089389\",\n",
        "    \"red\": \"#d34748\", \"pink\": \"#cf82d3\", \"yellow\": \"#e6daaa\"\n",
        "}"
      ]
    },
    {
      "cell_type": "code",
      "execution_count": null,
      "id": "05c1ac17-b3f6-4166-bef0-179a15698b2b",
      "metadata": {
        "id": "05c1ac17-b3f6-4166-bef0-179a15698b2b"
      },
      "outputs": [],
      "source": [
        "def format_plot(fig):\n",
        "    \"\"\"\n",
        "    Applies custom theme to Plotly figure.\n",
        "    \"\"\"\n",
        "    fig.update_layout(\n",
        "        plot_bgcolor=palette[\"dark\"], paper_bgcolor=palette[\"dark\"],\n",
        "        title_font_color=palette[\"light\"],\n",
        "        xaxis_title_font_color=palette[\"light\"], yaxis_title_font_color=palette[\"light\"],\n",
        "        xaxis_tickfont_color=palette[\"stone\"], yaxis_tickfont_color=palette[\"stone\"],\n",
        "        xaxis_gridcolor=palette[\"grey\"], yaxis_gridcolor=palette[\"grey\"],\n",
        "        xaxis_linecolor=palette[\"stone\"], yaxis_linecolor=palette[\"stone\"],\n",
        "        title={\"x\": 0.5},  # Center title\n",
        "        xaxis={\"categoryorder\": \"category ascending\"},  # Set y-axis labels from low to high\n",
        "        yaxis={\n",
        "            \"categoryorder\": \"category ascending\",  # Set y-axis labels from low to high\n",
        "            # Add invisible y-ticks to add space between y-axis and y-labels\n",
        "            \"ticks\": \"outside\", \"tickcolor\": palette[\"dark\"], \"ticklen\": 5,\n",
        "        },\n",
        "        legend_font_color=palette[\"stone\"],\n",
        "        margin=dict(l=80, r=20, t=40, b=20)\n",
        "    )\n",
        "    fig.update_yaxes(\n",
        "        title_standoff = 5\n",
        "    )"
      ]
    },
    {
      "cell_type": "code",
      "execution_count": null,
      "id": "a8787c27-9871-4f69-bf98-2548deb9704c",
      "metadata": {
        "id": "a8787c27-9871-4f69-bf98-2548deb9704c"
      },
      "outputs": [],
      "source": [
        "# Get per-epoch data from history\n",
        "epoch_list = list(range(1, len(hist.history[\"accuracy\"]) + 1))  # values for x axis [1, 2, ..., # of epochs]"
      ]
    },
    {
      "cell_type": "code",
      "execution_count": null,
      "id": "e3fd9177-433f-4107-837c-3f1a5bcfc418",
      "metadata": {
        "id": "e3fd9177-433f-4107-837c-3f1a5bcfc418",
        "outputId": "562e92aa-78f3-4904-c5bf-2c1eb34dbe81"
      },
      "outputs": [
        {
          "data": {
            "application/vnd.plotly.v1+json": {
              "config": {
                "plotlyServerURL": "https://plot.ly"
              },
              "data": [
                {
                  "line": {
                    "color": "#089389"
                  },
                  "mode": "lines",
                  "name": "Training Accuracy",
                  "type": "scatter",
                  "x": [
                    1,
                    2,
                    3,
                    4,
                    5,
                    6,
                    7,
                    8,
                    9,
                    10
                  ],
                  "y": [
                    0.512939989566803,
                    0.658840000629425,
                    0.710860013961792,
                    0.7447199821472168,
                    0.7679600119590759,
                    0.791379988193512,
                    0.8085799813270569,
                    0.8219799995422363,
                    0.8339999914169312,
                    0.8478000164031982
                  ]
                },
                {
                  "line": {
                    "color": "#d34748"
                  },
                  "mode": "lines",
                  "name": "Validation Accuracy",
                  "type": "scatter",
                  "x": [
                    1,
                    2,
                    3,
                    4,
                    5,
                    6,
                    7,
                    8,
                    9,
                    10
                  ],
                  "y": [
                    0.5638999938964844,
                    0.6328999996185303,
                    0.7139000296592712,
                    0.7179999947547913,
                    0.7224000096321106,
                    0.7537000179290771,
                    0.7494999766349792,
                    0.7251999974250793,
                    0.7461000084877014,
                    0.765999972820282
                  ]
                }
              ],
              "layout": {
                "height": 350,
                "legend": {
                  "font": {
                    "color": "#8f8f94"
                  },
                  "x": 0.7,
                  "y": 0.5
                },
                "margin": {
                  "b": 20,
                  "l": 80,
                  "r": 20,
                  "t": 40
                },
                "paper_bgcolor": "#252b33",
                "plot_bgcolor": "#252b33",
                "template": {
                  "data": {
                    "bar": [
                      {
                        "error_x": {
                          "color": "#2a3f5f"
                        },
                        "error_y": {
                          "color": "#2a3f5f"
                        },
                        "marker": {
                          "line": {
                            "color": "#E5ECF6",
                            "width": 0.5
                          },
                          "pattern": {
                            "fillmode": "overlay",
                            "size": 10,
                            "solidity": 0.2
                          }
                        },
                        "type": "bar"
                      }
                    ],
                    "barpolar": [
                      {
                        "marker": {
                          "line": {
                            "color": "#E5ECF6",
                            "width": 0.5
                          },
                          "pattern": {
                            "fillmode": "overlay",
                            "size": 10,
                            "solidity": 0.2
                          }
                        },
                        "type": "barpolar"
                      }
                    ],
                    "carpet": [
                      {
                        "aaxis": {
                          "endlinecolor": "#2a3f5f",
                          "gridcolor": "white",
                          "linecolor": "white",
                          "minorgridcolor": "white",
                          "startlinecolor": "#2a3f5f"
                        },
                        "baxis": {
                          "endlinecolor": "#2a3f5f",
                          "gridcolor": "white",
                          "linecolor": "white",
                          "minorgridcolor": "white",
                          "startlinecolor": "#2a3f5f"
                        },
                        "type": "carpet"
                      }
                    ],
                    "choropleth": [
                      {
                        "colorbar": {
                          "outlinewidth": 0,
                          "ticks": ""
                        },
                        "type": "choropleth"
                      }
                    ],
                    "contour": [
                      {
                        "colorbar": {
                          "outlinewidth": 0,
                          "ticks": ""
                        },
                        "colorscale": [
                          [
                            0,
                            "#0d0887"
                          ],
                          [
                            0.1111111111111111,
                            "#46039f"
                          ],
                          [
                            0.2222222222222222,
                            "#7201a8"
                          ],
                          [
                            0.3333333333333333,
                            "#9c179e"
                          ],
                          [
                            0.4444444444444444,
                            "#bd3786"
                          ],
                          [
                            0.5555555555555556,
                            "#d8576b"
                          ],
                          [
                            0.6666666666666666,
                            "#ed7953"
                          ],
                          [
                            0.7777777777777778,
                            "#fb9f3a"
                          ],
                          [
                            0.8888888888888888,
                            "#fdca26"
                          ],
                          [
                            1,
                            "#f0f921"
                          ]
                        ],
                        "type": "contour"
                      }
                    ],
                    "contourcarpet": [
                      {
                        "colorbar": {
                          "outlinewidth": 0,
                          "ticks": ""
                        },
                        "type": "contourcarpet"
                      }
                    ],
                    "heatmap": [
                      {
                        "colorbar": {
                          "outlinewidth": 0,
                          "ticks": ""
                        },
                        "colorscale": [
                          [
                            0,
                            "#0d0887"
                          ],
                          [
                            0.1111111111111111,
                            "#46039f"
                          ],
                          [
                            0.2222222222222222,
                            "#7201a8"
                          ],
                          [
                            0.3333333333333333,
                            "#9c179e"
                          ],
                          [
                            0.4444444444444444,
                            "#bd3786"
                          ],
                          [
                            0.5555555555555556,
                            "#d8576b"
                          ],
                          [
                            0.6666666666666666,
                            "#ed7953"
                          ],
                          [
                            0.7777777777777778,
                            "#fb9f3a"
                          ],
                          [
                            0.8888888888888888,
                            "#fdca26"
                          ],
                          [
                            1,
                            "#f0f921"
                          ]
                        ],
                        "type": "heatmap"
                      }
                    ],
                    "heatmapgl": [
                      {
                        "colorbar": {
                          "outlinewidth": 0,
                          "ticks": ""
                        },
                        "colorscale": [
                          [
                            0,
                            "#0d0887"
                          ],
                          [
                            0.1111111111111111,
                            "#46039f"
                          ],
                          [
                            0.2222222222222222,
                            "#7201a8"
                          ],
                          [
                            0.3333333333333333,
                            "#9c179e"
                          ],
                          [
                            0.4444444444444444,
                            "#bd3786"
                          ],
                          [
                            0.5555555555555556,
                            "#d8576b"
                          ],
                          [
                            0.6666666666666666,
                            "#ed7953"
                          ],
                          [
                            0.7777777777777778,
                            "#fb9f3a"
                          ],
                          [
                            0.8888888888888888,
                            "#fdca26"
                          ],
                          [
                            1,
                            "#f0f921"
                          ]
                        ],
                        "type": "heatmapgl"
                      }
                    ],
                    "histogram": [
                      {
                        "marker": {
                          "pattern": {
                            "fillmode": "overlay",
                            "size": 10,
                            "solidity": 0.2
                          }
                        },
                        "type": "histogram"
                      }
                    ],
                    "histogram2d": [
                      {
                        "colorbar": {
                          "outlinewidth": 0,
                          "ticks": ""
                        },
                        "colorscale": [
                          [
                            0,
                            "#0d0887"
                          ],
                          [
                            0.1111111111111111,
                            "#46039f"
                          ],
                          [
                            0.2222222222222222,
                            "#7201a8"
                          ],
                          [
                            0.3333333333333333,
                            "#9c179e"
                          ],
                          [
                            0.4444444444444444,
                            "#bd3786"
                          ],
                          [
                            0.5555555555555556,
                            "#d8576b"
                          ],
                          [
                            0.6666666666666666,
                            "#ed7953"
                          ],
                          [
                            0.7777777777777778,
                            "#fb9f3a"
                          ],
                          [
                            0.8888888888888888,
                            "#fdca26"
                          ],
                          [
                            1,
                            "#f0f921"
                          ]
                        ],
                        "type": "histogram2d"
                      }
                    ],
                    "histogram2dcontour": [
                      {
                        "colorbar": {
                          "outlinewidth": 0,
                          "ticks": ""
                        },
                        "colorscale": [
                          [
                            0,
                            "#0d0887"
                          ],
                          [
                            0.1111111111111111,
                            "#46039f"
                          ],
                          [
                            0.2222222222222222,
                            "#7201a8"
                          ],
                          [
                            0.3333333333333333,
                            "#9c179e"
                          ],
                          [
                            0.4444444444444444,
                            "#bd3786"
                          ],
                          [
                            0.5555555555555556,
                            "#d8576b"
                          ],
                          [
                            0.6666666666666666,
                            "#ed7953"
                          ],
                          [
                            0.7777777777777778,
                            "#fb9f3a"
                          ],
                          [
                            0.8888888888888888,
                            "#fdca26"
                          ],
                          [
                            1,
                            "#f0f921"
                          ]
                        ],
                        "type": "histogram2dcontour"
                      }
                    ],
                    "mesh3d": [
                      {
                        "colorbar": {
                          "outlinewidth": 0,
                          "ticks": ""
                        },
                        "type": "mesh3d"
                      }
                    ],
                    "parcoords": [
                      {
                        "line": {
                          "colorbar": {
                            "outlinewidth": 0,
                            "ticks": ""
                          }
                        },
                        "type": "parcoords"
                      }
                    ],
                    "pie": [
                      {
                        "automargin": true,
                        "type": "pie"
                      }
                    ],
                    "scatter": [
                      {
                        "fillpattern": {
                          "fillmode": "overlay",
                          "size": 10,
                          "solidity": 0.2
                        },
                        "type": "scatter"
                      }
                    ],
                    "scatter3d": [
                      {
                        "line": {
                          "colorbar": {
                            "outlinewidth": 0,
                            "ticks": ""
                          }
                        },
                        "marker": {
                          "colorbar": {
                            "outlinewidth": 0,
                            "ticks": ""
                          }
                        },
                        "type": "scatter3d"
                      }
                    ],
                    "scattercarpet": [
                      {
                        "marker": {
                          "colorbar": {
                            "outlinewidth": 0,
                            "ticks": ""
                          }
                        },
                        "type": "scattercarpet"
                      }
                    ],
                    "scattergeo": [
                      {
                        "marker": {
                          "colorbar": {
                            "outlinewidth": 0,
                            "ticks": ""
                          }
                        },
                        "type": "scattergeo"
                      }
                    ],
                    "scattergl": [
                      {
                        "marker": {
                          "colorbar": {
                            "outlinewidth": 0,
                            "ticks": ""
                          }
                        },
                        "type": "scattergl"
                      }
                    ],
                    "scattermapbox": [
                      {
                        "marker": {
                          "colorbar": {
                            "outlinewidth": 0,
                            "ticks": ""
                          }
                        },
                        "type": "scattermapbox"
                      }
                    ],
                    "scatterpolar": [
                      {
                        "marker": {
                          "colorbar": {
                            "outlinewidth": 0,
                            "ticks": ""
                          }
                        },
                        "type": "scatterpolar"
                      }
                    ],
                    "scatterpolargl": [
                      {
                        "marker": {
                          "colorbar": {
                            "outlinewidth": 0,
                            "ticks": ""
                          }
                        },
                        "type": "scatterpolargl"
                      }
                    ],
                    "scatterternary": [
                      {
                        "marker": {
                          "colorbar": {
                            "outlinewidth": 0,
                            "ticks": ""
                          }
                        },
                        "type": "scatterternary"
                      }
                    ],
                    "surface": [
                      {
                        "colorbar": {
                          "outlinewidth": 0,
                          "ticks": ""
                        },
                        "colorscale": [
                          [
                            0,
                            "#0d0887"
                          ],
                          [
                            0.1111111111111111,
                            "#46039f"
                          ],
                          [
                            0.2222222222222222,
                            "#7201a8"
                          ],
                          [
                            0.3333333333333333,
                            "#9c179e"
                          ],
                          [
                            0.4444444444444444,
                            "#bd3786"
                          ],
                          [
                            0.5555555555555556,
                            "#d8576b"
                          ],
                          [
                            0.6666666666666666,
                            "#ed7953"
                          ],
                          [
                            0.7777777777777778,
                            "#fb9f3a"
                          ],
                          [
                            0.8888888888888888,
                            "#fdca26"
                          ],
                          [
                            1,
                            "#f0f921"
                          ]
                        ],
                        "type": "surface"
                      }
                    ],
                    "table": [
                      {
                        "cells": {
                          "fill": {
                            "color": "#EBF0F8"
                          },
                          "line": {
                            "color": "white"
                          }
                        },
                        "header": {
                          "fill": {
                            "color": "#C8D4E3"
                          },
                          "line": {
                            "color": "white"
                          }
                        },
                        "type": "table"
                      }
                    ]
                  },
                  "layout": {
                    "annotationdefaults": {
                      "arrowcolor": "#2a3f5f",
                      "arrowhead": 0,
                      "arrowwidth": 1
                    },
                    "autotypenumbers": "strict",
                    "coloraxis": {
                      "colorbar": {
                        "outlinewidth": 0,
                        "ticks": ""
                      }
                    },
                    "colorscale": {
                      "diverging": [
                        [
                          0,
                          "#8e0152"
                        ],
                        [
                          0.1,
                          "#c51b7d"
                        ],
                        [
                          0.2,
                          "#de77ae"
                        ],
                        [
                          0.3,
                          "#f1b6da"
                        ],
                        [
                          0.4,
                          "#fde0ef"
                        ],
                        [
                          0.5,
                          "#f7f7f7"
                        ],
                        [
                          0.6,
                          "#e6f5d0"
                        ],
                        [
                          0.7,
                          "#b8e186"
                        ],
                        [
                          0.8,
                          "#7fbc41"
                        ],
                        [
                          0.9,
                          "#4d9221"
                        ],
                        [
                          1,
                          "#276419"
                        ]
                      ],
                      "sequential": [
                        [
                          0,
                          "#0d0887"
                        ],
                        [
                          0.1111111111111111,
                          "#46039f"
                        ],
                        [
                          0.2222222222222222,
                          "#7201a8"
                        ],
                        [
                          0.3333333333333333,
                          "#9c179e"
                        ],
                        [
                          0.4444444444444444,
                          "#bd3786"
                        ],
                        [
                          0.5555555555555556,
                          "#d8576b"
                        ],
                        [
                          0.6666666666666666,
                          "#ed7953"
                        ],
                        [
                          0.7777777777777778,
                          "#fb9f3a"
                        ],
                        [
                          0.8888888888888888,
                          "#fdca26"
                        ],
                        [
                          1,
                          "#f0f921"
                        ]
                      ],
                      "sequentialminus": [
                        [
                          0,
                          "#0d0887"
                        ],
                        [
                          0.1111111111111111,
                          "#46039f"
                        ],
                        [
                          0.2222222222222222,
                          "#7201a8"
                        ],
                        [
                          0.3333333333333333,
                          "#9c179e"
                        ],
                        [
                          0.4444444444444444,
                          "#bd3786"
                        ],
                        [
                          0.5555555555555556,
                          "#d8576b"
                        ],
                        [
                          0.6666666666666666,
                          "#ed7953"
                        ],
                        [
                          0.7777777777777778,
                          "#fb9f3a"
                        ],
                        [
                          0.8888888888888888,
                          "#fdca26"
                        ],
                        [
                          1,
                          "#f0f921"
                        ]
                      ]
                    },
                    "colorway": [
                      "#636efa",
                      "#EF553B",
                      "#00cc96",
                      "#ab63fa",
                      "#FFA15A",
                      "#19d3f3",
                      "#FF6692",
                      "#B6E880",
                      "#FF97FF",
                      "#FECB52"
                    ],
                    "font": {
                      "color": "#2a3f5f"
                    },
                    "geo": {
                      "bgcolor": "white",
                      "lakecolor": "white",
                      "landcolor": "#E5ECF6",
                      "showlakes": true,
                      "showland": true,
                      "subunitcolor": "white"
                    },
                    "hoverlabel": {
                      "align": "left"
                    },
                    "hovermode": "closest",
                    "mapbox": {
                      "style": "light"
                    },
                    "paper_bgcolor": "white",
                    "plot_bgcolor": "#E5ECF6",
                    "polar": {
                      "angularaxis": {
                        "gridcolor": "white",
                        "linecolor": "white",
                        "ticks": ""
                      },
                      "bgcolor": "#E5ECF6",
                      "radialaxis": {
                        "gridcolor": "white",
                        "linecolor": "white",
                        "ticks": ""
                      }
                    },
                    "scene": {
                      "xaxis": {
                        "backgroundcolor": "#E5ECF6",
                        "gridcolor": "white",
                        "gridwidth": 2,
                        "linecolor": "white",
                        "showbackground": true,
                        "ticks": "",
                        "zerolinecolor": "white"
                      },
                      "yaxis": {
                        "backgroundcolor": "#E5ECF6",
                        "gridcolor": "white",
                        "gridwidth": 2,
                        "linecolor": "white",
                        "showbackground": true,
                        "ticks": "",
                        "zerolinecolor": "white"
                      },
                      "zaxis": {
                        "backgroundcolor": "#E5ECF6",
                        "gridcolor": "white",
                        "gridwidth": 2,
                        "linecolor": "white",
                        "showbackground": true,
                        "ticks": "",
                        "zerolinecolor": "white"
                      }
                    },
                    "shapedefaults": {
                      "line": {
                        "color": "#2a3f5f"
                      }
                    },
                    "ternary": {
                      "aaxis": {
                        "gridcolor": "white",
                        "linecolor": "white",
                        "ticks": ""
                      },
                      "baxis": {
                        "gridcolor": "white",
                        "linecolor": "white",
                        "ticks": ""
                      },
                      "bgcolor": "#E5ECF6",
                      "caxis": {
                        "gridcolor": "white",
                        "linecolor": "white",
                        "ticks": ""
                      }
                    },
                    "title": {
                      "x": 0.05
                    },
                    "xaxis": {
                      "automargin": true,
                      "gridcolor": "white",
                      "linecolor": "white",
                      "ticks": "",
                      "title": {
                        "standoff": 15
                      },
                      "zerolinecolor": "white",
                      "zerolinewidth": 2
                    },
                    "yaxis": {
                      "automargin": true,
                      "gridcolor": "white",
                      "linecolor": "white",
                      "ticks": "",
                      "title": {
                        "standoff": 15
                      },
                      "zerolinecolor": "white",
                      "zerolinewidth": 2
                    }
                  }
                },
                "title": {
                  "font": {
                    "color": "#fefeff"
                  },
                  "text": "Training and Validation Accuracy by Epoch",
                  "x": 0.5
                },
                "width": 600,
                "xaxis": {
                  "autorange": true,
                  "categoryorder": "category ascending",
                  "gridcolor": "#45464d",
                  "linecolor": "#8f8f94",
                  "range": [
                    1,
                    10
                  ],
                  "tickfont": {
                    "color": "#8f8f94"
                  },
                  "title": {
                    "font": {
                      "color": "#fefeff"
                    },
                    "text": "Epoch"
                  },
                  "type": "linear"
                },
                "yaxis": {
                  "autorange": true,
                  "categoryorder": "category ascending",
                  "gridcolor": "#45464d",
                  "linecolor": "#8f8f94",
                  "range": [
                    0.4943366547425588,
                    0.8664033512274424
                  ],
                  "tickcolor": "#252b33",
                  "tickfont": {
                    "color": "#8f8f94"
                  },
                  "ticklen": 5,
                  "ticks": "outside",
                  "title": {
                    "font": {
                      "color": "#fefeff"
                    },
                    "standoff": 5,
                    "text": "Accuracy"
                  },
                  "type": "linear"
                }
              }
            },
            "image/png": "[encoded data removed]",
            "text/html": [
              "<div>                            <div id=\"a9a860b0-5752-491b-b0c4-99bac95815e1\" class=\"plotly-graph-div\" style=\"height:350px; width:600px;\"></div>            <script type=\"text/javascript\">                require([\"plotly\"], function(Plotly) {                    window.PLOTLYENV=window.PLOTLYENV || {};                                    if (document.getElementById(\"a9a860b0-5752-491b-b0c4-99bac95815e1\")) {                    Plotly.newPlot(                        \"a9a860b0-5752-491b-b0c4-99bac95815e1\",                        [{\"line\":{\"color\":\"#089389\"},\"mode\":\"lines\",\"name\":\"Training Accuracy\",\"x\":[1,2,3,4,5,6,7,8,9,10],\"y\":[0.512939989566803,0.658840000629425,0.710860013961792,0.7447199821472168,0.7679600119590759,0.791379988193512,0.8085799813270569,0.8219799995422363,0.8339999914169312,0.8478000164031982],\"type\":\"scatter\"},{\"line\":{\"color\":\"#d34748\"},\"mode\":\"lines\",\"name\":\"Validation Accuracy\",\"x\":[1,2,3,4,5,6,7,8,9,10],\"y\":[0.5638999938964844,0.6328999996185303,0.7139000296592712,0.7179999947547913,0.7224000096321106,0.7537000179290771,0.7494999766349792,0.7251999974250793,0.7461000084877014,0.765999972820282],\"type\":\"scatter\"}],                        {\"template\":{\"data\":{\"histogram2dcontour\":[{\"type\":\"histogram2dcontour\",\"colorbar\":{\"outlinewidth\":0,\"ticks\":\"\"},\"colorscale\":[[0.0,\"#0d0887\"],[0.1111111111111111,\"#46039f\"],[0.2222222222222222,\"#7201a8\"],[0.3333333333333333,\"#9c179e\"],[0.4444444444444444,\"#bd3786\"],[0.5555555555555556,\"#d8576b\"],[0.6666666666666666,\"#ed7953\"],[0.7777777777777778,\"#fb9f3a\"],[0.8888888888888888,\"#fdca26\"],[1.0,\"#f0f921\"]]}],\"choropleth\":[{\"type\":\"choropleth\",\"colorbar\":{\"outlinewidth\":0,\"ticks\":\"\"}}],\"histogram2d\":[{\"type\":\"histogram2d\",\"colorbar\":{\"outlinewidth\":0,\"ticks\":\"\"},\"colorscale\":[[0.0,\"#0d0887\"],[0.1111111111111111,\"#46039f\"],[0.2222222222222222,\"#7201a8\"],[0.3333333333333333,\"#9c179e\"],[0.4444444444444444,\"#bd3786\"],[0.5555555555555556,\"#d8576b\"],[0.6666666666666666,\"#ed7953\"],[0.7777777777777778,\"#fb9f3a\"],[0.8888888888888888,\"#fdca26\"],[1.0,\"#f0f921\"]]}],\"heatmap\":[{\"type\":\"heatmap\",\"colorbar\":{\"outlinewidth\":0,\"ticks\":\"\"},\"colorscale\":[[0.0,\"#0d0887\"],[0.1111111111111111,\"#46039f\"],[0.2222222222222222,\"#7201a8\"],[0.3333333333333333,\"#9c179e\"],[0.4444444444444444,\"#bd3786\"],[0.5555555555555556,\"#d8576b\"],[0.6666666666666666,\"#ed7953\"],[0.7777777777777778,\"#fb9f3a\"],[0.8888888888888888,\"#fdca26\"],[1.0,\"#f0f921\"]]}],\"heatmapgl\":[{\"type\":\"heatmapgl\",\"colorbar\":{\"outlinewidth\":0,\"ticks\":\"\"},\"colorscale\":[[0.0,\"#0d0887\"],[0.1111111111111111,\"#46039f\"],[0.2222222222222222,\"#7201a8\"],[0.3333333333333333,\"#9c179e\"],[0.4444444444444444,\"#bd3786\"],[0.5555555555555556,\"#d8576b\"],[0.6666666666666666,\"#ed7953\"],[0.7777777777777778,\"#fb9f3a\"],[0.8888888888888888,\"#fdca26\"],[1.0,\"#f0f921\"]]}],\"contourcarpet\":[{\"type\":\"contourcarpet\",\"colorbar\":{\"outlinewidth\":0,\"ticks\":\"\"}}],\"contour\":[{\"type\":\"contour\",\"colorbar\":{\"outlinewidth\":0,\"ticks\":\"\"},\"colorscale\":[[0.0,\"#0d0887\"],[0.1111111111111111,\"#46039f\"],[0.2222222222222222,\"#7201a8\"],[0.3333333333333333,\"#9c179e\"],[0.4444444444444444,\"#bd3786\"],[0.5555555555555556,\"#d8576b\"],[0.6666666666666666,\"#ed7953\"],[0.7777777777777778,\"#fb9f3a\"],[0.8888888888888888,\"#fdca26\"],[1.0,\"#f0f921\"]]}],\"surface\":[{\"type\":\"surface\",\"colorbar\":{\"outlinewidth\":0,\"ticks\":\"\"},\"colorscale\":[[0.0,\"#0d0887\"],[0.1111111111111111,\"#46039f\"],[0.2222222222222222,\"#7201a8\"],[0.3333333333333333,\"#9c179e\"],[0.4444444444444444,\"#bd3786\"],[0.5555555555555556,\"#d8576b\"],[0.6666666666666666,\"#ed7953\"],[0.7777777777777778,\"#fb9f3a\"],[0.8888888888888888,\"#fdca26\"],[1.0,\"#f0f921\"]]}],\"mesh3d\":[{\"type\":\"mesh3d\",\"colorbar\":{\"outlinewidth\":0,\"ticks\":\"\"}}],\"scatter\":[{\"fillpattern\":{\"fillmode\":\"overlay\",\"size\":10,\"solidity\":0.2},\"type\":\"scatter\"}],\"parcoords\":[{\"type\":\"parcoords\",\"line\":{\"colorbar\":{\"outlinewidth\":0,\"ticks\":\"\"}}}],\"scatterpolargl\":[{\"type\":\"scatterpolargl\",\"marker\":{\"colorbar\":{\"outlinewidth\":0,\"ticks\":\"\"}}}],\"bar\":[{\"error_x\":{\"color\":\"#2a3f5f\"},\"error_y\":{\"color\":\"#2a3f5f\"},\"marker\":{\"line\":{\"color\":\"#E5ECF6\",\"width\":0.5},\"pattern\":{\"fillmode\":\"overlay\",\"size\":10,\"solidity\":0.2}},\"type\":\"bar\"}],\"scattergeo\":[{\"type\":\"scattergeo\",\"marker\":{\"colorbar\":{\"outlinewidth\":0,\"ticks\":\"\"}}}],\"scatterpolar\":[{\"type\":\"scatterpolar\",\"marker\":{\"colorbar\":{\"outlinewidth\":0,\"ticks\":\"\"}}}],\"histogram\":[{\"marker\":{\"pattern\":{\"fillmode\":\"overlay\",\"size\":10,\"solidity\":0.2}},\"type\":\"histogram\"}],\"scattergl\":[{\"type\":\"scattergl\",\"marker\":{\"colorbar\":{\"outlinewidth\":0,\"ticks\":\"\"}}}],\"scatter3d\":[{\"type\":\"scatter3d\",\"line\":{\"colorbar\":{\"outlinewidth\":0,\"ticks\":\"\"}},\"marker\":{\"colorbar\":{\"outlinewidth\":0,\"ticks\":\"\"}}}],\"scattermapbox\":[{\"type\":\"scattermapbox\",\"marker\":{\"colorbar\":{\"outlinewidth\":0,\"ticks\":\"\"}}}],\"scatterternary\":[{\"type\":\"scatterternary\",\"marker\":{\"colorbar\":{\"outlinewidth\":0,\"ticks\":\"\"}}}],\"scattercarpet\":[{\"type\":\"scattercarpet\",\"marker\":{\"colorbar\":{\"outlinewidth\":0,\"ticks\":\"\"}}}],\"carpet\":[{\"aaxis\":{\"endlinecolor\":\"#2a3f5f\",\"gridcolor\":\"white\",\"linecolor\":\"white\",\"minorgridcolor\":\"white\",\"startlinecolor\":\"#2a3f5f\"},\"baxis\":{\"endlinecolor\":\"#2a3f5f\",\"gridcolor\":\"white\",\"linecolor\":\"white\",\"minorgridcolor\":\"white\",\"startlinecolor\":\"#2a3f5f\"},\"type\":\"carpet\"}],\"table\":[{\"cells\":{\"fill\":{\"color\":\"#EBF0F8\"},\"line\":{\"color\":\"white\"}},\"header\":{\"fill\":{\"color\":\"#C8D4E3\"},\"line\":{\"color\":\"white\"}},\"type\":\"table\"}],\"barpolar\":[{\"marker\":{\"line\":{\"color\":\"#E5ECF6\",\"width\":0.5},\"pattern\":{\"fillmode\":\"overlay\",\"size\":10,\"solidity\":0.2}},\"type\":\"barpolar\"}],\"pie\":[{\"automargin\":true,\"type\":\"pie\"}]},\"layout\":{\"autotypenumbers\":\"strict\",\"colorway\":[\"#636efa\",\"#EF553B\",\"#00cc96\",\"#ab63fa\",\"#FFA15A\",\"#19d3f3\",\"#FF6692\",\"#B6E880\",\"#FF97FF\",\"#FECB52\"],\"font\":{\"color\":\"#2a3f5f\"},\"hovermode\":\"closest\",\"hoverlabel\":{\"align\":\"left\"},\"paper_bgcolor\":\"white\",\"plot_bgcolor\":\"#E5ECF6\",\"polar\":{\"bgcolor\":\"#E5ECF6\",\"angularaxis\":{\"gridcolor\":\"white\",\"linecolor\":\"white\",\"ticks\":\"\"},\"radialaxis\":{\"gridcolor\":\"white\",\"linecolor\":\"white\",\"ticks\":\"\"}},\"ternary\":{\"bgcolor\":\"#E5ECF6\",\"aaxis\":{\"gridcolor\":\"white\",\"linecolor\":\"white\",\"ticks\":\"\"},\"baxis\":{\"gridcolor\":\"white\",\"linecolor\":\"white\",\"ticks\":\"\"},\"caxis\":{\"gridcolor\":\"white\",\"linecolor\":\"white\",\"ticks\":\"\"}},\"coloraxis\":{\"colorbar\":{\"outlinewidth\":0,\"ticks\":\"\"}},\"colorscale\":{\"sequential\":[[0.0,\"#0d0887\"],[0.1111111111111111,\"#46039f\"],[0.2222222222222222,\"#7201a8\"],[0.3333333333333333,\"#9c179e\"],[0.4444444444444444,\"#bd3786\"],[0.5555555555555556,\"#d8576b\"],[0.6666666666666666,\"#ed7953\"],[0.7777777777777778,\"#fb9f3a\"],[0.8888888888888888,\"#fdca26\"],[1.0,\"#f0f921\"]],\"sequentialminus\":[[0.0,\"#0d0887\"],[0.1111111111111111,\"#46039f\"],[0.2222222222222222,\"#7201a8\"],[0.3333333333333333,\"#9c179e\"],[0.4444444444444444,\"#bd3786\"],[0.5555555555555556,\"#d8576b\"],[0.6666666666666666,\"#ed7953\"],[0.7777777777777778,\"#fb9f3a\"],[0.8888888888888888,\"#fdca26\"],[1.0,\"#f0f921\"]],\"diverging\":[[0,\"#8e0152\"],[0.1,\"#c51b7d\"],[0.2,\"#de77ae\"],[0.3,\"#f1b6da\"],[0.4,\"#fde0ef\"],[0.5,\"#f7f7f7\"],[0.6,\"#e6f5d0\"],[0.7,\"#b8e186\"],[0.8,\"#7fbc41\"],[0.9,\"#4d9221\"],[1,\"#276419\"]]},\"xaxis\":{\"gridcolor\":\"white\",\"linecolor\":\"white\",\"ticks\":\"\",\"title\":{\"standoff\":15},\"zerolinecolor\":\"white\",\"automargin\":true,\"zerolinewidth\":2},\"yaxis\":{\"gridcolor\":\"white\",\"linecolor\":\"white\",\"ticks\":\"\",\"title\":{\"standoff\":15},\"zerolinecolor\":\"white\",\"automargin\":true,\"zerolinewidth\":2},\"scene\":{\"xaxis\":{\"backgroundcolor\":\"#E5ECF6\",\"gridcolor\":\"white\",\"linecolor\":\"white\",\"showbackground\":true,\"ticks\":\"\",\"zerolinecolor\":\"white\",\"gridwidth\":2},\"yaxis\":{\"backgroundcolor\":\"#E5ECF6\",\"gridcolor\":\"white\",\"linecolor\":\"white\",\"showbackground\":true,\"ticks\":\"\",\"zerolinecolor\":\"white\",\"gridwidth\":2},\"zaxis\":{\"backgroundcolor\":\"#E5ECF6\",\"gridcolor\":\"white\",\"linecolor\":\"white\",\"showbackground\":true,\"ticks\":\"\",\"zerolinecolor\":\"white\",\"gridwidth\":2}},\"shapedefaults\":{\"line\":{\"color\":\"#2a3f5f\"}},\"annotationdefaults\":{\"arrowcolor\":\"#2a3f5f\",\"arrowhead\":0,\"arrowwidth\":1},\"geo\":{\"bgcolor\":\"white\",\"landcolor\":\"#E5ECF6\",\"subunitcolor\":\"white\",\"showland\":true,\"showlakes\":true,\"lakecolor\":\"white\"},\"title\":{\"x\":0.05},\"mapbox\":{\"style\":\"light\"}}},\"legend\":{\"x\":0.7,\"y\":0.5,\"font\":{\"color\":\"#8f8f94\"}},\"title\":{\"text\":\"Training and Validation Accuracy by Epoch\",\"font\":{\"color\":\"#fefeff\"},\"x\":0.5},\"xaxis\":{\"title\":{\"text\":\"Epoch\",\"font\":{\"color\":\"#fefeff\"}},\"tickfont\":{\"color\":\"#8f8f94\"},\"gridcolor\":\"#45464d\",\"linecolor\":\"#8f8f94\",\"categoryorder\":\"category ascending\"},\"yaxis\":{\"title\":{\"text\":\"Accuracy\",\"font\":{\"color\":\"#fefeff\"},\"standoff\":5},\"tickfont\":{\"color\":\"#8f8f94\"},\"gridcolor\":\"#45464d\",\"linecolor\":\"#8f8f94\",\"categoryorder\":\"category ascending\",\"ticks\":\"outside\",\"tickcolor\":\"#252b33\",\"ticklen\":5},\"height\":350,\"width\":600,\"margin\":{\"l\":80,\"r\":20,\"t\":40,\"b\":20},\"plot_bgcolor\":\"#252b33\",\"paper_bgcolor\":\"#252b33\"},                        {\"responsive\": true}                    ).then(function(){\n",
              "                            \n",
              "var gd = document.getElementById('a9a860b0-5752-491b-b0c4-99bac95815e1');\n",
              "var x = new MutationObserver(function (mutations, observer) {{\n",
              "        var display = window.getComputedStyle(gd).display;\n",
              "        if (!display || display === 'none') {{\n",
              "            console.log([gd, 'removed!']);\n",
              "            Plotly.purge(gd);\n",
              "            observer.disconnect();\n",
              "        }}\n",
              "}});\n",
              "\n",
              "// Listen for the removal of the full notebook cells\n",
              "var notebookContainer = gd.closest('#notebook-container');\n",
              "if (notebookContainer) {{\n",
              "    x.observe(notebookContainer, {childList: true});\n",
              "}}\n",
              "\n",
              "// Listen for the clearing of the current output cell\n",
              "var outputEl = gd.closest('.output');\n",
              "if (outputEl) {{\n",
              "    x.observe(outputEl, {childList: true});\n",
              "}}\n",
              "\n",
              "                        })                };                });            </script>        </div>"
            ]
          },
          "metadata": {},
          "output_type": "display_data"
        }
      ],
      "source": [
        "# Plot data to see relationships between training and validation data\n",
        "fig = go.Figure()\n",
        "fig.add_trace(go.Scatter(\n",
        "    x=epoch_list, y=hist.history[\"accuracy\"],\n",
        "    mode=\"lines\", name=\"Training Accuracy\", line=dict(color=palette[\"green\"])))\n",
        "fig.add_trace(go.Scatter(\n",
        "    x=epoch_list, y=hist.history[\"val_accuracy\"],\n",
        "    mode=\"lines\", name=\"Validation Accuracy\", line=dict(color=palette[\"red\"])))\n",
        "\n",
        "fig.update_layout(\n",
        "    title=\"Training and Validation Accuracy by Epoch\",\n",
        "    xaxis=dict(title=\"Epoch\"), yaxis=dict(title=\"Accuracy\"),\n",
        "    height=350, width=600, legend=dict(x=0.7, y=0.5))\n",
        "\n",
        "format_plot(fig)\n",
        "fig.show()"
      ]
    },
    {
      "cell_type": "code",
      "execution_count": null,
      "id": "b1eb1b10-1a0c-43e6-80f5-9ffab595db56",
      "metadata": {
        "id": "b1eb1b10-1a0c-43e6-80f5-9ffab595db56",
        "outputId": "337e7f92-ee3c-45e5-a12e-114e3a094ffb"
      },
      "outputs": [
        {
          "name": "stdout",
          "output_type": "stream",
          "text": [
            "Model: \"sequential_2\"\n",
            "_________________________________________________________________\n",
            " Layer (type)                Output Shape              Param #   \n",
            "=================================================================\n",
            " conv2d_6 (Conv2D)           (None, 30, 30, 64)        1792      \n",
            "                                                                 \n",
            " batch_normalization_3 (Bat  (None, 30, 30, 64)        256       \n",
            " chNormalization)                                                \n",
            "                                                                 \n",
            " conv2d_7 (Conv2D)           (None, 28, 28, 32)        18464     \n",
            "                                                                 \n",
            " batch_normalization_4 (Bat  (None, 28, 28, 32)        128       \n",
            " chNormalization)                                                \n",
            "                                                                 \n",
            " max_pooling2d_4 (MaxPoolin  (None, 14, 14, 32)        0         \n",
            " g2D)                                                            \n",
            "                                                                 \n",
            " dropout_4 (Dropout)         (None, 14, 14, 32)        0         \n",
            "                                                                 \n",
            " conv2d_8 (Conv2D)           (None, 12, 12, 32)        9248      \n",
            "                                                                 \n",
            " batch_normalization_5 (Bat  (None, 12, 12, 32)        128       \n",
            " chNormalization)                                                \n",
            "                                                                 \n",
            " max_pooling2d_5 (MaxPoolin  (None, 6, 6, 32)          0         \n",
            " g2D)                                                            \n",
            "                                                                 \n",
            " dropout_5 (Dropout)         (None, 6, 6, 32)          0         \n",
            "                                                                 \n",
            " flatten_2 (Flatten)         (None, 1152)              0         \n",
            "                                                                 \n",
            " dense_6 (Dense)             (None, 256)               295168    \n",
            "                                                                 \n",
            " dense_7 (Dense)             (None, 128)               32896     \n",
            "                                                                 \n",
            " dense_8 (Dense)             (None, 10)                1290      \n",
            "                                                                 \n",
            "=================================================================\n",
            "Total params: 359370 (1.37 MB)\n",
            "Trainable params: 359114 (1.37 MB)\n",
            "Non-trainable params: 256 (1.00 KB)\n",
            "_________________________________________________________________\n"
          ]
        }
      ],
      "source": [
        "model.summary()"
      ]
    },
    {
      "cell_type": "markdown",
      "id": "5f41a231-49ff-46b1-a6e3-cff36d63e48a",
      "metadata": {
        "id": "5f41a231-49ff-46b1-a6e3-cff36d63e48a"
      },
      "source": [
        "## Model 2 - SGD\n",
        "\n",
        "### Prepare model for training"
      ]
    },
    {
      "cell_type": "code",
      "execution_count": null,
      "id": "c4a34214-808a-48c8-a215-86681823565e",
      "metadata": {
        "id": "c4a34214-808a-48c8-a215-86681823565e"
      },
      "outputs": [],
      "source": [
        "# Initialise the model\n",
        "model_2 = Sequential()"
      ]
    },
    {
      "cell_type": "code",
      "execution_count": null,
      "id": "2b24ec57-35a4-4fcc-9f09-af01561e62f5",
      "metadata": {
        "id": "2b24ec57-35a4-4fcc-9f09-af01561e62f5",
        "outputId": "e21eaf7b-e01a-4678-840a-e58b802da485"
      },
      "outputs": [
        {
          "data": {
            "text/plain": [
              "10"
            ]
          },
          "execution_count": 189,
          "metadata": {},
          "output_type": "execute_result"
        }
      ],
      "source": [
        "num_classes"
      ]
    },
    {
      "cell_type": "code",
      "execution_count": null,
      "id": "b3f2e36d-e650-4007-b012-7576fe6f3d7b",
      "metadata": {
        "id": "b3f2e36d-e650-4007-b012-7576fe6f3d7b",
        "outputId": "59870358-02a3-428e-f664-e5b21082c427"
      },
      "outputs": [
        {
          "data": {
            "text/plain": [
              "(32, 32, 3)"
            ]
          },
          "execution_count": 190,
          "metadata": {},
          "output_type": "execute_result"
        }
      ],
      "source": [
        "input_shape"
      ]
    },
    {
      "cell_type": "code",
      "execution_count": null,
      "id": "10dc1f36-d189-437e-a04d-ec918f256806",
      "metadata": {
        "id": "10dc1f36-d189-437e-a04d-ec918f256806"
      },
      "outputs": [],
      "source": [
        "# Create CNN to classify images\n",
        "model_2.add(Conv2D(32, kernel_size=(3, 3), activation=\"relu\", kernel_initializer=\"he_uniform\", padding=\"same\", input_shape=input_shape))\n",
        "model_2.add(BatchNormalization())\n",
        "model_2.add(Conv2D(32, kernel_size=(3, 3), activation=\"relu\", kernel_initializer=\"he_uniform\", padding=\"same\"))\n",
        "model_2.add(BatchNormalization())\n",
        "model_2.add(MaxPooling2D(pool_size=(2, 2)))\n",
        "model_2.add(Dropout(0.25))\n",
        "# Second convolution block\n",
        "model_2.add(Conv2D(64, kernel_size=(3, 3), activation=\"relu\", kernel_initializer=\"he_uniform\", padding=\"same\"))\n",
        "model_2.add(BatchNormalization())\n",
        "model_2.add(Conv2D(64, kernel_size=(3, 3), activation=\"relu\", kernel_initializer=\"he_uniform\", padding=\"same\"))\n",
        "model_2.add(BatchNormalization())\n",
        "model_2.add(MaxPooling2D(pool_size=(2, 2)))\n",
        "model_2.add(Dropout(0.5))\n",
        "# Third convolution block\n",
        "model_2.add(Conv2D(128, kernel_size=(3, 3), activation=\"relu\", kernel_initializer=\"he_uniform\", padding=\"same\"))\n",
        "model_2.add(BatchNormalization())\n",
        "model_2.add(Conv2D(128, kernel_size=(3, 3), activation=\"relu\", kernel_initializer=\"he_uniform\", padding=\"same\"))\n",
        "model_2.add(BatchNormalization())\n",
        "model_2.add(MaxPooling2D(pool_size=(2, 2)))\n",
        "model_2.add(Dropout(0.25))\n",
        "# Classification block\n",
        "model_2.add(Flatten())\n",
        "# model_2.add(Dense(256, activation=\"relu\", kernel_initializer=\"he_uniform\"))\n",
        "# model_2.add(BatchNormalization())\n",
        "# model_2.add(Dropout(0.5))\n",
        "model_2.add(Dense(128, activation=\"relu\", kernel_initializer=\"he_uniform\"))\n",
        "model_2.add(BatchNormalization())\n",
        "model_2.add(Dropout(0.5))\n",
        "model_2.add(Dense(num_classes, activation=\"softmax\"))"
      ]
    },
    {
      "cell_type": "markdown",
      "id": "d30330e2-aebd-4c05-81c5-ab40ee4654fe",
      "metadata": {
        "id": "d30330e2-aebd-4c05-81c5-ab40ee4654fe"
      },
      "source": [
        "### Compile the CNN"
      ]
    },
    {
      "cell_type": "code",
      "execution_count": null,
      "id": "7050a64e-ec08-4ae1-834f-f381c10e6fc9",
      "metadata": {
        "id": "7050a64e-ec08-4ae1-834f-f381c10e6fc9"
      },
      "outputs": [],
      "source": [
        "# Define compile to minimise categorical loss, use ada delta optimized, and optimize to maXimizing accuracy\n",
        "model_2.compile(loss=keras.losses.categorical_crossentropy,\n",
        "              optimizer=keras.optimizers.SGD(learning_rate=0.01, momentum=0.9),\n",
        "              metrics=[\"accuracy\"])"
      ]
    },
    {
      "cell_type": "markdown",
      "id": "8552a65a-a753-40a9-a674-88ebe56d68fa",
      "metadata": {
        "id": "8552a65a-a753-40a9-a674-88ebe56d68fa"
      },
      "source": [
        "### Train the model"
      ]
    },
    {
      "cell_type": "code",
      "execution_count": null,
      "id": "71f94e67-46a6-44e7-a37e-58f5bdb357e7",
      "metadata": {
        "id": "71f94e67-46a6-44e7-a37e-58f5bdb357e7"
      },
      "outputs": [],
      "source": [
        "batch_size = 64\n",
        "epochs = 20"
      ]
    },
    {
      "cell_type": "code",
      "execution_count": null,
      "id": "4169aa86-2ce1-41ad-bb7e-23a1b0abb71e",
      "metadata": {
        "id": "4169aa86-2ce1-41ad-bb7e-23a1b0abb71e",
        "outputId": "a5dcf640-1ec6-44e1-b0dd-8cb2ba76ff8b"
      },
      "outputs": [
        {
          "name": "stdout",
          "output_type": "stream",
          "text": [
            "Epoch 1/20\n",
            "782/782 [==============================] - 152s 192ms/step - loss: 1.5753 - accuracy: 0.4346 - val_loss: 1.4741 - val_accuracy: 0.4633\n",
            "Epoch 2/20\n",
            "782/782 [==============================] - 138s 176ms/step - loss: 1.2019 - accuracy: 0.5686 - val_loss: 1.0154 - val_accuracy: 0.6401\n",
            "Epoch 3/20\n",
            "782/782 [==============================] - 141s 181ms/step - loss: 1.0386 - accuracy: 0.6299 - val_loss: 0.9143 - val_accuracy: 0.6763\n",
            "Epoch 4/20\n",
            "782/782 [==============================] - 141s 180ms/step - loss: 0.9277 - accuracy: 0.6737 - val_loss: 0.9127 - val_accuracy: 0.6819\n",
            "Epoch 5/20\n",
            "782/782 [==============================] - 144s 184ms/step - loss: 0.8559 - accuracy: 0.7006 - val_loss: 0.8762 - val_accuracy: 0.6980\n",
            "Epoch 6/20\n",
            "782/782 [==============================] - 136s 174ms/step - loss: 0.8050 - accuracy: 0.7165 - val_loss: 0.7841 - val_accuracy: 0.7259\n",
            "Epoch 7/20\n",
            "782/782 [==============================] - 129s 165ms/step - loss: 0.7669 - accuracy: 0.7305 - val_loss: 0.6852 - val_accuracy: 0.7605\n",
            "Epoch 8/20\n",
            "782/782 [==============================] - 136s 174ms/step - loss: 0.7303 - accuracy: 0.7447 - val_loss: 0.7011 - val_accuracy: 0.7584\n",
            "Epoch 9/20\n",
            "782/782 [==============================] - 124s 159ms/step - loss: 0.6957 - accuracy: 0.7585 - val_loss: 0.6761 - val_accuracy: 0.7681\n",
            "Epoch 10/20\n",
            "782/782 [==============================] - 124s 159ms/step - loss: 0.6683 - accuracy: 0.7664 - val_loss: 0.6450 - val_accuracy: 0.7758\n",
            "Epoch 11/20\n",
            "782/782 [==============================] - 123s 157ms/step - loss: 0.6487 - accuracy: 0.7746 - val_loss: 0.7677 - val_accuracy: 0.7434\n",
            "Epoch 12/20\n",
            "782/782 [==============================] - 125s 160ms/step - loss: 0.6155 - accuracy: 0.7871 - val_loss: 0.6197 - val_accuracy: 0.7871\n",
            "Epoch 13/20\n",
            "782/782 [==============================] - 140s 179ms/step - loss: 0.6044 - accuracy: 0.7901 - val_loss: 0.5640 - val_accuracy: 0.8086\n",
            "Epoch 14/20\n",
            "782/782 [==============================] - 139s 178ms/step - loss: 0.5833 - accuracy: 0.7977 - val_loss: 0.6252 - val_accuracy: 0.7838\n",
            "Epoch 15/20\n",
            "782/782 [==============================] - 141s 181ms/step - loss: 0.5652 - accuracy: 0.8030 - val_loss: 0.5975 - val_accuracy: 0.7986\n",
            "Epoch 16/20\n",
            "782/782 [==============================] - 141s 181ms/step - loss: 0.5535 - accuracy: 0.8095 - val_loss: 0.5408 - val_accuracy: 0.8176\n",
            "Epoch 17/20\n",
            "782/782 [==============================] - 136s 174ms/step - loss: 0.5377 - accuracy: 0.8148 - val_loss: 0.5938 - val_accuracy: 0.8040\n",
            "Epoch 18/20\n",
            "782/782 [==============================] - 137s 176ms/step - loss: 0.5179 - accuracy: 0.8213 - val_loss: 0.6385 - val_accuracy: 0.7871\n",
            "Epoch 19/20\n",
            "782/782 [==============================] - 145s 186ms/step - loss: 0.5086 - accuracy: 0.8252 - val_loss: 0.5117 - val_accuracy: 0.8281\n",
            "Epoch 20/20\n",
            "782/782 [==============================] - 127s 163ms/step - loss: 0.5002 - accuracy: 0.8273 - val_loss: 0.5228 - val_accuracy: 0.8271\n"
          ]
        }
      ],
      "source": [
        "# Return history of loss and accuracy for each epoch\n",
        "hist = model_2.fit(X_train, y_train,\n",
        "          batch_size=batch_size,\n",
        "          epochs=epochs,\n",
        "          verbose=1,\n",
        "          validation_data=(X_test, y_test))"
      ]
    },
    {
      "cell_type": "code",
      "execution_count": null,
      "id": "6205e8e9-834e-4cf8-a3fa-87560e9afd04",
      "metadata": {
        "id": "6205e8e9-834e-4cf8-a3fa-87560e9afd04"
      },
      "outputs": [],
      "source": [
        "# Get per-epoch data from history\n",
        "epoch_list = list(range(1, len(hist.history[\"accuracy\"]) + 1))  # values for x axis [1, 2, ..., # of epochs]"
      ]
    },
    {
      "cell_type": "code",
      "execution_count": null,
      "id": "eaee03fe-7667-494e-857a-262a74b69440",
      "metadata": {
        "id": "eaee03fe-7667-494e-857a-262a74b69440",
        "outputId": "885810cf-6042-44eb-acea-db4f0666f36c"
      },
      "outputs": [
        {
          "data": {
            "application/vnd.plotly.v1+json": {
              "config": {
                "plotlyServerURL": "https://plot.ly"
              },
              "data": [
                {
                  "line": {
                    "color": "#089389"
                  },
                  "mode": "lines",
                  "name": "Training Accuracy",
                  "type": "scatter",
                  "x": [
                    1,
                    2,
                    3,
                    4,
                    5,
                    6,
                    7,
                    8,
                    9,
                    10,
                    11,
                    12,
                    13,
                    14,
                    15,
                    16,
                    17,
                    18,
                    19,
                    20
                  ],
                  "y": [
                    0.43463999032974243,
                    0.5686200261116028,
                    0.6299399733543396,
                    0.6736999750137329,
                    0.7006199955940247,
                    0.7164999842643738,
                    0.7304800152778625,
                    0.7446600198745728,
                    0.7584999799728394,
                    0.7663599848747253,
                    0.774619996547699,
                    0.7870799899101257,
                    0.7900599837303162,
                    0.7977200150489807,
                    0.8029999732971191,
                    0.8095200061798096,
                    0.8148199915885925,
                    0.8212599754333496,
                    0.8252400159835815,
                    0.8272600173950195
                  ]
                },
                {
                  "line": {
                    "color": "#d34748"
                  },
                  "mode": "lines",
                  "name": "Validation Accuracy",
                  "type": "scatter",
                  "x": [
                    1,
                    2,
                    3,
                    4,
                    5,
                    6,
                    7,
                    8,
                    9,
                    10,
                    11,
                    12,
                    13,
                    14,
                    15,
                    16,
                    17,
                    18,
                    19,
                    20
                  ],
                  "y": [
                    0.4632999897003174,
                    0.6401000022888184,
                    0.6762999892234802,
                    0.6819000244140625,
                    0.6980000138282776,
                    0.7258999943733215,
                    0.7605000138282776,
                    0.758400022983551,
                    0.7681000232696533,
                    0.7757999897003174,
                    0.743399977684021,
                    0.7871000170707703,
                    0.8086000084877014,
                    0.7838000059127808,
                    0.7986000180244446,
                    0.8176000118255615,
                    0.8040000200271606,
                    0.7871000170707703,
                    0.8281000256538391,
                    0.8270999789237976
                  ]
                }
              ],
              "layout": {
                "height": 350,
                "legend": {
                  "font": {
                    "color": "#8f8f94"
                  },
                  "x": 0.7,
                  "y": 0.5
                },
                "margin": {
                  "b": 20,
                  "l": 80,
                  "r": 20,
                  "t": 40
                },
                "paper_bgcolor": "#252b33",
                "plot_bgcolor": "#252b33",
                "template": {
                  "data": {
                    "bar": [
                      {
                        "error_x": {
                          "color": "#2a3f5f"
                        },
                        "error_y": {
                          "color": "#2a3f5f"
                        },
                        "marker": {
                          "line": {
                            "color": "#E5ECF6",
                            "width": 0.5
                          },
                          "pattern": {
                            "fillmode": "overlay",
                            "size": 10,
                            "solidity": 0.2
                          }
                        },
                        "type": "bar"
                      }
                    ],
                    "barpolar": [
                      {
                        "marker": {
                          "line": {
                            "color": "#E5ECF6",
                            "width": 0.5
                          },
                          "pattern": {
                            "fillmode": "overlay",
                            "size": 10,
                            "solidity": 0.2
                          }
                        },
                        "type": "barpolar"
                      }
                    ],
                    "carpet": [
                      {
                        "aaxis": {
                          "endlinecolor": "#2a3f5f",
                          "gridcolor": "white",
                          "linecolor": "white",
                          "minorgridcolor": "white",
                          "startlinecolor": "#2a3f5f"
                        },
                        "baxis": {
                          "endlinecolor": "#2a3f5f",
                          "gridcolor": "white",
                          "linecolor": "white",
                          "minorgridcolor": "white",
                          "startlinecolor": "#2a3f5f"
                        },
                        "type": "carpet"
                      }
                    ],
                    "choropleth": [
                      {
                        "colorbar": {
                          "outlinewidth": 0,
                          "ticks": ""
                        },
                        "type": "choropleth"
                      }
                    ],
                    "contour": [
                      {
                        "colorbar": {
                          "outlinewidth": 0,
                          "ticks": ""
                        },
                        "colorscale": [
                          [
                            0,
                            "#0d0887"
                          ],
                          [
                            0.1111111111111111,
                            "#46039f"
                          ],
                          [
                            0.2222222222222222,
                            "#7201a8"
                          ],
                          [
                            0.3333333333333333,
                            "#9c179e"
                          ],
                          [
                            0.4444444444444444,
                            "#bd3786"
                          ],
                          [
                            0.5555555555555556,
                            "#d8576b"
                          ],
                          [
                            0.6666666666666666,
                            "#ed7953"
                          ],
                          [
                            0.7777777777777778,
                            "#fb9f3a"
                          ],
                          [
                            0.8888888888888888,
                            "#fdca26"
                          ],
                          [
                            1,
                            "#f0f921"
                          ]
                        ],
                        "type": "contour"
                      }
                    ],
                    "contourcarpet": [
                      {
                        "colorbar": {
                          "outlinewidth": 0,
                          "ticks": ""
                        },
                        "type": "contourcarpet"
                      }
                    ],
                    "heatmap": [
                      {
                        "colorbar": {
                          "outlinewidth": 0,
                          "ticks": ""
                        },
                        "colorscale": [
                          [
                            0,
                            "#0d0887"
                          ],
                          [
                            0.1111111111111111,
                            "#46039f"
                          ],
                          [
                            0.2222222222222222,
                            "#7201a8"
                          ],
                          [
                            0.3333333333333333,
                            "#9c179e"
                          ],
                          [
                            0.4444444444444444,
                            "#bd3786"
                          ],
                          [
                            0.5555555555555556,
                            "#d8576b"
                          ],
                          [
                            0.6666666666666666,
                            "#ed7953"
                          ],
                          [
                            0.7777777777777778,
                            "#fb9f3a"
                          ],
                          [
                            0.8888888888888888,
                            "#fdca26"
                          ],
                          [
                            1,
                            "#f0f921"
                          ]
                        ],
                        "type": "heatmap"
                      }
                    ],
                    "heatmapgl": [
                      {
                        "colorbar": {
                          "outlinewidth": 0,
                          "ticks": ""
                        },
                        "colorscale": [
                          [
                            0,
                            "#0d0887"
                          ],
                          [
                            0.1111111111111111,
                            "#46039f"
                          ],
                          [
                            0.2222222222222222,
                            "#7201a8"
                          ],
                          [
                            0.3333333333333333,
                            "#9c179e"
                          ],
                          [
                            0.4444444444444444,
                            "#bd3786"
                          ],
                          [
                            0.5555555555555556,
                            "#d8576b"
                          ],
                          [
                            0.6666666666666666,
                            "#ed7953"
                          ],
                          [
                            0.7777777777777778,
                            "#fb9f3a"
                          ],
                          [
                            0.8888888888888888,
                            "#fdca26"
                          ],
                          [
                            1,
                            "#f0f921"
                          ]
                        ],
                        "type": "heatmapgl"
                      }
                    ],
                    "histogram": [
                      {
                        "marker": {
                          "pattern": {
                            "fillmode": "overlay",
                            "size": 10,
                            "solidity": 0.2
                          }
                        },
                        "type": "histogram"
                      }
                    ],
                    "histogram2d": [
                      {
                        "colorbar": {
                          "outlinewidth": 0,
                          "ticks": ""
                        },
                        "colorscale": [
                          [
                            0,
                            "#0d0887"
                          ],
                          [
                            0.1111111111111111,
                            "#46039f"
                          ],
                          [
                            0.2222222222222222,
                            "#7201a8"
                          ],
                          [
                            0.3333333333333333,
                            "#9c179e"
                          ],
                          [
                            0.4444444444444444,
                            "#bd3786"
                          ],
                          [
                            0.5555555555555556,
                            "#d8576b"
                          ],
                          [
                            0.6666666666666666,
                            "#ed7953"
                          ],
                          [
                            0.7777777777777778,
                            "#fb9f3a"
                          ],
                          [
                            0.8888888888888888,
                            "#fdca26"
                          ],
                          [
                            1,
                            "#f0f921"
                          ]
                        ],
                        "type": "histogram2d"
                      }
                    ],
                    "histogram2dcontour": [
                      {
                        "colorbar": {
                          "outlinewidth": 0,
                          "ticks": ""
                        },
                        "colorscale": [
                          [
                            0,
                            "#0d0887"
                          ],
                          [
                            0.1111111111111111,
                            "#46039f"
                          ],
                          [
                            0.2222222222222222,
                            "#7201a8"
                          ],
                          [
                            0.3333333333333333,
                            "#9c179e"
                          ],
                          [
                            0.4444444444444444,
                            "#bd3786"
                          ],
                          [
                            0.5555555555555556,
                            "#d8576b"
                          ],
                          [
                            0.6666666666666666,
                            "#ed7953"
                          ],
                          [
                            0.7777777777777778,
                            "#fb9f3a"
                          ],
                          [
                            0.8888888888888888,
                            "#fdca26"
                          ],
                          [
                            1,
                            "#f0f921"
                          ]
                        ],
                        "type": "histogram2dcontour"
                      }
                    ],
                    "mesh3d": [
                      {
                        "colorbar": {
                          "outlinewidth": 0,
                          "ticks": ""
                        },
                        "type": "mesh3d"
                      }
                    ],
                    "parcoords": [
                      {
                        "line": {
                          "colorbar": {
                            "outlinewidth": 0,
                            "ticks": ""
                          }
                        },
                        "type": "parcoords"
                      }
                    ],
                    "pie": [
                      {
                        "automargin": true,
                        "type": "pie"
                      }
                    ],
                    "scatter": [
                      {
                        "fillpattern": {
                          "fillmode": "overlay",
                          "size": 10,
                          "solidity": 0.2
                        },
                        "type": "scatter"
                      }
                    ],
                    "scatter3d": [
                      {
                        "line": {
                          "colorbar": {
                            "outlinewidth": 0,
                            "ticks": ""
                          }
                        },
                        "marker": {
                          "colorbar": {
                            "outlinewidth": 0,
                            "ticks": ""
                          }
                        },
                        "type": "scatter3d"
                      }
                    ],
                    "scattercarpet": [
                      {
                        "marker": {
                          "colorbar": {
                            "outlinewidth": 0,
                            "ticks": ""
                          }
                        },
                        "type": "scattercarpet"
                      }
                    ],
                    "scattergeo": [
                      {
                        "marker": {
                          "colorbar": {
                            "outlinewidth": 0,
                            "ticks": ""
                          }
                        },
                        "type": "scattergeo"
                      }
                    ],
                    "scattergl": [
                      {
                        "marker": {
                          "colorbar": {
                            "outlinewidth": 0,
                            "ticks": ""
                          }
                        },
                        "type": "scattergl"
                      }
                    ],
                    "scattermapbox": [
                      {
                        "marker": {
                          "colorbar": {
                            "outlinewidth": 0,
                            "ticks": ""
                          }
                        },
                        "type": "scattermapbox"
                      }
                    ],
                    "scatterpolar": [
                      {
                        "marker": {
                          "colorbar": {
                            "outlinewidth": 0,
                            "ticks": ""
                          }
                        },
                        "type": "scatterpolar"
                      }
                    ],
                    "scatterpolargl": [
                      {
                        "marker": {
                          "colorbar": {
                            "outlinewidth": 0,
                            "ticks": ""
                          }
                        },
                        "type": "scatterpolargl"
                      }
                    ],
                    "scatterternary": [
                      {
                        "marker": {
                          "colorbar": {
                            "outlinewidth": 0,
                            "ticks": ""
                          }
                        },
                        "type": "scatterternary"
                      }
                    ],
                    "surface": [
                      {
                        "colorbar": {
                          "outlinewidth": 0,
                          "ticks": ""
                        },
                        "colorscale": [
                          [
                            0,
                            "#0d0887"
                          ],
                          [
                            0.1111111111111111,
                            "#46039f"
                          ],
                          [
                            0.2222222222222222,
                            "#7201a8"
                          ],
                          [
                            0.3333333333333333,
                            "#9c179e"
                          ],
                          [
                            0.4444444444444444,
                            "#bd3786"
                          ],
                          [
                            0.5555555555555556,
                            "#d8576b"
                          ],
                          [
                            0.6666666666666666,
                            "#ed7953"
                          ],
                          [
                            0.7777777777777778,
                            "#fb9f3a"
                          ],
                          [
                            0.8888888888888888,
                            "#fdca26"
                          ],
                          [
                            1,
                            "#f0f921"
                          ]
                        ],
                        "type": "surface"
                      }
                    ],
                    "table": [
                      {
                        "cells": {
                          "fill": {
                            "color": "#EBF0F8"
                          },
                          "line": {
                            "color": "white"
                          }
                        },
                        "header": {
                          "fill": {
                            "color": "#C8D4E3"
                          },
                          "line": {
                            "color": "white"
                          }
                        },
                        "type": "table"
                      }
                    ]
                  },
                  "layout": {
                    "annotationdefaults": {
                      "arrowcolor": "#2a3f5f",
                      "arrowhead": 0,
                      "arrowwidth": 1
                    },
                    "autotypenumbers": "strict",
                    "coloraxis": {
                      "colorbar": {
                        "outlinewidth": 0,
                        "ticks": ""
                      }
                    },
                    "colorscale": {
                      "diverging": [
                        [
                          0,
                          "#8e0152"
                        ],
                        [
                          0.1,
                          "#c51b7d"
                        ],
                        [
                          0.2,
                          "#de77ae"
                        ],
                        [
                          0.3,
                          "#f1b6da"
                        ],
                        [
                          0.4,
                          "#fde0ef"
                        ],
                        [
                          0.5,
                          "#f7f7f7"
                        ],
                        [
                          0.6,
                          "#e6f5d0"
                        ],
                        [
                          0.7,
                          "#b8e186"
                        ],
                        [
                          0.8,
                          "#7fbc41"
                        ],
                        [
                          0.9,
                          "#4d9221"
                        ],
                        [
                          1,
                          "#276419"
                        ]
                      ],
                      "sequential": [
                        [
                          0,
                          "#0d0887"
                        ],
                        [
                          0.1111111111111111,
                          "#46039f"
                        ],
                        [
                          0.2222222222222222,
                          "#7201a8"
                        ],
                        [
                          0.3333333333333333,
                          "#9c179e"
                        ],
                        [
                          0.4444444444444444,
                          "#bd3786"
                        ],
                        [
                          0.5555555555555556,
                          "#d8576b"
                        ],
                        [
                          0.6666666666666666,
                          "#ed7953"
                        ],
                        [
                          0.7777777777777778,
                          "#fb9f3a"
                        ],
                        [
                          0.8888888888888888,
                          "#fdca26"
                        ],
                        [
                          1,
                          "#f0f921"
                        ]
                      ],
                      "sequentialminus": [
                        [
                          0,
                          "#0d0887"
                        ],
                        [
                          0.1111111111111111,
                          "#46039f"
                        ],
                        [
                          0.2222222222222222,
                          "#7201a8"
                        ],
                        [
                          0.3333333333333333,
                          "#9c179e"
                        ],
                        [
                          0.4444444444444444,
                          "#bd3786"
                        ],
                        [
                          0.5555555555555556,
                          "#d8576b"
                        ],
                        [
                          0.6666666666666666,
                          "#ed7953"
                        ],
                        [
                          0.7777777777777778,
                          "#fb9f3a"
                        ],
                        [
                          0.8888888888888888,
                          "#fdca26"
                        ],
                        [
                          1,
                          "#f0f921"
                        ]
                      ]
                    },
                    "colorway": [
                      "#636efa",
                      "#EF553B",
                      "#00cc96",
                      "#ab63fa",
                      "#FFA15A",
                      "#19d3f3",
                      "#FF6692",
                      "#B6E880",
                      "#FF97FF",
                      "#FECB52"
                    ],
                    "font": {
                      "color": "#2a3f5f"
                    },
                    "geo": {
                      "bgcolor": "white",
                      "lakecolor": "white",
                      "landcolor": "#E5ECF6",
                      "showlakes": true,
                      "showland": true,
                      "subunitcolor": "white"
                    },
                    "hoverlabel": {
                      "align": "left"
                    },
                    "hovermode": "closest",
                    "mapbox": {
                      "style": "light"
                    },
                    "paper_bgcolor": "white",
                    "plot_bgcolor": "#E5ECF6",
                    "polar": {
                      "angularaxis": {
                        "gridcolor": "white",
                        "linecolor": "white",
                        "ticks": ""
                      },
                      "bgcolor": "#E5ECF6",
                      "radialaxis": {
                        "gridcolor": "white",
                        "linecolor": "white",
                        "ticks": ""
                      }
                    },
                    "scene": {
                      "xaxis": {
                        "backgroundcolor": "#E5ECF6",
                        "gridcolor": "white",
                        "gridwidth": 2,
                        "linecolor": "white",
                        "showbackground": true,
                        "ticks": "",
                        "zerolinecolor": "white"
                      },
                      "yaxis": {
                        "backgroundcolor": "#E5ECF6",
                        "gridcolor": "white",
                        "gridwidth": 2,
                        "linecolor": "white",
                        "showbackground": true,
                        "ticks": "",
                        "zerolinecolor": "white"
                      },
                      "zaxis": {
                        "backgroundcolor": "#E5ECF6",
                        "gridcolor": "white",
                        "gridwidth": 2,
                        "linecolor": "white",
                        "showbackground": true,
                        "ticks": "",
                        "zerolinecolor": "white"
                      }
                    },
                    "shapedefaults": {
                      "line": {
                        "color": "#2a3f5f"
                      }
                    },
                    "ternary": {
                      "aaxis": {
                        "gridcolor": "white",
                        "linecolor": "white",
                        "ticks": ""
                      },
                      "baxis": {
                        "gridcolor": "white",
                        "linecolor": "white",
                        "ticks": ""
                      },
                      "bgcolor": "#E5ECF6",
                      "caxis": {
                        "gridcolor": "white",
                        "linecolor": "white",
                        "ticks": ""
                      }
                    },
                    "title": {
                      "x": 0.05
                    },
                    "xaxis": {
                      "automargin": true,
                      "gridcolor": "white",
                      "linecolor": "white",
                      "ticks": "",
                      "title": {
                        "standoff": 15
                      },
                      "zerolinecolor": "white",
                      "zerolinewidth": 2
                    },
                    "yaxis": {
                      "automargin": true,
                      "gridcolor": "white",
                      "linecolor": "white",
                      "ticks": "",
                      "title": {
                        "standoff": 15
                      },
                      "zerolinecolor": "white",
                      "zerolinewidth": 2
                    }
                  }
                },
                "title": {
                  "font": {
                    "color": "#fefeff"
                  },
                  "text": "Training and Validation Accuracy by Epoch",
                  "x": 0.5
                },
                "width": 600,
                "xaxis": {
                  "autorange": true,
                  "categoryorder": "category ascending",
                  "gridcolor": "#45464d",
                  "linecolor": "#8f8f94",
                  "range": [
                    1,
                    20
                  ],
                  "tickfont": {
                    "color": "#8f8f94"
                  },
                  "title": {
                    "font": {
                      "color": "#fefeff"
                    },
                    "text": "Epoch"
                  },
                  "type": "linear"
                },
                "yaxis": {
                  "autorange": true,
                  "categoryorder": "category ascending",
                  "gridcolor": "#45464d",
                  "linecolor": "#8f8f94",
                  "range": [
                    0.41278109947840375,
                    0.8499589165051779
                  ],
                  "tickcolor": "#252b33",
                  "tickfont": {
                    "color": "#8f8f94"
                  },
                  "ticklen": 5,
                  "ticks": "outside",
                  "title": {
                    "font": {
                      "color": "#fefeff"
                    },
                    "standoff": 5,
                    "text": "Accuracy"
                  },
                  "type": "linear"
                }
              }
            },
            "image/png": "[encoded data removed]",
            "text/html": [
              "<div>                            <div id=\"e33f9144-4663-41d9-95da-a5648c9f7147\" class=\"plotly-graph-div\" style=\"height:350px; width:600px;\"></div>            <script type=\"text/javascript\">                require([\"plotly\"], function(Plotly) {                    window.PLOTLYENV=window.PLOTLYENV || {};                                    if (document.getElementById(\"e33f9144-4663-41d9-95da-a5648c9f7147\")) {                    Plotly.newPlot(                        \"e33f9144-4663-41d9-95da-a5648c9f7147\",                        [{\"line\":{\"color\":\"#089389\"},\"mode\":\"lines\",\"name\":\"Training Accuracy\",\"x\":[1,2,3,4,5,6,7,8,9,10,11,12,13,14,15,16,17,18,19,20],\"y\":[0.43463999032974243,0.5686200261116028,0.6299399733543396,0.6736999750137329,0.7006199955940247,0.7164999842643738,0.7304800152778625,0.7446600198745728,0.7584999799728394,0.7663599848747253,0.774619996547699,0.7870799899101257,0.7900599837303162,0.7977200150489807,0.8029999732971191,0.8095200061798096,0.8148199915885925,0.8212599754333496,0.8252400159835815,0.8272600173950195],\"type\":\"scatter\"},{\"line\":{\"color\":\"#d34748\"},\"mode\":\"lines\",\"name\":\"Validation Accuracy\",\"x\":[1,2,3,4,5,6,7,8,9,10,11,12,13,14,15,16,17,18,19,20],\"y\":[0.4632999897003174,0.6401000022888184,0.6762999892234802,0.6819000244140625,0.6980000138282776,0.7258999943733215,0.7605000138282776,0.758400022983551,0.7681000232696533,0.7757999897003174,0.743399977684021,0.7871000170707703,0.8086000084877014,0.7838000059127808,0.7986000180244446,0.8176000118255615,0.8040000200271606,0.7871000170707703,0.8281000256538391,0.8270999789237976],\"type\":\"scatter\"}],                        {\"template\":{\"data\":{\"histogram2dcontour\":[{\"type\":\"histogram2dcontour\",\"colorbar\":{\"outlinewidth\":0,\"ticks\":\"\"},\"colorscale\":[[0.0,\"#0d0887\"],[0.1111111111111111,\"#46039f\"],[0.2222222222222222,\"#7201a8\"],[0.3333333333333333,\"#9c179e\"],[0.4444444444444444,\"#bd3786\"],[0.5555555555555556,\"#d8576b\"],[0.6666666666666666,\"#ed7953\"],[0.7777777777777778,\"#fb9f3a\"],[0.8888888888888888,\"#fdca26\"],[1.0,\"#f0f921\"]]}],\"choropleth\":[{\"type\":\"choropleth\",\"colorbar\":{\"outlinewidth\":0,\"ticks\":\"\"}}],\"histogram2d\":[{\"type\":\"histogram2d\",\"colorbar\":{\"outlinewidth\":0,\"ticks\":\"\"},\"colorscale\":[[0.0,\"#0d0887\"],[0.1111111111111111,\"#46039f\"],[0.2222222222222222,\"#7201a8\"],[0.3333333333333333,\"#9c179e\"],[0.4444444444444444,\"#bd3786\"],[0.5555555555555556,\"#d8576b\"],[0.6666666666666666,\"#ed7953\"],[0.7777777777777778,\"#fb9f3a\"],[0.8888888888888888,\"#fdca26\"],[1.0,\"#f0f921\"]]}],\"heatmap\":[{\"type\":\"heatmap\",\"colorbar\":{\"outlinewidth\":0,\"ticks\":\"\"},\"colorscale\":[[0.0,\"#0d0887\"],[0.1111111111111111,\"#46039f\"],[0.2222222222222222,\"#7201a8\"],[0.3333333333333333,\"#9c179e\"],[0.4444444444444444,\"#bd3786\"],[0.5555555555555556,\"#d8576b\"],[0.6666666666666666,\"#ed7953\"],[0.7777777777777778,\"#fb9f3a\"],[0.8888888888888888,\"#fdca26\"],[1.0,\"#f0f921\"]]}],\"heatmapgl\":[{\"type\":\"heatmapgl\",\"colorbar\":{\"outlinewidth\":0,\"ticks\":\"\"},\"colorscale\":[[0.0,\"#0d0887\"],[0.1111111111111111,\"#46039f\"],[0.2222222222222222,\"#7201a8\"],[0.3333333333333333,\"#9c179e\"],[0.4444444444444444,\"#bd3786\"],[0.5555555555555556,\"#d8576b\"],[0.6666666666666666,\"#ed7953\"],[0.7777777777777778,\"#fb9f3a\"],[0.8888888888888888,\"#fdca26\"],[1.0,\"#f0f921\"]]}],\"contourcarpet\":[{\"type\":\"contourcarpet\",\"colorbar\":{\"outlinewidth\":0,\"ticks\":\"\"}}],\"contour\":[{\"type\":\"contour\",\"colorbar\":{\"outlinewidth\":0,\"ticks\":\"\"},\"colorscale\":[[0.0,\"#0d0887\"],[0.1111111111111111,\"#46039f\"],[0.2222222222222222,\"#7201a8\"],[0.3333333333333333,\"#9c179e\"],[0.4444444444444444,\"#bd3786\"],[0.5555555555555556,\"#d8576b\"],[0.6666666666666666,\"#ed7953\"],[0.7777777777777778,\"#fb9f3a\"],[0.8888888888888888,\"#fdca26\"],[1.0,\"#f0f921\"]]}],\"surface\":[{\"type\":\"surface\",\"colorbar\":{\"outlinewidth\":0,\"ticks\":\"\"},\"colorscale\":[[0.0,\"#0d0887\"],[0.1111111111111111,\"#46039f\"],[0.2222222222222222,\"#7201a8\"],[0.3333333333333333,\"#9c179e\"],[0.4444444444444444,\"#bd3786\"],[0.5555555555555556,\"#d8576b\"],[0.6666666666666666,\"#ed7953\"],[0.7777777777777778,\"#fb9f3a\"],[0.8888888888888888,\"#fdca26\"],[1.0,\"#f0f921\"]]}],\"mesh3d\":[{\"type\":\"mesh3d\",\"colorbar\":{\"outlinewidth\":0,\"ticks\":\"\"}}],\"scatter\":[{\"fillpattern\":{\"fillmode\":\"overlay\",\"size\":10,\"solidity\":0.2},\"type\":\"scatter\"}],\"parcoords\":[{\"type\":\"parcoords\",\"line\":{\"colorbar\":{\"outlinewidth\":0,\"ticks\":\"\"}}}],\"scatterpolargl\":[{\"type\":\"scatterpolargl\",\"marker\":{\"colorbar\":{\"outlinewidth\":0,\"ticks\":\"\"}}}],\"bar\":[{\"error_x\":{\"color\":\"#2a3f5f\"},\"error_y\":{\"color\":\"#2a3f5f\"},\"marker\":{\"line\":{\"color\":\"#E5ECF6\",\"width\":0.5},\"pattern\":{\"fillmode\":\"overlay\",\"size\":10,\"solidity\":0.2}},\"type\":\"bar\"}],\"scattergeo\":[{\"type\":\"scattergeo\",\"marker\":{\"colorbar\":{\"outlinewidth\":0,\"ticks\":\"\"}}}],\"scatterpolar\":[{\"type\":\"scatterpolar\",\"marker\":{\"colorbar\":{\"outlinewidth\":0,\"ticks\":\"\"}}}],\"histogram\":[{\"marker\":{\"pattern\":{\"fillmode\":\"overlay\",\"size\":10,\"solidity\":0.2}},\"type\":\"histogram\"}],\"scattergl\":[{\"type\":\"scattergl\",\"marker\":{\"colorbar\":{\"outlinewidth\":0,\"ticks\":\"\"}}}],\"scatter3d\":[{\"type\":\"scatter3d\",\"line\":{\"colorbar\":{\"outlinewidth\":0,\"ticks\":\"\"}},\"marker\":{\"colorbar\":{\"outlinewidth\":0,\"ticks\":\"\"}}}],\"scattermapbox\":[{\"type\":\"scattermapbox\",\"marker\":{\"colorbar\":{\"outlinewidth\":0,\"ticks\":\"\"}}}],\"scatterternary\":[{\"type\":\"scatterternary\",\"marker\":{\"colorbar\":{\"outlinewidth\":0,\"ticks\":\"\"}}}],\"scattercarpet\":[{\"type\":\"scattercarpet\",\"marker\":{\"colorbar\":{\"outlinewidth\":0,\"ticks\":\"\"}}}],\"carpet\":[{\"aaxis\":{\"endlinecolor\":\"#2a3f5f\",\"gridcolor\":\"white\",\"linecolor\":\"white\",\"minorgridcolor\":\"white\",\"startlinecolor\":\"#2a3f5f\"},\"baxis\":{\"endlinecolor\":\"#2a3f5f\",\"gridcolor\":\"white\",\"linecolor\":\"white\",\"minorgridcolor\":\"white\",\"startlinecolor\":\"#2a3f5f\"},\"type\":\"carpet\"}],\"table\":[{\"cells\":{\"fill\":{\"color\":\"#EBF0F8\"},\"line\":{\"color\":\"white\"}},\"header\":{\"fill\":{\"color\":\"#C8D4E3\"},\"line\":{\"color\":\"white\"}},\"type\":\"table\"}],\"barpolar\":[{\"marker\":{\"line\":{\"color\":\"#E5ECF6\",\"width\":0.5},\"pattern\":{\"fillmode\":\"overlay\",\"size\":10,\"solidity\":0.2}},\"type\":\"barpolar\"}],\"pie\":[{\"automargin\":true,\"type\":\"pie\"}]},\"layout\":{\"autotypenumbers\":\"strict\",\"colorway\":[\"#636efa\",\"#EF553B\",\"#00cc96\",\"#ab63fa\",\"#FFA15A\",\"#19d3f3\",\"#FF6692\",\"#B6E880\",\"#FF97FF\",\"#FECB52\"],\"font\":{\"color\":\"#2a3f5f\"},\"hovermode\":\"closest\",\"hoverlabel\":{\"align\":\"left\"},\"paper_bgcolor\":\"white\",\"plot_bgcolor\":\"#E5ECF6\",\"polar\":{\"bgcolor\":\"#E5ECF6\",\"angularaxis\":{\"gridcolor\":\"white\",\"linecolor\":\"white\",\"ticks\":\"\"},\"radialaxis\":{\"gridcolor\":\"white\",\"linecolor\":\"white\",\"ticks\":\"\"}},\"ternary\":{\"bgcolor\":\"#E5ECF6\",\"aaxis\":{\"gridcolor\":\"white\",\"linecolor\":\"white\",\"ticks\":\"\"},\"baxis\":{\"gridcolor\":\"white\",\"linecolor\":\"white\",\"ticks\":\"\"},\"caxis\":{\"gridcolor\":\"white\",\"linecolor\":\"white\",\"ticks\":\"\"}},\"coloraxis\":{\"colorbar\":{\"outlinewidth\":0,\"ticks\":\"\"}},\"colorscale\":{\"sequential\":[[0.0,\"#0d0887\"],[0.1111111111111111,\"#46039f\"],[0.2222222222222222,\"#7201a8\"],[0.3333333333333333,\"#9c179e\"],[0.4444444444444444,\"#bd3786\"],[0.5555555555555556,\"#d8576b\"],[0.6666666666666666,\"#ed7953\"],[0.7777777777777778,\"#fb9f3a\"],[0.8888888888888888,\"#fdca26\"],[1.0,\"#f0f921\"]],\"sequentialminus\":[[0.0,\"#0d0887\"],[0.1111111111111111,\"#46039f\"],[0.2222222222222222,\"#7201a8\"],[0.3333333333333333,\"#9c179e\"],[0.4444444444444444,\"#bd3786\"],[0.5555555555555556,\"#d8576b\"],[0.6666666666666666,\"#ed7953\"],[0.7777777777777778,\"#fb9f3a\"],[0.8888888888888888,\"#fdca26\"],[1.0,\"#f0f921\"]],\"diverging\":[[0,\"#8e0152\"],[0.1,\"#c51b7d\"],[0.2,\"#de77ae\"],[0.3,\"#f1b6da\"],[0.4,\"#fde0ef\"],[0.5,\"#f7f7f7\"],[0.6,\"#e6f5d0\"],[0.7,\"#b8e186\"],[0.8,\"#7fbc41\"],[0.9,\"#4d9221\"],[1,\"#276419\"]]},\"xaxis\":{\"gridcolor\":\"white\",\"linecolor\":\"white\",\"ticks\":\"\",\"title\":{\"standoff\":15},\"zerolinecolor\":\"white\",\"automargin\":true,\"zerolinewidth\":2},\"yaxis\":{\"gridcolor\":\"white\",\"linecolor\":\"white\",\"ticks\":\"\",\"title\":{\"standoff\":15},\"zerolinecolor\":\"white\",\"automargin\":true,\"zerolinewidth\":2},\"scene\":{\"xaxis\":{\"backgroundcolor\":\"#E5ECF6\",\"gridcolor\":\"white\",\"linecolor\":\"white\",\"showbackground\":true,\"ticks\":\"\",\"zerolinecolor\":\"white\",\"gridwidth\":2},\"yaxis\":{\"backgroundcolor\":\"#E5ECF6\",\"gridcolor\":\"white\",\"linecolor\":\"white\",\"showbackground\":true,\"ticks\":\"\",\"zerolinecolor\":\"white\",\"gridwidth\":2},\"zaxis\":{\"backgroundcolor\":\"#E5ECF6\",\"gridcolor\":\"white\",\"linecolor\":\"white\",\"showbackground\":true,\"ticks\":\"\",\"zerolinecolor\":\"white\",\"gridwidth\":2}},\"shapedefaults\":{\"line\":{\"color\":\"#2a3f5f\"}},\"annotationdefaults\":{\"arrowcolor\":\"#2a3f5f\",\"arrowhead\":0,\"arrowwidth\":1},\"geo\":{\"bgcolor\":\"white\",\"landcolor\":\"#E5ECF6\",\"subunitcolor\":\"white\",\"showland\":true,\"showlakes\":true,\"lakecolor\":\"white\"},\"title\":{\"x\":0.05},\"mapbox\":{\"style\":\"light\"}}},\"legend\":{\"x\":0.7,\"y\":0.5,\"font\":{\"color\":\"#8f8f94\"}},\"title\":{\"text\":\"Training and Validation Accuracy by Epoch\",\"font\":{\"color\":\"#fefeff\"},\"x\":0.5},\"xaxis\":{\"title\":{\"text\":\"Epoch\",\"font\":{\"color\":\"#fefeff\"}},\"tickfont\":{\"color\":\"#8f8f94\"},\"gridcolor\":\"#45464d\",\"linecolor\":\"#8f8f94\",\"categoryorder\":\"category ascending\"},\"yaxis\":{\"title\":{\"text\":\"Accuracy\",\"font\":{\"color\":\"#fefeff\"},\"standoff\":5},\"tickfont\":{\"color\":\"#8f8f94\"},\"gridcolor\":\"#45464d\",\"linecolor\":\"#8f8f94\",\"categoryorder\":\"category ascending\",\"ticks\":\"outside\",\"tickcolor\":\"#252b33\",\"ticklen\":5},\"height\":350,\"width\":600,\"margin\":{\"l\":80,\"r\":20,\"t\":40,\"b\":20},\"plot_bgcolor\":\"#252b33\",\"paper_bgcolor\":\"#252b33\"},                        {\"responsive\": true}                    ).then(function(){\n",
              "                            \n",
              "var gd = document.getElementById('e33f9144-4663-41d9-95da-a5648c9f7147');\n",
              "var x = new MutationObserver(function (mutations, observer) {{\n",
              "        var display = window.getComputedStyle(gd).display;\n",
              "        if (!display || display === 'none') {{\n",
              "            console.log([gd, 'removed!']);\n",
              "            Plotly.purge(gd);\n",
              "            observer.disconnect();\n",
              "        }}\n",
              "}});\n",
              "\n",
              "// Listen for the removal of the full notebook cells\n",
              "var notebookContainer = gd.closest('#notebook-container');\n",
              "if (notebookContainer) {{\n",
              "    x.observe(notebookContainer, {childList: true});\n",
              "}}\n",
              "\n",
              "// Listen for the clearing of the current output cell\n",
              "var outputEl = gd.closest('.output');\n",
              "if (outputEl) {{\n",
              "    x.observe(outputEl, {childList: true});\n",
              "}}\n",
              "\n",
              "                        })                };                });            </script>        </div>"
            ]
          },
          "metadata": {},
          "output_type": "display_data"
        }
      ],
      "source": [
        "# Plot data to see relationships between training and validation data\n",
        "fig = go.Figure()\n",
        "fig.add_trace(go.Scatter(\n",
        "    x=epoch_list, y=hist.history[\"accuracy\"],\n",
        "    mode=\"lines\", name=\"Training Accuracy\", line=dict(color=palette[\"green\"])))\n",
        "fig.add_trace(go.Scatter(\n",
        "    x=epoch_list, y=hist.history[\"val_accuracy\"],\n",
        "    mode=\"lines\", name=\"Validation Accuracy\", line=dict(color=palette[\"red\"])))\n",
        "\n",
        "fig.update_layout(\n",
        "    title=\"Training and Validation Accuracy by Epoch\",\n",
        "    xaxis=dict(title=\"Epoch\"), yaxis=dict(title=\"Accuracy\"),\n",
        "    height=350, width=600, legend=dict(x=0.7, y=0.5))\n",
        "\n",
        "format_plot(fig)\n",
        "fig.show()"
      ]
    },
    {
      "cell_type": "code",
      "execution_count": null,
      "id": "826114d6-611d-4801-824e-f865be3169ad",
      "metadata": {
        "id": "826114d6-611d-4801-824e-f865be3169ad",
        "outputId": "44314ae9-01b5-4af0-a6af-1bc329dec53d"
      },
      "outputs": [
        {
          "name": "stdout",
          "output_type": "stream",
          "text": [
            "Model: \"sequential_19\"\n",
            "_________________________________________________________________\n",
            " Layer (type)                Output Shape              Param #   \n",
            "=================================================================\n",
            " conv2d_63 (Conv2D)          (None, 32, 32, 32)        896       \n",
            "                                                                 \n",
            " batch_normalization_54 (Ba  (None, 32, 32, 32)        128       \n",
            " tchNormalization)                                               \n",
            "                                                                 \n",
            " conv2d_64 (Conv2D)          (None, 32, 32, 32)        9248      \n",
            "                                                                 \n",
            " batch_normalization_55 (Ba  (None, 32, 32, 32)        128       \n",
            " tchNormalization)                                               \n",
            "                                                                 \n",
            " max_pooling2d_30 (MaxPooli  (None, 16, 16, 32)        0         \n",
            " ng2D)                                                           \n",
            "                                                                 \n",
            " dropout_36 (Dropout)        (None, 16, 16, 32)        0         \n",
            "                                                                 \n",
            " conv2d_65 (Conv2D)          (None, 16, 16, 64)        18496     \n",
            "                                                                 \n",
            " batch_normalization_56 (Ba  (None, 16, 16, 64)        256       \n",
            " tchNormalization)                                               \n",
            "                                                                 \n",
            " conv2d_66 (Conv2D)          (None, 16, 16, 64)        36928     \n",
            "                                                                 \n",
            " batch_normalization_57 (Ba  (None, 16, 16, 64)        256       \n",
            " tchNormalization)                                               \n",
            "                                                                 \n",
            " max_pooling2d_31 (MaxPooli  (None, 8, 8, 64)          0         \n",
            " ng2D)                                                           \n",
            "                                                                 \n",
            " dropout_37 (Dropout)        (None, 8, 8, 64)          0         \n",
            "                                                                 \n",
            " conv2d_67 (Conv2D)          (None, 8, 8, 128)         73856     \n",
            "                                                                 \n",
            " batch_normalization_58 (Ba  (None, 8, 8, 128)         512       \n",
            " tchNormalization)                                               \n",
            "                                                                 \n",
            " conv2d_68 (Conv2D)          (None, 8, 8, 128)         147584    \n",
            "                                                                 \n",
            " batch_normalization_59 (Ba  (None, 8, 8, 128)         512       \n",
            " tchNormalization)                                               \n",
            "                                                                 \n",
            " max_pooling2d_32 (MaxPooli  (None, 4, 4, 128)         0         \n",
            " ng2D)                                                           \n",
            "                                                                 \n",
            " dropout_38 (Dropout)        (None, 4, 4, 128)         0         \n",
            "                                                                 \n",
            " flatten_14 (Flatten)        (None, 2048)              0         \n",
            "                                                                 \n",
            " dense_40 (Dense)            (None, 128)               262272    \n",
            "                                                                 \n",
            " batch_normalization_60 (Ba  (None, 128)               512       \n",
            " tchNormalization)                                               \n",
            "                                                                 \n",
            " dropout_39 (Dropout)        (None, 128)               0         \n",
            "                                                                 \n",
            " dense_41 (Dense)            (None, 10)                1290      \n",
            "                                                                 \n",
            "=================================================================\n",
            "Total params: 552874 (2.11 MB)\n",
            "Trainable params: 551722 (2.10 MB)\n",
            "Non-trainable params: 1152 (4.50 KB)\n",
            "_________________________________________________________________\n"
          ]
        }
      ],
      "source": [
        "model_2.summary()"
      ]
    },
    {
      "cell_type": "code",
      "execution_count": null,
      "id": "045d32d4-276d-44ce-9a3f-73b8ba7ca641",
      "metadata": {
        "id": "045d32d4-276d-44ce-9a3f-73b8ba7ca641"
      },
      "outputs": [],
      "source": []
    }
  ],
  "metadata": {
    "kernelspec": {
      "display_name": "Python 3 (ipykernel)",
      "language": "python",
      "name": "python3"
    },
    "language_info": {
      "codemirror_mode": {
        "name": "ipython",
        "version": 3
      },
      "file_extension": ".py",
      "mimetype": "text/x-python",
      "name": "python",
      "nbconvert_exporter": "python",
      "pygments_lexer": "ipython3",
      "version": "3.10.11"
    },
    "colab": {
      "provenance": [],
      "include_colab_link": true
    }
  },
  "nbformat": 4,
  "nbformat_minor": 5
}