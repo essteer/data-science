{
  "nbformat": 4,
  "nbformat_minor": 0,
  "metadata": {
    "colab": {
      "provenance": [],
      "authorship_tag": "ABX9TyP3xVuyL5YK0un/2OLQNeq9",
      "include_colab_link": true
    },
    "kernelspec": {
      "name": "python3",
      "display_name": "Python 3"
    },
    "language_info": {
      "name": "python"
    },
    "widgets": {
      "application/vnd.jupyter.widget-state+json": {
        "811480adc41f42ae82978640ddf69efd": {
          "model_module": "@jupyter-widgets/controls",
          "model_name": "HBoxModel",
          "model_module_version": "1.5.0",
          "state": {
            "_dom_classes": [],
            "_model_module": "@jupyter-widgets/controls",
            "_model_module_version": "1.5.0",
            "_model_name": "HBoxModel",
            "_view_count": null,
            "_view_module": "@jupyter-widgets/controls",
            "_view_module_version": "1.5.0",
            "_view_name": "HBoxView",
            "box_style": "",
            "children": [
              "IPY_MODEL_f94c137d0c554063a1b13305ba94055a",
              "IPY_MODEL_02e5be2a24854582b79bc9fcd6978985",
              "IPY_MODEL_0acce38a561a4f0295b8b677171782ce"
            ],
            "layout": "IPY_MODEL_1eb613a366d0459aadef371efe96fe18"
          }
        },
        "f94c137d0c554063a1b13305ba94055a": {
          "model_module": "@jupyter-widgets/controls",
          "model_name": "HTMLModel",
          "model_module_version": "1.5.0",
          "state": {
            "_dom_classes": [],
            "_model_module": "@jupyter-widgets/controls",
            "_model_module_version": "1.5.0",
            "_model_name": "HTMLModel",
            "_view_count": null,
            "_view_module": "@jupyter-widgets/controls",
            "_view_module_version": "1.5.0",
            "_view_name": "HTMLView",
            "description": "",
            "description_tooltip": null,
            "layout": "IPY_MODEL_ea98db44db774dcfa71d417864611bca",
            "placeholder": "​",
            "style": "IPY_MODEL_560eaecb246549cfb6021b338997cb2e",
            "value": "Testing on model-best-24: 100%"
          }
        },
        "02e5be2a24854582b79bc9fcd6978985": {
          "model_module": "@jupyter-widgets/controls",
          "model_name": "FloatProgressModel",
          "model_module_version": "1.5.0",
          "state": {
            "_dom_classes": [],
            "_model_module": "@jupyter-widgets/controls",
            "_model_module_version": "1.5.0",
            "_model_name": "FloatProgressModel",
            "_view_count": null,
            "_view_module": "@jupyter-widgets/controls",
            "_view_module_version": "1.5.0",
            "_view_name": "ProgressView",
            "bar_style": "success",
            "description": "",
            "description_tooltip": null,
            "layout": "IPY_MODEL_04240bd4e5654c6fa0de0a03527d9a05",
            "max": 1904,
            "min": 0,
            "orientation": "horizontal",
            "style": "IPY_MODEL_e16abed3f90a493983b4c5ba599a7211",
            "value": 1904
          }
        },
        "0acce38a561a4f0295b8b677171782ce": {
          "model_module": "@jupyter-widgets/controls",
          "model_name": "HTMLModel",
          "model_module_version": "1.5.0",
          "state": {
            "_dom_classes": [],
            "_model_module": "@jupyter-widgets/controls",
            "_model_module_version": "1.5.0",
            "_model_name": "HTMLModel",
            "_view_count": null,
            "_view_module": "@jupyter-widgets/controls",
            "_view_module_version": "1.5.0",
            "_view_name": "HTMLView",
            "description": "",
            "description_tooltip": null,
            "layout": "IPY_MODEL_b7ea1f10029b44c084772c01d4defa9b",
            "placeholder": "​",
            "style": "IPY_MODEL_425b20280f844a749b98a52d0d81f297",
            "value": " 1904/1904 [04:48&lt;00:00,  7.63it/s]"
          }
        },
        "1eb613a366d0459aadef371efe96fe18": {
          "model_module": "@jupyter-widgets/base",
          "model_name": "LayoutModel",
          "model_module_version": "1.2.0",
          "state": {
            "_model_module": "@jupyter-widgets/base",
            "_model_module_version": "1.2.0",
            "_model_name": "LayoutModel",
            "_view_count": null,
            "_view_module": "@jupyter-widgets/base",
            "_view_module_version": "1.2.0",
            "_view_name": "LayoutView",
            "align_content": null,
            "align_items": null,
            "align_self": null,
            "border": null,
            "bottom": null,
            "display": null,
            "flex": null,
            "flex_flow": null,
            "grid_area": null,
            "grid_auto_columns": null,
            "grid_auto_flow": null,
            "grid_auto_rows": null,
            "grid_column": null,
            "grid_gap": null,
            "grid_row": null,
            "grid_template_areas": null,
            "grid_template_columns": null,
            "grid_template_rows": null,
            "height": null,
            "justify_content": null,
            "justify_items": null,
            "left": null,
            "margin": null,
            "max_height": null,
            "max_width": null,
            "min_height": null,
            "min_width": null,
            "object_fit": null,
            "object_position": null,
            "order": null,
            "overflow": null,
            "overflow_x": null,
            "overflow_y": null,
            "padding": null,
            "right": null,
            "top": null,
            "visibility": null,
            "width": null
          }
        },
        "ea98db44db774dcfa71d417864611bca": {
          "model_module": "@jupyter-widgets/base",
          "model_name": "LayoutModel",
          "model_module_version": "1.2.0",
          "state": {
            "_model_module": "@jupyter-widgets/base",
            "_model_module_version": "1.2.0",
            "_model_name": "LayoutModel",
            "_view_count": null,
            "_view_module": "@jupyter-widgets/base",
            "_view_module_version": "1.2.0",
            "_view_name": "LayoutView",
            "align_content": null,
            "align_items": null,
            "align_self": null,
            "border": null,
            "bottom": null,
            "display": null,
            "flex": null,
            "flex_flow": null,
            "grid_area": null,
            "grid_auto_columns": null,
            "grid_auto_flow": null,
            "grid_auto_rows": null,
            "grid_column": null,
            "grid_gap": null,
            "grid_row": null,
            "grid_template_areas": null,
            "grid_template_columns": null,
            "grid_template_rows": null,
            "height": null,
            "justify_content": null,
            "justify_items": null,
            "left": null,
            "margin": null,
            "max_height": null,
            "max_width": null,
            "min_height": null,
            "min_width": null,
            "object_fit": null,
            "object_position": null,
            "order": null,
            "overflow": null,
            "overflow_x": null,
            "overflow_y": null,
            "padding": null,
            "right": null,
            "top": null,
            "visibility": null,
            "width": null
          }
        },
        "560eaecb246549cfb6021b338997cb2e": {
          "model_module": "@jupyter-widgets/controls",
          "model_name": "DescriptionStyleModel",
          "model_module_version": "1.5.0",
          "state": {
            "_model_module": "@jupyter-widgets/controls",
            "_model_module_version": "1.5.0",
            "_model_name": "DescriptionStyleModel",
            "_view_count": null,
            "_view_module": "@jupyter-widgets/base",
            "_view_module_version": "1.2.0",
            "_view_name": "StyleView",
            "description_width": ""
          }
        },
        "04240bd4e5654c6fa0de0a03527d9a05": {
          "model_module": "@jupyter-widgets/base",
          "model_name": "LayoutModel",
          "model_module_version": "1.2.0",
          "state": {
            "_model_module": "@jupyter-widgets/base",
            "_model_module_version": "1.2.0",
            "_model_name": "LayoutModel",
            "_view_count": null,
            "_view_module": "@jupyter-widgets/base",
            "_view_module_version": "1.2.0",
            "_view_name": "LayoutView",
            "align_content": null,
            "align_items": null,
            "align_self": null,
            "border": null,
            "bottom": null,
            "display": null,
            "flex": null,
            "flex_flow": null,
            "grid_area": null,
            "grid_auto_columns": null,
            "grid_auto_flow": null,
            "grid_auto_rows": null,
            "grid_column": null,
            "grid_gap": null,
            "grid_row": null,
            "grid_template_areas": null,
            "grid_template_columns": null,
            "grid_template_rows": null,
            "height": null,
            "justify_content": null,
            "justify_items": null,
            "left": null,
            "margin": null,
            "max_height": null,
            "max_width": null,
            "min_height": null,
            "min_width": null,
            "object_fit": null,
            "object_position": null,
            "order": null,
            "overflow": null,
            "overflow_x": null,
            "overflow_y": null,
            "padding": null,
            "right": null,
            "top": null,
            "visibility": null,
            "width": null
          }
        },
        "e16abed3f90a493983b4c5ba599a7211": {
          "model_module": "@jupyter-widgets/controls",
          "model_name": "ProgressStyleModel",
          "model_module_version": "1.5.0",
          "state": {
            "_model_module": "@jupyter-widgets/controls",
            "_model_module_version": "1.5.0",
            "_model_name": "ProgressStyleModel",
            "_view_count": null,
            "_view_module": "@jupyter-widgets/base",
            "_view_module_version": "1.2.0",
            "_view_name": "StyleView",
            "bar_color": null,
            "description_width": ""
          }
        },
        "b7ea1f10029b44c084772c01d4defa9b": {
          "model_module": "@jupyter-widgets/base",
          "model_name": "LayoutModel",
          "model_module_version": "1.2.0",
          "state": {
            "_model_module": "@jupyter-widgets/base",
            "_model_module_version": "1.2.0",
            "_model_name": "LayoutModel",
            "_view_count": null,
            "_view_module": "@jupyter-widgets/base",
            "_view_module_version": "1.2.0",
            "_view_name": "LayoutView",
            "align_content": null,
            "align_items": null,
            "align_self": null,
            "border": null,
            "bottom": null,
            "display": null,
            "flex": null,
            "flex_flow": null,
            "grid_area": null,
            "grid_auto_columns": null,
            "grid_auto_flow": null,
            "grid_auto_rows": null,
            "grid_column": null,
            "grid_gap": null,
            "grid_row": null,
            "grid_template_areas": null,
            "grid_template_columns": null,
            "grid_template_rows": null,
            "height": null,
            "justify_content": null,
            "justify_items": null,
            "left": null,
            "margin": null,
            "max_height": null,
            "max_width": null,
            "min_height": null,
            "min_width": null,
            "object_fit": null,
            "object_position": null,
            "order": null,
            "overflow": null,
            "overflow_x": null,
            "overflow_y": null,
            "padding": null,
            "right": null,
            "top": null,
            "visibility": null,
            "width": null
          }
        },
        "425b20280f844a749b98a52d0d81f297": {
          "model_module": "@jupyter-widgets/controls",
          "model_name": "DescriptionStyleModel",
          "model_module_version": "1.5.0",
          "state": {
            "_model_module": "@jupyter-widgets/controls",
            "_model_module_version": "1.5.0",
            "_model_name": "DescriptionStyleModel",
            "_view_count": null,
            "_view_module": "@jupyter-widgets/base",
            "_view_module_version": "1.2.0",
            "_view_name": "StyleView",
            "description_width": ""
          }
        }
      }
    }
  },
  "cells": [
    {
      "cell_type": "markdown",
      "metadata": {
        "id": "view-in-github",
        "colab_type": "text"
      },
      "source": [
        "<a href=\"https://colab.research.google.com/github/essteer/data-science/blob/main/src/neural_nets/nlp_spaCy_transformers.ipynb\" target=\"_parent\"><img src=\"https://colab.research.google.com/assets/colab-badge.svg\" alt=\"Open In Colab\"/></a>"
      ]
    },
    {
      "cell_type": "markdown",
      "source": [
        "# spaCy transformer model for sentiment analysis"
      ],
      "metadata": {
        "id": "XvXGcb1QaHIy"
      }
    },
    {
      "cell_type": "code",
      "source": [
        "# Update setuptools for best performance and get cupy-cuda\n",
        "!python -m pip install -U setuptools pip\n",
        "!pip install cupy-cuda12x"
      ],
      "metadata": {
        "id": "Vy0Vl8xSyRyE"
      },
      "execution_count": null,
      "outputs": []
    },
    {
      "cell_type": "code",
      "execution_count": null,
      "metadata": {
        "id": "LJvA2KmCiSDf"
      },
      "outputs": [],
      "source": [
        "!pip install -Uqq spacy pandas tqdm\n",
        "!pip install -Uqq spacy-transformers"
      ]
    },
    {
      "cell_type": "code",
      "source": [
        "# Download pre-trained spaCy transformer model\n",
        "!python -m spacy download en_core_web_trf"
      ],
      "metadata": {
        "id": "IvcvyP37jne2"
      },
      "execution_count": null,
      "outputs": []
    },
    {
      "cell_type": "code",
      "source": [
        "from datetime import datetime\n",
        "import pandas as pd\n",
        "import spacy\n",
        "from spacy.tokens import DocBin  # to store docs in binary format\n",
        "import spacy_transformers\n",
        "from tqdm.notebook import tqdm"
      ],
      "metadata": {
        "id": "xXVKK4dDkn38"
      },
      "execution_count": null,
      "outputs": []
    },
    {
      "cell_type": "code",
      "source": [
        "from google.colab import drive\n",
        "drive.mount(\"/content/gdrive\")"
      ],
      "metadata": {
        "id": "XhmoIoMgnwj-",
        "colab": {
          "base_uri": "https://localhost:8080/"
        },
        "outputId": "1e3f6395-ca36-47ff-b15d-b294fad69e1e"
      },
      "execution_count": null,
      "outputs": [
        {
          "output_type": "stream",
          "name": "stdout",
          "text": [
            "Mounted at /content/gdrive\n"
          ]
        }
      ]
    },
    {
      "cell_type": "code",
      "source": [
        "# Customise the path after \"My Drive/\" as needed\n",
        "%cd /content/gdrive/My Drive/Colab Notebooks/sentiment-analysis"
      ],
      "metadata": {
        "id": "keWvfE5tnxEY",
        "colab": {
          "base_uri": "https://localhost:8080/"
        },
        "outputId": "9991da2a-66a8-431b-ea9f-a534c9993418"
      },
      "execution_count": null,
      "outputs": [
        {
          "output_type": "stream",
          "name": "stdout",
          "text": [
            "/content/gdrive/My Drive/Colab Notebooks/stock-sentiment-analysis\n"
          ]
        }
      ]
    },
    {
      "cell_type": "code",
      "source": [
        "# Get read-out of GPU specs\n",
        "!nvidia-smi"
      ],
      "metadata": {
        "id": "diQbMA6Uy4vR"
      },
      "execution_count": null,
      "outputs": []
    },
    {
      "cell_type": "code",
      "source": [
        "# Get short read-out of memory usage\n",
        "!nvidia-smi --query-gpu=memory.free --format=csv"
      ],
      "metadata": {
        "id": "uathE_0Iy9Rw"
      },
      "execution_count": null,
      "outputs": []
    },
    {
      "cell_type": "markdown",
      "source": [
        "## Initialise spaCy transformer model"
      ],
      "metadata": {
        "id": "vEX6EoLuqFb3"
      }
    },
    {
      "cell_type": "code",
      "source": [
        "nlp = spacy.load(\"en_core_web_trf\")"
      ],
      "metadata": {
        "id": "iolsb9M6qFMN"
      },
      "execution_count": null,
      "outputs": []
    },
    {
      "cell_type": "markdown",
      "source": [
        "## Load dataset(s)\n",
        "\n",
        "For datasets that have already been binary encoded into train.spacy and test.spacy files,  \n",
        "continue on to the \"Model configuration\" section."
      ],
      "metadata": {
        "id": "lTnHJ7o_aOSC"
      }
    },
    {
      "cell_type": "code",
      "source": [
        "# SEntFiN financial news headlines (training set)\n",
        "train = pd.read_csv(\"./datasets/SEntFiN_train.csv\", encoding=\"utf-8\")\n",
        "train.head()"
      ],
      "metadata": {
        "id": "D74FGtTTVpBr"
      },
      "execution_count": null,
      "outputs": []
    },
    {
      "cell_type": "code",
      "source": [
        "# SEntFiN financial news headlines (validation set)\n",
        "valid = pd.read_csv(\"./datasets/SEntFiN_valid.csv\", encoding=\"utf-8\")\n",
        "valid.head()"
      ],
      "metadata": {
        "id": "k_Ujy3etXmOl"
      },
      "execution_count": null,
      "outputs": []
    },
    {
      "cell_type": "code",
      "source": [
        "train.shape"
      ],
      "metadata": {
        "id": "DWRslHbNpRGn"
      },
      "execution_count": null,
      "outputs": []
    },
    {
      "cell_type": "code",
      "source": [
        "valid.shape"
      ],
      "metadata": {
        "id": "C3WCu4WrYGmD"
      },
      "execution_count": null,
      "outputs": []
    },
    {
      "cell_type": "code",
      "source": [
        "train[\"label\"].value_counts()"
      ],
      "metadata": {
        "id": "juwzd2N8te51"
      },
      "execution_count": null,
      "outputs": []
    },
    {
      "cell_type": "code",
      "source": [
        "valid[\"label\"].value_counts()"
      ],
      "metadata": {
        "id": "RDxOVIp8YYwY"
      },
      "execution_count": null,
      "outputs": []
    },
    {
      "cell_type": "markdown",
      "source": [
        "## Train test split"
      ],
      "metadata": {
        "id": "7qflcbslaZMx"
      }
    },
    {
      "cell_type": "code",
      "source": [
        "# Shuffle datasets\n",
        "train = train.sample(frac=1, random_state=42).reset_index(drop=True)\n",
        "valid = valid.sample(frac=1, random_state=42).reset_index(drop=True)\n",
        "train.shape, valid.shape"
      ],
      "metadata": {
        "id": "stpYrhXaY4WU"
      },
      "execution_count": null,
      "outputs": []
    },
    {
      "cell_type": "code",
      "source": [
        "train.reset_index()\n",
        "train.shape"
      ],
      "metadata": {
        "id": "l8txgzVSTXy1"
      },
      "execution_count": null,
      "outputs": []
    },
    {
      "cell_type": "code",
      "source": [
        "train.head()"
      ],
      "metadata": {
        "id": "f5HdhtXuS-88"
      },
      "execution_count": null,
      "outputs": []
    },
    {
      "cell_type": "code",
      "source": [
        "# Create (text, label) tuples for dataset\n",
        "# For training set\n",
        "train[\"tuples\"] = train.apply(lambda row: (row[\"text\"], row[\"label\"]), axis=1)\n",
        "train = train[\"tuples\"].tolist()\n",
        "# For validation set\n",
        "valid[\"tuples\"] = valid.apply(lambda row: (row[\"text\"], row[\"label\"]), axis=1)\n",
        "valid = valid[\"tuples\"].tolist()\n",
        "train[0]"
      ],
      "metadata": {
        "id": "GBlg_WOXdFAn"
      },
      "execution_count": null,
      "outputs": []
    },
    {
      "cell_type": "markdown",
      "source": [
        "## One-hot encoding for spaCy pipeline"
      ],
      "metadata": {
        "id": "iPbQyLK0Z5c5"
      }
    },
    {
      "cell_type": "code",
      "source": [
        "# User function for converting train and validation datasets into spaCy documents\n",
        "def get_docs(data: pd.DataFrame) -> list[spacy.tokens.Doc]:\n",
        "    \"\"\"\n",
        "    Processes (text, sentiment) tuples via spaCy NLP pipeline,\n",
        "    with one-hot encoding for sentiment classification\n",
        "\n",
        "    Parameters\n",
        "    ----------\n",
        "    data : pd.DataFrame\n",
        "        Data to be processed\n",
        "\n",
        "    Returns\n",
        "    -------\n",
        "    docs_list : list[spacy.tokens.Doc]\n",
        "        List of spaCy tokens.Doc objects converted from data\n",
        "    \"\"\"\n",
        "    # Initialise list for documents\n",
        "    docs_list = []\n",
        "    # Iterate through dataset\n",
        "    for doc, label in tqdm(nlp.pipe(data, as_tuples=True), desc=\"Converting to spaCy Docs\"):\n",
        "        if (label==1):\n",
        "            doc.cats[\"positive\"] = 1\n",
        "            doc.cats[\"negative\"] = 0\n",
        "            doc.cats[\"neutral\"]  = 0\n",
        "        elif (label==0):\n",
        "            doc.cats[\"positive\"] = 0\n",
        "            doc.cats[\"negative\"] = 1\n",
        "            doc.cats[\"neutral\"]  = 0\n",
        "        else:\n",
        "            doc.cats[\"positive\"] = 0\n",
        "            doc.cats[\"negative\"] = 0\n",
        "            doc.cats[\"neutral\"]  = 1\n",
        "        # Add doc to docs_list list\n",
        "        docs_list.append(doc)\n",
        "\n",
        "    return docs_list"
      ],
      "metadata": {
        "id": "BltV8XdOzInk"
      },
      "execution_count": null,
      "outputs": []
    },
    {
      "cell_type": "markdown",
      "source": [
        "## Convert train and test sets to binary .spacy docs"
      ],
      "metadata": {
        "id": "sMzBwsqKIM_y"
      }
    },
    {
      "cell_type": "code",
      "source": [
        "start_time = datetime.now()\n",
        "\n",
        "# Get docs object for training set\n",
        "train_docs = get_docs(train)\n",
        "# Create binary document using spaCy DocBin function\n",
        "doc_bin = DocBin(docs = train_docs)\n",
        "# Save binary document as train.spacy\n",
        "doc_bin.to_disk(\"train.spacy\")\n",
        "\n",
        "end_time = datetime.now()\n",
        "print(f\"Duration: {end_time - start_time}\")"
      ],
      "metadata": {
        "id": "D64tp7a0zI1c"
      },
      "execution_count": null,
      "outputs": []
    },
    {
      "cell_type": "code",
      "source": [
        "start_time = datetime.now()\n",
        "\n",
        "# Get docs object for training set\n",
        "valid_docs = get_docs(valid)\n",
        "# Create binary document using spaCy DocBin function\n",
        "doc_bin = DocBin(docs = valid_docs)\n",
        "# Save binary document as valid.spacy\n",
        "doc_bin.to_disk(\"valid.spacy\")\n",
        "\n",
        "end_time = datetime.now()\n",
        "print(f\"Duration: {end_time - start_time}\")"
      ],
      "metadata": {
        "id": "87x02SMQzI5Q"
      },
      "execution_count": null,
      "outputs": []
    },
    {
      "cell_type": "markdown",
      "source": [
        "## Model configuration"
      ],
      "metadata": {
        "id": "m1Xfug76Oya_"
      }
    },
    {
      "cell_type": "code",
      "source": [
        "# Convert base_config.cfg file to full config.cfg\n",
        "!python -m spacy init fill-config ./base_config.cfg ./config.cfg"
      ],
      "metadata": {
        "id": "UqojRxIDInbG"
      },
      "execution_count": null,
      "outputs": []
    },
    {
      "cell_type": "markdown",
      "source": [
        "## Model training"
      ],
      "metadata": {
        "id": "HPFPKmjpdw3o"
      }
    },
    {
      "cell_type": "code",
      "source": [
        "start_time = datetime.now()\n",
        "\n",
        "# Enable GPU and set model output to folder output_updated\n",
        "!python -m spacy train config.cfg --verbose --gpu-id 0 --output ./output_updated\n",
        "# For CPU only\n",
        "# !python -m spacy train config.cfg --verbose --output ./output_updated\n",
        "\n",
        "end_time = datetime.now()\n",
        "print(f\"Duration: {end_time - start_time}\")"
      ],
      "metadata": {
        "id": "HjdumkPfInXI"
      },
      "execution_count": null,
      "outputs": []
    },
    {
      "cell_type": "markdown",
      "source": [
        "## Model testing"
      ],
      "metadata": {
        "id": "2uz18hA93RBl"
      }
    },
    {
      "cell_type": "markdown",
      "source": [
        "### Load test dataset"
      ],
      "metadata": {
        "id": "Xhc-I2cp5-w0"
      }
    },
    {
      "cell_type": "code",
      "source": [
        "# Load test data\n",
        "df = pd.read_csv(\"./datasets/SEntFiN_test.csv\")\n",
        "len(df)"
      ],
      "metadata": {
        "id": "ebsyxswc3TY-",
        "colab": {
          "base_uri": "https://localhost:8080/"
        },
        "outputId": "aeec4d91-f731-41d0-c028-230963aacae0"
      },
      "execution_count": null,
      "outputs": [
        {
          "output_type": "execute_result",
          "data": {
            "text/plain": [
              "1904"
            ]
          },
          "metadata": {},
          "execution_count": 7
        }
      ]
    },
    {
      "cell_type": "code",
      "source": [
        "df.head()"
      ],
      "metadata": {
        "id": "SWipXjWh5194",
        "colab": {
          "base_uri": "https://localhost:8080/",
          "height": 206
        },
        "outputId": "c4aebeb8-bff2-42f2-a4af-e8366f1c4af2"
      },
      "execution_count": null,
      "outputs": [
        {
          "output_type": "execute_result",
          "data": {
            "text/plain": [
              "                                                text     label\n",
              "0  Diamond sales in domestic market remains flat ...  negative\n",
              "1  Container Corporation Q3 Net up 5.4% at Rs 249...  positive\n",
              "2  JustDial levels of Rs 1000 look rich to me: Su...   neutral\n",
              "3  After DLF exit, Nifty may have to do without r...  negative\n",
              "4  Benchmark, Motilal AMC line up ETFs based on S...   neutral"
            ],
            "text/html": [
              "\n",
              "  <div id=\"df-6e16b4bb-dd84-450e-8805-5938e92ba089\" class=\"colab-df-container\">\n",
              "    <div>\n",
              "<style scoped>\n",
              "    .dataframe tbody tr th:only-of-type {\n",
              "        vertical-align: middle;\n",
              "    }\n",
              "\n",
              "    .dataframe tbody tr th {\n",
              "        vertical-align: top;\n",
              "    }\n",
              "\n",
              "    .dataframe thead th {\n",
              "        text-align: right;\n",
              "    }\n",
              "</style>\n",
              "<table border=\"1\" class=\"dataframe\">\n",
              "  <thead>\n",
              "    <tr style=\"text-align: right;\">\n",
              "      <th></th>\n",
              "      <th>text</th>\n",
              "      <th>label</th>\n",
              "    </tr>\n",
              "  </thead>\n",
              "  <tbody>\n",
              "    <tr>\n",
              "      <th>0</th>\n",
              "      <td>Diamond sales in domestic market remains flat ...</td>\n",
              "      <td>negative</td>\n",
              "    </tr>\n",
              "    <tr>\n",
              "      <th>1</th>\n",
              "      <td>Container Corporation Q3 Net up 5.4% at Rs 249...</td>\n",
              "      <td>positive</td>\n",
              "    </tr>\n",
              "    <tr>\n",
              "      <th>2</th>\n",
              "      <td>JustDial levels of Rs 1000 look rich to me: Su...</td>\n",
              "      <td>neutral</td>\n",
              "    </tr>\n",
              "    <tr>\n",
              "      <th>3</th>\n",
              "      <td>After DLF exit, Nifty may have to do without r...</td>\n",
              "      <td>negative</td>\n",
              "    </tr>\n",
              "    <tr>\n",
              "      <th>4</th>\n",
              "      <td>Benchmark, Motilal AMC line up ETFs based on S...</td>\n",
              "      <td>neutral</td>\n",
              "    </tr>\n",
              "  </tbody>\n",
              "</table>\n",
              "</div>\n",
              "    <div class=\"colab-df-buttons\">\n",
              "\n",
              "  <div class=\"colab-df-container\">\n",
              "    <button class=\"colab-df-convert\" onclick=\"convertToInteractive('df-6e16b4bb-dd84-450e-8805-5938e92ba089')\"\n",
              "            title=\"Convert this dataframe to an interactive table.\"\n",
              "            style=\"display:none;\">\n",
              "\n",
              "  <svg xmlns=\"http://www.w3.org/2000/svg\" height=\"24px\" viewBox=\"0 -960 960 960\">\n",
              "    <path d=\"M120-120v-720h720v720H120Zm60-500h600v-160H180v160Zm220 220h160v-160H400v160Zm0 220h160v-160H400v160ZM180-400h160v-160H180v160Zm440 0h160v-160H620v160ZM180-180h160v-160H180v160Zm440 0h160v-160H620v160Z\"/>\n",
              "  </svg>\n",
              "    </button>\n",
              "\n",
              "  <style>\n",
              "    .colab-df-container {\n",
              "      display:flex;\n",
              "      gap: 12px;\n",
              "    }\n",
              "\n",
              "    .colab-df-convert {\n",
              "      background-color: #E8F0FE;\n",
              "      border: none;\n",
              "      border-radius: 50%;\n",
              "      cursor: pointer;\n",
              "      display: none;\n",
              "      fill: #1967D2;\n",
              "      height: 32px;\n",
              "      padding: 0 0 0 0;\n",
              "      width: 32px;\n",
              "    }\n",
              "\n",
              "    .colab-df-convert:hover {\n",
              "      background-color: #E2EBFA;\n",
              "      box-shadow: 0px 1px 2px rgba(60, 64, 67, 0.3), 0px 1px 3px 1px rgba(60, 64, 67, 0.15);\n",
              "      fill: #174EA6;\n",
              "    }\n",
              "\n",
              "    .colab-df-buttons div {\n",
              "      margin-bottom: 4px;\n",
              "    }\n",
              "\n",
              "    [theme=dark] .colab-df-convert {\n",
              "      background-color: #3B4455;\n",
              "      fill: #D2E3FC;\n",
              "    }\n",
              "\n",
              "    [theme=dark] .colab-df-convert:hover {\n",
              "      background-color: #434B5C;\n",
              "      box-shadow: 0px 1px 3px 1px rgba(0, 0, 0, 0.15);\n",
              "      filter: drop-shadow(0px 1px 2px rgba(0, 0, 0, 0.3));\n",
              "      fill: #FFFFFF;\n",
              "    }\n",
              "  </style>\n",
              "\n",
              "    <script>\n",
              "      const buttonEl =\n",
              "        document.querySelector('#df-6e16b4bb-dd84-450e-8805-5938e92ba089 button.colab-df-convert');\n",
              "      buttonEl.style.display =\n",
              "        google.colab.kernel.accessAllowed ? 'block' : 'none';\n",
              "\n",
              "      async function convertToInteractive(key) {\n",
              "        const element = document.querySelector('#df-6e16b4bb-dd84-450e-8805-5938e92ba089');\n",
              "        const dataTable =\n",
              "          await google.colab.kernel.invokeFunction('convertToInteractive',\n",
              "                                                    [key], {});\n",
              "        if (!dataTable) return;\n",
              "\n",
              "        const docLinkHtml = 'Like what you see? Visit the ' +\n",
              "          '<a target=\"_blank\" href=https://colab.research.google.com/notebooks/data_table.ipynb>data table notebook</a>'\n",
              "          + ' to learn more about interactive tables.';\n",
              "        element.innerHTML = '';\n",
              "        dataTable['output_type'] = 'display_data';\n",
              "        await google.colab.output.renderOutput(dataTable, element);\n",
              "        const docLink = document.createElement('div');\n",
              "        docLink.innerHTML = docLinkHtml;\n",
              "        element.appendChild(docLink);\n",
              "      }\n",
              "    </script>\n",
              "  </div>\n",
              "\n",
              "\n",
              "<div id=\"df-d946485d-db9f-424c-9774-4130835d09ba\">\n",
              "  <button class=\"colab-df-quickchart\" onclick=\"quickchart('df-d946485d-db9f-424c-9774-4130835d09ba')\"\n",
              "            title=\"Suggest charts\"\n",
              "            style=\"display:none;\">\n",
              "\n",
              "<svg xmlns=\"http://www.w3.org/2000/svg\" height=\"24px\"viewBox=\"0 0 24 24\"\n",
              "     width=\"24px\">\n",
              "    <g>\n",
              "        <path d=\"M19 3H5c-1.1 0-2 .9-2 2v14c0 1.1.9 2 2 2h14c1.1 0 2-.9 2-2V5c0-1.1-.9-2-2-2zM9 17H7v-7h2v7zm4 0h-2V7h2v10zm4 0h-2v-4h2v4z\"/>\n",
              "    </g>\n",
              "</svg>\n",
              "  </button>\n",
              "\n",
              "<style>\n",
              "  .colab-df-quickchart {\n",
              "      --bg-color: #E8F0FE;\n",
              "      --fill-color: #1967D2;\n",
              "      --hover-bg-color: #E2EBFA;\n",
              "      --hover-fill-color: #174EA6;\n",
              "      --disabled-fill-color: #AAA;\n",
              "      --disabled-bg-color: #DDD;\n",
              "  }\n",
              "\n",
              "  [theme=dark] .colab-df-quickchart {\n",
              "      --bg-color: #3B4455;\n",
              "      --fill-color: #D2E3FC;\n",
              "      --hover-bg-color: #434B5C;\n",
              "      --hover-fill-color: #FFFFFF;\n",
              "      --disabled-bg-color: #3B4455;\n",
              "      --disabled-fill-color: #666;\n",
              "  }\n",
              "\n",
              "  .colab-df-quickchart {\n",
              "    background-color: var(--bg-color);\n",
              "    border: none;\n",
              "    border-radius: 50%;\n",
              "    cursor: pointer;\n",
              "    display: none;\n",
              "    fill: var(--fill-color);\n",
              "    height: 32px;\n",
              "    padding: 0;\n",
              "    width: 32px;\n",
              "  }\n",
              "\n",
              "  .colab-df-quickchart:hover {\n",
              "    background-color: var(--hover-bg-color);\n",
              "    box-shadow: 0 1px 2px rgba(60, 64, 67, 0.3), 0 1px 3px 1px rgba(60, 64, 67, 0.15);\n",
              "    fill: var(--button-hover-fill-color);\n",
              "  }\n",
              "\n",
              "  .colab-df-quickchart-complete:disabled,\n",
              "  .colab-df-quickchart-complete:disabled:hover {\n",
              "    background-color: var(--disabled-bg-color);\n",
              "    fill: var(--disabled-fill-color);\n",
              "    box-shadow: none;\n",
              "  }\n",
              "\n",
              "  .colab-df-spinner {\n",
              "    border: 2px solid var(--fill-color);\n",
              "    border-color: transparent;\n",
              "    border-bottom-color: var(--fill-color);\n",
              "    animation:\n",
              "      spin 1s steps(1) infinite;\n",
              "  }\n",
              "\n",
              "  @keyframes spin {\n",
              "    0% {\n",
              "      border-color: transparent;\n",
              "      border-bottom-color: var(--fill-color);\n",
              "      border-left-color: var(--fill-color);\n",
              "    }\n",
              "    20% {\n",
              "      border-color: transparent;\n",
              "      border-left-color: var(--fill-color);\n",
              "      border-top-color: var(--fill-color);\n",
              "    }\n",
              "    30% {\n",
              "      border-color: transparent;\n",
              "      border-left-color: var(--fill-color);\n",
              "      border-top-color: var(--fill-color);\n",
              "      border-right-color: var(--fill-color);\n",
              "    }\n",
              "    40% {\n",
              "      border-color: transparent;\n",
              "      border-right-color: var(--fill-color);\n",
              "      border-top-color: var(--fill-color);\n",
              "    }\n",
              "    60% {\n",
              "      border-color: transparent;\n",
              "      border-right-color: var(--fill-color);\n",
              "    }\n",
              "    80% {\n",
              "      border-color: transparent;\n",
              "      border-right-color: var(--fill-color);\n",
              "      border-bottom-color: var(--fill-color);\n",
              "    }\n",
              "    90% {\n",
              "      border-color: transparent;\n",
              "      border-bottom-color: var(--fill-color);\n",
              "    }\n",
              "  }\n",
              "</style>\n",
              "\n",
              "  <script>\n",
              "    async function quickchart(key) {\n",
              "      const quickchartButtonEl =\n",
              "        document.querySelector('#' + key + ' button');\n",
              "      quickchartButtonEl.disabled = true;  // To prevent multiple clicks.\n",
              "      quickchartButtonEl.classList.add('colab-df-spinner');\n",
              "      try {\n",
              "        const charts = await google.colab.kernel.invokeFunction(\n",
              "            'suggestCharts', [key], {});\n",
              "      } catch (error) {\n",
              "        console.error('Error during call to suggestCharts:', error);\n",
              "      }\n",
              "      quickchartButtonEl.classList.remove('colab-df-spinner');\n",
              "      quickchartButtonEl.classList.add('colab-df-quickchart-complete');\n",
              "    }\n",
              "    (() => {\n",
              "      let quickchartButtonEl =\n",
              "        document.querySelector('#df-d946485d-db9f-424c-9774-4130835d09ba button');\n",
              "      quickchartButtonEl.style.display =\n",
              "        google.colab.kernel.accessAllowed ? 'block' : 'none';\n",
              "    })();\n",
              "  </script>\n",
              "</div>\n",
              "\n",
              "    </div>\n",
              "  </div>\n"
            ],
            "application/vnd.google.colaboratory.intrinsic+json": {
              "type": "dataframe",
              "variable_name": "df",
              "summary": "{\n  \"name\": \"df\",\n  \"rows\": 1904,\n  \"fields\": [\n    {\n      \"column\": \"text\",\n      \"properties\": {\n        \"dtype\": \"string\",\n        \"num_unique_values\": 1902,\n        \"samples\": [\n          \"Downside risk to NIIT looks limited\",\n          \"Sebi orders defreezing of accounts of five entities\",\n          \"Riding the recovery theme, banks turn analysts favourite; top 10 bets\"\n        ],\n        \"semantic_type\": \"\",\n        \"description\": \"\"\n      }\n    },\n    {\n      \"column\": \"label\",\n      \"properties\": {\n        \"dtype\": \"category\",\n        \"num_unique_values\": 3,\n        \"samples\": [\n          \"negative\",\n          \"positive\",\n          \"neutral\"\n        ],\n        \"semantic_type\": \"\",\n        \"description\": \"\"\n      }\n    }\n  ]\n}"
            }
          },
          "metadata": {},
          "execution_count": 8
        }
      ]
    },
    {
      "cell_type": "code",
      "source": [
        "df[\"label\"].value_counts()"
      ],
      "metadata": {
        "id": "4ffGwiEk53Tv",
        "colab": {
          "base_uri": "https://localhost:8080/"
        },
        "outputId": "4628e850-9a8c-4f96-865a-b0df67abd20a"
      },
      "execution_count": null,
      "outputs": [
        {
          "output_type": "execute_result",
          "data": {
            "text/plain": [
              "label\n",
              "neutral     688\n",
              "positive    656\n",
              "negative    560\n",
              "Name: count, dtype: int64"
            ]
          },
          "metadata": {},
          "execution_count": 9
        }
      ]
    },
    {
      "cell_type": "code",
      "source": [
        "# Separate headline data and ground truth labels\n",
        "X, y = df[\"text\"], df[\"label\"]\n",
        "X.shape, y.shape"
      ],
      "metadata": {
        "id": "nPy2wPKl7qOy",
        "colab": {
          "base_uri": "https://localhost:8080/"
        },
        "outputId": "96428098-9cb1-4c13-9a6b-c36d01ab01fd"
      },
      "execution_count": null,
      "outputs": [
        {
          "output_type": "execute_result",
          "data": {
            "text/plain": [
              "((1904,), (1904,))"
            ]
          },
          "metadata": {},
          "execution_count": 10
        }
      ]
    },
    {
      "cell_type": "code",
      "source": [
        "X = X.to_list()\n",
        "y = y.to_list()"
      ],
      "metadata": {
        "id": "83fFUR4X99fS"
      },
      "execution_count": null,
      "outputs": []
    },
    {
      "cell_type": "code",
      "source": [
        "X[:5]"
      ],
      "metadata": {
        "id": "1t3Tm83wAUe-",
        "colab": {
          "base_uri": "https://localhost:8080/"
        },
        "outputId": "adf9657a-8209-449b-b5dd-fe79865f2c98"
      },
      "execution_count": null,
      "outputs": [
        {
          "output_type": "execute_result",
          "data": {
            "text/plain": [
              "['Diamond sales in domestic market remains flat despite regulatory measures',\n",
              " 'Container Corporation Q3 Net up 5.4% at Rs 249.5 crore',\n",
              " 'JustDial levels of Rs 1000 look rich to me: Sudip Bandyopadhyay',\n",
              " 'After DLF exit, Nifty may have to do without realty sector',\n",
              " 'Benchmark, Motilal AMC line up ETFs based on S&P 500']"
            ]
          },
          "metadata": {},
          "execution_count": 12
        }
      ]
    },
    {
      "cell_type": "code",
      "source": [
        "y[:5]"
      ],
      "metadata": {
        "id": "x9Az7VNl-A6u",
        "colab": {
          "base_uri": "https://localhost:8080/"
        },
        "outputId": "f59bbf5e-1161-4316-ef70-248b67326b90"
      },
      "execution_count": null,
      "outputs": [
        {
          "output_type": "execute_result",
          "data": {
            "text/plain": [
              "['negative', 'positive', 'neutral', 'negative', 'neutral']"
            ]
          },
          "metadata": {},
          "execution_count": 13
        }
      ]
    },
    {
      "cell_type": "markdown",
      "source": [
        "### Load spaCy model to test"
      ],
      "metadata": {
        "id": "xA8-9fdE6EKh"
      }
    },
    {
      "cell_type": "markdown",
      "source": [
        "#### Model (XX)\n",
        "\n",
        "Update \"XX\" with relevant model number to load and test"
      ],
      "metadata": {
        "id": "kUFge9C-G9ti"
      }
    },
    {
      "cell_type": "code",
      "source": [
        "# Load model-best from output_updated folder - update \"XX\" with model number\n",
        "nlp = spacy.load(\"./model-best-24\")\n",
        "# Initialise list to store predictions\n",
        "preds_24 = []\n",
        "# Iterate through example headlines\n",
        "for headline in tqdm(X, desc=\"Testing on model-best-24\"):\n",
        "    prediction = nlp(headline)\n",
        "    preds_24.append(prediction.cats)"
      ],
      "metadata": {
        "id": "R8zXOigK56sT",
        "colab": {
          "base_uri": "https://localhost:8080/",
          "height": 49,
          "referenced_widgets": [
            "811480adc41f42ae82978640ddf69efd",
            "f94c137d0c554063a1b13305ba94055a",
            "02e5be2a24854582b79bc9fcd6978985",
            "0acce38a561a4f0295b8b677171782ce",
            "1eb613a366d0459aadef371efe96fe18",
            "ea98db44db774dcfa71d417864611bca",
            "560eaecb246549cfb6021b338997cb2e",
            "04240bd4e5654c6fa0de0a03527d9a05",
            "e16abed3f90a493983b4c5ba599a7211",
            "b7ea1f10029b44c084772c01d4defa9b",
            "425b20280f844a749b98a52d0d81f297"
          ]
        },
        "outputId": "1bfdc97b-43e4-421f-bbe1-829d45bfd4d6"
      },
      "execution_count": null,
      "outputs": [
        {
          "output_type": "display_data",
          "data": {
            "text/plain": [
              "Testing on model-best-24:   0%|          | 0/1904 [00:00<?, ?it/s]"
            ],
            "application/vnd.jupyter.widget-view+json": {
              "version_major": 2,
              "version_minor": 0,
              "model_id": "811480adc41f42ae82978640ddf69efd"
            }
          },
          "metadata": {}
        }
      ]
    },
    {
      "cell_type": "code",
      "source": [
        "# Update \"XX\" with model number\n",
        "preds_24[0]"
      ],
      "metadata": {
        "id": "GTJ-K8GgBcZf"
      },
      "execution_count": null,
      "outputs": []
    },
    {
      "cell_type": "code",
      "source": [
        "from sklearn.metrics import accuracy_score, precision_score, recall_score\n",
        "\n",
        "predicted_labels = []\n",
        "# Iterate through list prediction dictionaries\n",
        "for pred_dict in tqdm(preds_24):\n",
        "    # Set threshold\n",
        "    threshold = 0.5\n",
        "    # Get category with highest probability\n",
        "    max_prob_category = max(pred_dict, key=pred_dict.get)\n",
        "    if pred_dict[max_prob_category] > threshold:\n",
        "        predicted_labels.append(max_prob_category)\n",
        "    else:\n",
        "        # Handle cases where no category exceeds the threshold\n",
        "        predicted_labels.append(\"unknown\")\n",
        "\n",
        "# Calculate metrics\n",
        "accuracy_24 = accuracy_score(y, predicted_labels)\n",
        "precision_24 = precision_score(y, predicted_labels, average=\"weighted\")\n",
        "recall_24 = recall_score(y, predicted_labels, average=\"weighted\")\n",
        "\n",
        "# Create confusion matrix\n",
        "from sklearn.metrics import confusion_matrix\n",
        "confusion_matrix_24 = confusion_matrix(y, predicted_labels)\n",
        "\n",
        "print(f\"Accuracy (thresholded): {accuracy_24:.4f}\")\n",
        "print(f\"Precision (weighted): {precision_24:.4f}\")\n",
        "print(f\"Recall (weighted): {recall_24:.4f}\")\n",
        "print(\"\\nConfusion Matrix:\\n\", confusion_matrix_24)"
      ],
      "metadata": {
        "id": "AcnFLYzuC0xk"
      },
      "execution_count": null,
      "outputs": []
    }
  ]
}