{
  "cells": [
    {
      "cell_type": "markdown",
      "metadata": {
        "id": "view-in-github",
        "colab_type": "text"
      },
      "source": [
        "<a href=\"https://colab.research.google.com/github/essteer/data-science/blob/main/src/machine_learning/kmeans_zoo_animals.ipynb\" target=\"_parent\"><img src=\"https://colab.research.google.com/assets/colab-badge.svg\" alt=\"Open In Colab\"/></a>"
      ]
    },
    {
      "cell_type": "markdown",
      "id": "1eb17e3a-145f-47ac-a8a1-99248d4fdc8f",
      "metadata": {
        "id": "1eb17e3a-145f-47ac-a8a1-99248d4fdc8f"
      },
      "source": [
        "# K-Means Clustering\n",
        "\n",
        "This exercise explores the application of k-means clustering to a dataset of zoo animals.\n",
        "\n",
        "The full dataset contains 101 entries, with features as described in the table below.\n",
        "\n",
        "| # | Attribute name | Attribute values |\n",
        "|---|---|---|\n",
        "| 1 | animal name | Unique for each instance |\n",
        "| 2 | hair | Boolean |\n",
        "| 3 | feathers | Boolean |\n",
        "| 4 | eggs | Boolean |\n",
        "| 5 | milk | Boolean |\n",
        "| 6 | airborne | Boolean |\n",
        "| 7 | aquatic | Boolean |\n",
        "| 8 | predator | Boolean |\n",
        "| 9 | toothed | Boolean |\n",
        "| 10 | backbone | Boolean |\n",
        "| 11 | breathes | Boolean |\n",
        "| 12 | venomous | Boolean |\n",
        "| 13 | fins | Boolean |\n",
        "| 14 | legs | Numeric (set of values {0,2,4,5,6,8}) |\n",
        "| 15 | tail | Boolean |\n",
        "| 16 | domestic | Boolean |\n",
        "| 17 | catsize | Boolean |\n",
        "| 18 | type | Numeric (integer values in range [1,7]) |"
      ]
    },
    {
      "cell_type": "markdown",
      "source": [
        "## Imports and theme"
      ],
      "metadata": {
        "id": "GSW2GWpdkuwD"
      },
      "id": "GSW2GWpdkuwD"
    },
    {
      "cell_type": "code",
      "execution_count": null,
      "id": "7cf0f5b7-cf87-4422-a730-51c81b663d49",
      "metadata": {
        "id": "7cf0f5b7-cf87-4422-a730-51c81b663d49"
      },
      "outputs": [],
      "source": [
        "import numpy as np\n",
        "import pandas as pd\n",
        "import matplotlib.pyplot as plt\n",
        "from matplotlib.colors import ListedColormap\n",
        "import seaborn as sns\n",
        "from sklearn.cluster import KMeans\n",
        "from sklearn.preprocessing import StandardScaler\n",
        "from sklearn.metrics import adjusted_rand_score\n",
        "from sklearn.metrics import silhouette_score\n",
        "from sklearn.metrics import calinski_harabasz_score\n",
        "from sklearn.metrics import davies_bouldin_score\n",
        "from sklearn.decomposition import PCA"
      ]
    },
    {
      "cell_type": "code",
      "execution_count": null,
      "id": "5c03ac7d-bcfe-457d-b9a4-74231e31ff48",
      "metadata": {
        "id": "5c03ac7d-bcfe-457d-b9a4-74231e31ff48"
      },
      "outputs": [],
      "source": [
        "palette = {\n",
        "    \"dark\": \"#252b33\", \"grey\": \"#45464d\",\n",
        "    \"light\": \"#fefeff\", \"stone\": \"#8f8f94\",\n",
        "    \"blue\": \"#336681\", \"green\": \"#089389\",\n",
        "    \"red\": \"#d34748\", \"pink\": \"#cf82d3\",\n",
        "    \"yellow\": \"#e6daaa\", \"purple\": \"#9a3792\",\n",
        "    \"orange\": \"#f26251\"\n",
        "}\n",
        "# Set plot defaults\n",
        "sns.set_style(rc={\"figure.facecolor\": palette[\"dark\"],\n",
        "                  \"axes.facecolor\": palette[\"dark\"],\n",
        "                  \"axes.edgecolor\": palette[\"light\"],\n",
        "                  \"grid.color\": palette[\"grey\"]})"
      ]
    },
    {
      "cell_type": "code",
      "execution_count": null,
      "id": "44b9c95b-b625-4d9e-b601-5c89fb65c71a",
      "metadata": {
        "id": "44b9c95b-b625-4d9e-b601-5c89fb65c71a"
      },
      "outputs": [],
      "source": [
        "custom_cmap = ListedColormap([\n",
        "    palette[\"red\"], palette[\"blue\"], palette[\"green\"],\n",
        "    palette[\"yellow\"], palette[\"pink\"],\n",
        "    palette[\"light\"], palette[\"grey\"]\n",
        "])"
      ]
    },
    {
      "cell_type": "markdown",
      "id": "b7c24563-2c06-4cf9-a49a-fbef4547f790",
      "metadata": {
        "id": "b7c24563-2c06-4cf9-a49a-fbef4547f790"
      },
      "source": [
        "## Understand the data"
      ]
    },
    {
      "cell_type": "code",
      "execution_count": null,
      "id": "aa651df1-8a56-4122-a449-913d06cfccf6",
      "metadata": {
        "id": "aa651df1-8a56-4122-a449-913d06cfccf6",
        "outputId": "1e0fcad1-2077-45c8-c9da-20a9d45080a5"
      },
      "outputs": [
        {
          "name": "stdout",
          "output_type": "stream",
          "text": [
            "<class 'pandas.core.frame.DataFrame'>\n",
            "RangeIndex: 101 entries, 0 to 100\n",
            "Data columns (total 18 columns):\n",
            " #   Column       Non-Null Count  Dtype \n",
            "---  ------       --------------  ----- \n",
            " 0   animal_name  101 non-null    object\n",
            " 1   hair         101 non-null    int64 \n",
            " 2   feathers     101 non-null    int64 \n",
            " 3   eggs         101 non-null    int64 \n",
            " 4   milk         101 non-null    int64 \n",
            " 5   airborne     101 non-null    int64 \n",
            " 6   aquatic      101 non-null    int64 \n",
            " 7   predator     101 non-null    int64 \n",
            " 8   toothed      101 non-null    int64 \n",
            " 9   backbone     101 non-null    int64 \n",
            " 10  breathes     101 non-null    int64 \n",
            " 11  venomous     101 non-null    int64 \n",
            " 12  fins         101 non-null    int64 \n",
            " 13  legs         101 non-null    int64 \n",
            " 14  tail         101 non-null    int64 \n",
            " 15  domestic     101 non-null    int64 \n",
            " 16  catsize      101 non-null    int64 \n",
            " 17  class_type   101 non-null    int64 \n",
            "dtypes: int64(17), object(1)\n",
            "memory usage: 14.3+ KB\n"
          ]
        }
      ],
      "source": [
        "df = pd.read_csv(\"zoo.csv\")\n",
        "df.info()"
      ]
    },
    {
      "cell_type": "code",
      "execution_count": null,
      "id": "6f1627d0-07e3-4981-8a94-d6308fa64764",
      "metadata": {
        "id": "6f1627d0-07e3-4981-8a94-d6308fa64764",
        "outputId": "91b8afac-58df-4cac-f402-09a2eeb7c791"
      },
      "outputs": [
        {
          "data": {
            "text/html": [
              "<div>\n",
              "<style scoped>\n",
              "    .dataframe tbody tr th:only-of-type {\n",
              "        vertical-align: middle;\n",
              "    }\n",
              "\n",
              "    .dataframe tbody tr th {\n",
              "        vertical-align: top;\n",
              "    }\n",
              "\n",
              "    .dataframe thead th {\n",
              "        text-align: right;\n",
              "    }\n",
              "</style>\n",
              "<table border=\"1\" class=\"dataframe\">\n",
              "  <thead>\n",
              "    <tr style=\"text-align: right;\">\n",
              "      <th></th>\n",
              "      <th>hair</th>\n",
              "      <th>feathers</th>\n",
              "      <th>eggs</th>\n",
              "      <th>milk</th>\n",
              "      <th>airborne</th>\n",
              "      <th>aquatic</th>\n",
              "      <th>predator</th>\n",
              "      <th>toothed</th>\n",
              "      <th>backbone</th>\n",
              "      <th>breathes</th>\n",
              "      <th>venomous</th>\n",
              "      <th>fins</th>\n",
              "      <th>legs</th>\n",
              "      <th>tail</th>\n",
              "      <th>domestic</th>\n",
              "      <th>catsize</th>\n",
              "      <th>class_type</th>\n",
              "    </tr>\n",
              "  </thead>\n",
              "  <tbody>\n",
              "    <tr>\n",
              "      <th>count</th>\n",
              "      <td>101.000000</td>\n",
              "      <td>101.000000</td>\n",
              "      <td>101.000000</td>\n",
              "      <td>101.000000</td>\n",
              "      <td>101.000000</td>\n",
              "      <td>101.000000</td>\n",
              "      <td>101.000000</td>\n",
              "      <td>101.000000</td>\n",
              "      <td>101.000000</td>\n",
              "      <td>101.000000</td>\n",
              "      <td>101.000000</td>\n",
              "      <td>101.000000</td>\n",
              "      <td>101.000000</td>\n",
              "      <td>101.000000</td>\n",
              "      <td>101.000000</td>\n",
              "      <td>101.000000</td>\n",
              "      <td>101.000000</td>\n",
              "    </tr>\n",
              "    <tr>\n",
              "      <th>mean</th>\n",
              "      <td>0.425743</td>\n",
              "      <td>0.198020</td>\n",
              "      <td>0.584158</td>\n",
              "      <td>0.405941</td>\n",
              "      <td>0.237624</td>\n",
              "      <td>0.356436</td>\n",
              "      <td>0.554455</td>\n",
              "      <td>0.603960</td>\n",
              "      <td>0.821782</td>\n",
              "      <td>0.792079</td>\n",
              "      <td>0.079208</td>\n",
              "      <td>0.168317</td>\n",
              "      <td>2.841584</td>\n",
              "      <td>0.742574</td>\n",
              "      <td>0.128713</td>\n",
              "      <td>0.435644</td>\n",
              "      <td>2.831683</td>\n",
              "    </tr>\n",
              "    <tr>\n",
              "      <th>std</th>\n",
              "      <td>0.496921</td>\n",
              "      <td>0.400495</td>\n",
              "      <td>0.495325</td>\n",
              "      <td>0.493522</td>\n",
              "      <td>0.427750</td>\n",
              "      <td>0.481335</td>\n",
              "      <td>0.499505</td>\n",
              "      <td>0.491512</td>\n",
              "      <td>0.384605</td>\n",
              "      <td>0.407844</td>\n",
              "      <td>0.271410</td>\n",
              "      <td>0.376013</td>\n",
              "      <td>2.033385</td>\n",
              "      <td>0.439397</td>\n",
              "      <td>0.336552</td>\n",
              "      <td>0.498314</td>\n",
              "      <td>2.102709</td>\n",
              "    </tr>\n",
              "    <tr>\n",
              "      <th>min</th>\n",
              "      <td>0.000000</td>\n",
              "      <td>0.000000</td>\n",
              "      <td>0.000000</td>\n",
              "      <td>0.000000</td>\n",
              "      <td>0.000000</td>\n",
              "      <td>0.000000</td>\n",
              "      <td>0.000000</td>\n",
              "      <td>0.000000</td>\n",
              "      <td>0.000000</td>\n",
              "      <td>0.000000</td>\n",
              "      <td>0.000000</td>\n",
              "      <td>0.000000</td>\n",
              "      <td>0.000000</td>\n",
              "      <td>0.000000</td>\n",
              "      <td>0.000000</td>\n",
              "      <td>0.000000</td>\n",
              "      <td>1.000000</td>\n",
              "    </tr>\n",
              "    <tr>\n",
              "      <th>25%</th>\n",
              "      <td>0.000000</td>\n",
              "      <td>0.000000</td>\n",
              "      <td>0.000000</td>\n",
              "      <td>0.000000</td>\n",
              "      <td>0.000000</td>\n",
              "      <td>0.000000</td>\n",
              "      <td>0.000000</td>\n",
              "      <td>0.000000</td>\n",
              "      <td>1.000000</td>\n",
              "      <td>1.000000</td>\n",
              "      <td>0.000000</td>\n",
              "      <td>0.000000</td>\n",
              "      <td>2.000000</td>\n",
              "      <td>0.000000</td>\n",
              "      <td>0.000000</td>\n",
              "      <td>0.000000</td>\n",
              "      <td>1.000000</td>\n",
              "    </tr>\n",
              "    <tr>\n",
              "      <th>50%</th>\n",
              "      <td>0.000000</td>\n",
              "      <td>0.000000</td>\n",
              "      <td>1.000000</td>\n",
              "      <td>0.000000</td>\n",
              "      <td>0.000000</td>\n",
              "      <td>0.000000</td>\n",
              "      <td>1.000000</td>\n",
              "      <td>1.000000</td>\n",
              "      <td>1.000000</td>\n",
              "      <td>1.000000</td>\n",
              "      <td>0.000000</td>\n",
              "      <td>0.000000</td>\n",
              "      <td>4.000000</td>\n",
              "      <td>1.000000</td>\n",
              "      <td>0.000000</td>\n",
              "      <td>0.000000</td>\n",
              "      <td>2.000000</td>\n",
              "    </tr>\n",
              "    <tr>\n",
              "      <th>75%</th>\n",
              "      <td>1.000000</td>\n",
              "      <td>0.000000</td>\n",
              "      <td>1.000000</td>\n",
              "      <td>1.000000</td>\n",
              "      <td>0.000000</td>\n",
              "      <td>1.000000</td>\n",
              "      <td>1.000000</td>\n",
              "      <td>1.000000</td>\n",
              "      <td>1.000000</td>\n",
              "      <td>1.000000</td>\n",
              "      <td>0.000000</td>\n",
              "      <td>0.000000</td>\n",
              "      <td>4.000000</td>\n",
              "      <td>1.000000</td>\n",
              "      <td>0.000000</td>\n",
              "      <td>1.000000</td>\n",
              "      <td>4.000000</td>\n",
              "    </tr>\n",
              "    <tr>\n",
              "      <th>max</th>\n",
              "      <td>1.000000</td>\n",
              "      <td>1.000000</td>\n",
              "      <td>1.000000</td>\n",
              "      <td>1.000000</td>\n",
              "      <td>1.000000</td>\n",
              "      <td>1.000000</td>\n",
              "      <td>1.000000</td>\n",
              "      <td>1.000000</td>\n",
              "      <td>1.000000</td>\n",
              "      <td>1.000000</td>\n",
              "      <td>1.000000</td>\n",
              "      <td>1.000000</td>\n",
              "      <td>8.000000</td>\n",
              "      <td>1.000000</td>\n",
              "      <td>1.000000</td>\n",
              "      <td>1.000000</td>\n",
              "      <td>7.000000</td>\n",
              "    </tr>\n",
              "  </tbody>\n",
              "</table>\n",
              "</div>"
            ],
            "text/plain": [
              "             hair    feathers        eggs        milk    airborne     aquatic  \\\n",
              "count  101.000000  101.000000  101.000000  101.000000  101.000000  101.000000   \n",
              "mean     0.425743    0.198020    0.584158    0.405941    0.237624    0.356436   \n",
              "std      0.496921    0.400495    0.495325    0.493522    0.427750    0.481335   \n",
              "min      0.000000    0.000000    0.000000    0.000000    0.000000    0.000000   \n",
              "25%      0.000000    0.000000    0.000000    0.000000    0.000000    0.000000   \n",
              "50%      0.000000    0.000000    1.000000    0.000000    0.000000    0.000000   \n",
              "75%      1.000000    0.000000    1.000000    1.000000    0.000000    1.000000   \n",
              "max      1.000000    1.000000    1.000000    1.000000    1.000000    1.000000   \n",
              "\n",
              "         predator     toothed    backbone    breathes    venomous        fins  \\\n",
              "count  101.000000  101.000000  101.000000  101.000000  101.000000  101.000000   \n",
              "mean     0.554455    0.603960    0.821782    0.792079    0.079208    0.168317   \n",
              "std      0.499505    0.491512    0.384605    0.407844    0.271410    0.376013   \n",
              "min      0.000000    0.000000    0.000000    0.000000    0.000000    0.000000   \n",
              "25%      0.000000    0.000000    1.000000    1.000000    0.000000    0.000000   \n",
              "50%      1.000000    1.000000    1.000000    1.000000    0.000000    0.000000   \n",
              "75%      1.000000    1.000000    1.000000    1.000000    0.000000    0.000000   \n",
              "max      1.000000    1.000000    1.000000    1.000000    1.000000    1.000000   \n",
              "\n",
              "             legs        tail    domestic     catsize  class_type  \n",
              "count  101.000000  101.000000  101.000000  101.000000  101.000000  \n",
              "mean     2.841584    0.742574    0.128713    0.435644    2.831683  \n",
              "std      2.033385    0.439397    0.336552    0.498314    2.102709  \n",
              "min      0.000000    0.000000    0.000000    0.000000    1.000000  \n",
              "25%      2.000000    0.000000    0.000000    0.000000    1.000000  \n",
              "50%      4.000000    1.000000    0.000000    0.000000    2.000000  \n",
              "75%      4.000000    1.000000    0.000000    1.000000    4.000000  \n",
              "max      8.000000    1.000000    1.000000    1.000000    7.000000  "
            ]
          },
          "execution_count": 5,
          "metadata": {},
          "output_type": "execute_result"
        }
      ],
      "source": [
        "df.describe()"
      ]
    },
    {
      "cell_type": "code",
      "execution_count": null,
      "id": "3321bc56-8071-410e-8993-f8c12d91b326",
      "metadata": {
        "id": "3321bc56-8071-410e-8993-f8c12d91b326",
        "outputId": "83165b91-1c2e-4fde-bdaa-bafeb80137d0"
      },
      "outputs": [
        {
          "data": {
            "text/html": [
              "<div>\n",
              "<style scoped>\n",
              "    .dataframe tbody tr th:only-of-type {\n",
              "        vertical-align: middle;\n",
              "    }\n",
              "\n",
              "    .dataframe tbody tr th {\n",
              "        vertical-align: top;\n",
              "    }\n",
              "\n",
              "    .dataframe thead th {\n",
              "        text-align: right;\n",
              "    }\n",
              "</style>\n",
              "<table border=\"1\" class=\"dataframe\">\n",
              "  <thead>\n",
              "    <tr style=\"text-align: right;\">\n",
              "      <th></th>\n",
              "      <th>animal_name</th>\n",
              "      <th>hair</th>\n",
              "      <th>feathers</th>\n",
              "      <th>eggs</th>\n",
              "      <th>milk</th>\n",
              "      <th>airborne</th>\n",
              "      <th>aquatic</th>\n",
              "      <th>predator</th>\n",
              "      <th>toothed</th>\n",
              "      <th>backbone</th>\n",
              "      <th>breathes</th>\n",
              "      <th>venomous</th>\n",
              "      <th>fins</th>\n",
              "      <th>legs</th>\n",
              "      <th>tail</th>\n",
              "      <th>domestic</th>\n",
              "      <th>catsize</th>\n",
              "      <th>class_type</th>\n",
              "    </tr>\n",
              "  </thead>\n",
              "  <tbody>\n",
              "    <tr>\n",
              "      <th>0</th>\n",
              "      <td>aardvark</td>\n",
              "      <td>1</td>\n",
              "      <td>0</td>\n",
              "      <td>0</td>\n",
              "      <td>1</td>\n",
              "      <td>0</td>\n",
              "      <td>0</td>\n",
              "      <td>1</td>\n",
              "      <td>1</td>\n",
              "      <td>1</td>\n",
              "      <td>1</td>\n",
              "      <td>0</td>\n",
              "      <td>0</td>\n",
              "      <td>4</td>\n",
              "      <td>0</td>\n",
              "      <td>0</td>\n",
              "      <td>1</td>\n",
              "      <td>1</td>\n",
              "    </tr>\n",
              "    <tr>\n",
              "      <th>1</th>\n",
              "      <td>antelope</td>\n",
              "      <td>1</td>\n",
              "      <td>0</td>\n",
              "      <td>0</td>\n",
              "      <td>1</td>\n",
              "      <td>0</td>\n",
              "      <td>0</td>\n",
              "      <td>0</td>\n",
              "      <td>1</td>\n",
              "      <td>1</td>\n",
              "      <td>1</td>\n",
              "      <td>0</td>\n",
              "      <td>0</td>\n",
              "      <td>4</td>\n",
              "      <td>1</td>\n",
              "      <td>0</td>\n",
              "      <td>1</td>\n",
              "      <td>1</td>\n",
              "    </tr>\n",
              "    <tr>\n",
              "      <th>2</th>\n",
              "      <td>bass</td>\n",
              "      <td>0</td>\n",
              "      <td>0</td>\n",
              "      <td>1</td>\n",
              "      <td>0</td>\n",
              "      <td>0</td>\n",
              "      <td>1</td>\n",
              "      <td>1</td>\n",
              "      <td>1</td>\n",
              "      <td>1</td>\n",
              "      <td>0</td>\n",
              "      <td>0</td>\n",
              "      <td>1</td>\n",
              "      <td>0</td>\n",
              "      <td>1</td>\n",
              "      <td>0</td>\n",
              "      <td>0</td>\n",
              "      <td>4</td>\n",
              "    </tr>\n",
              "    <tr>\n",
              "      <th>3</th>\n",
              "      <td>bear</td>\n",
              "      <td>1</td>\n",
              "      <td>0</td>\n",
              "      <td>0</td>\n",
              "      <td>1</td>\n",
              "      <td>0</td>\n",
              "      <td>0</td>\n",
              "      <td>1</td>\n",
              "      <td>1</td>\n",
              "      <td>1</td>\n",
              "      <td>1</td>\n",
              "      <td>0</td>\n",
              "      <td>0</td>\n",
              "      <td>4</td>\n",
              "      <td>0</td>\n",
              "      <td>0</td>\n",
              "      <td>1</td>\n",
              "      <td>1</td>\n",
              "    </tr>\n",
              "    <tr>\n",
              "      <th>4</th>\n",
              "      <td>boar</td>\n",
              "      <td>1</td>\n",
              "      <td>0</td>\n",
              "      <td>0</td>\n",
              "      <td>1</td>\n",
              "      <td>0</td>\n",
              "      <td>0</td>\n",
              "      <td>1</td>\n",
              "      <td>1</td>\n",
              "      <td>1</td>\n",
              "      <td>1</td>\n",
              "      <td>0</td>\n",
              "      <td>0</td>\n",
              "      <td>4</td>\n",
              "      <td>1</td>\n",
              "      <td>0</td>\n",
              "      <td>1</td>\n",
              "      <td>1</td>\n",
              "    </tr>\n",
              "    <tr>\n",
              "      <th>...</th>\n",
              "      <td>...</td>\n",
              "      <td>...</td>\n",
              "      <td>...</td>\n",
              "      <td>...</td>\n",
              "      <td>...</td>\n",
              "      <td>...</td>\n",
              "      <td>...</td>\n",
              "      <td>...</td>\n",
              "      <td>...</td>\n",
              "      <td>...</td>\n",
              "      <td>...</td>\n",
              "      <td>...</td>\n",
              "      <td>...</td>\n",
              "      <td>...</td>\n",
              "      <td>...</td>\n",
              "      <td>...</td>\n",
              "      <td>...</td>\n",
              "      <td>...</td>\n",
              "    </tr>\n",
              "    <tr>\n",
              "      <th>96</th>\n",
              "      <td>wallaby</td>\n",
              "      <td>1</td>\n",
              "      <td>0</td>\n",
              "      <td>0</td>\n",
              "      <td>1</td>\n",
              "      <td>0</td>\n",
              "      <td>0</td>\n",
              "      <td>0</td>\n",
              "      <td>1</td>\n",
              "      <td>1</td>\n",
              "      <td>1</td>\n",
              "      <td>0</td>\n",
              "      <td>0</td>\n",
              "      <td>2</td>\n",
              "      <td>1</td>\n",
              "      <td>0</td>\n",
              "      <td>1</td>\n",
              "      <td>1</td>\n",
              "    </tr>\n",
              "    <tr>\n",
              "      <th>97</th>\n",
              "      <td>wasp</td>\n",
              "      <td>1</td>\n",
              "      <td>0</td>\n",
              "      <td>1</td>\n",
              "      <td>0</td>\n",
              "      <td>1</td>\n",
              "      <td>0</td>\n",
              "      <td>0</td>\n",
              "      <td>0</td>\n",
              "      <td>0</td>\n",
              "      <td>1</td>\n",
              "      <td>1</td>\n",
              "      <td>0</td>\n",
              "      <td>6</td>\n",
              "      <td>0</td>\n",
              "      <td>0</td>\n",
              "      <td>0</td>\n",
              "      <td>6</td>\n",
              "    </tr>\n",
              "    <tr>\n",
              "      <th>98</th>\n",
              "      <td>wolf</td>\n",
              "      <td>1</td>\n",
              "      <td>0</td>\n",
              "      <td>0</td>\n",
              "      <td>1</td>\n",
              "      <td>0</td>\n",
              "      <td>0</td>\n",
              "      <td>1</td>\n",
              "      <td>1</td>\n",
              "      <td>1</td>\n",
              "      <td>1</td>\n",
              "      <td>0</td>\n",
              "      <td>0</td>\n",
              "      <td>4</td>\n",
              "      <td>1</td>\n",
              "      <td>0</td>\n",
              "      <td>1</td>\n",
              "      <td>1</td>\n",
              "    </tr>\n",
              "    <tr>\n",
              "      <th>99</th>\n",
              "      <td>worm</td>\n",
              "      <td>0</td>\n",
              "      <td>0</td>\n",
              "      <td>1</td>\n",
              "      <td>0</td>\n",
              "      <td>0</td>\n",
              "      <td>0</td>\n",
              "      <td>0</td>\n",
              "      <td>0</td>\n",
              "      <td>0</td>\n",
              "      <td>1</td>\n",
              "      <td>0</td>\n",
              "      <td>0</td>\n",
              "      <td>0</td>\n",
              "      <td>0</td>\n",
              "      <td>0</td>\n",
              "      <td>0</td>\n",
              "      <td>7</td>\n",
              "    </tr>\n",
              "    <tr>\n",
              "      <th>100</th>\n",
              "      <td>wren</td>\n",
              "      <td>0</td>\n",
              "      <td>1</td>\n",
              "      <td>1</td>\n",
              "      <td>0</td>\n",
              "      <td>1</td>\n",
              "      <td>0</td>\n",
              "      <td>0</td>\n",
              "      <td>0</td>\n",
              "      <td>1</td>\n",
              "      <td>1</td>\n",
              "      <td>0</td>\n",
              "      <td>0</td>\n",
              "      <td>2</td>\n",
              "      <td>1</td>\n",
              "      <td>0</td>\n",
              "      <td>0</td>\n",
              "      <td>2</td>\n",
              "    </tr>\n",
              "  </tbody>\n",
              "</table>\n",
              "<p>101 rows × 18 columns</p>\n",
              "</div>"
            ],
            "text/plain": [
              "    animal_name  hair  feathers  eggs  milk  airborne  aquatic  predator  \\\n",
              "0      aardvark     1         0     0     1         0        0         1   \n",
              "1      antelope     1         0     0     1         0        0         0   \n",
              "2          bass     0         0     1     0         0        1         1   \n",
              "3          bear     1         0     0     1         0        0         1   \n",
              "4          boar     1         0     0     1         0        0         1   \n",
              "..          ...   ...       ...   ...   ...       ...      ...       ...   \n",
              "96      wallaby     1         0     0     1         0        0         0   \n",
              "97         wasp     1         0     1     0         1        0         0   \n",
              "98         wolf     1         0     0     1         0        0         1   \n",
              "99         worm     0         0     1     0         0        0         0   \n",
              "100        wren     0         1     1     0         1        0         0   \n",
              "\n",
              "     toothed  backbone  breathes  venomous  fins  legs  tail  domestic  \\\n",
              "0          1         1         1         0     0     4     0         0   \n",
              "1          1         1         1         0     0     4     1         0   \n",
              "2          1         1         0         0     1     0     1         0   \n",
              "3          1         1         1         0     0     4     0         0   \n",
              "4          1         1         1         0     0     4     1         0   \n",
              "..       ...       ...       ...       ...   ...   ...   ...       ...   \n",
              "96         1         1         1         0     0     2     1         0   \n",
              "97         0         0         1         1     0     6     0         0   \n",
              "98         1         1         1         0     0     4     1         0   \n",
              "99         0         0         1         0     0     0     0         0   \n",
              "100        0         1         1         0     0     2     1         0   \n",
              "\n",
              "     catsize  class_type  \n",
              "0          1           1  \n",
              "1          1           1  \n",
              "2          0           4  \n",
              "3          1           1  \n",
              "4          1           1  \n",
              "..       ...         ...  \n",
              "96         1           1  \n",
              "97         0           6  \n",
              "98         1           1  \n",
              "99         0           7  \n",
              "100        0           2  \n",
              "\n",
              "[101 rows x 18 columns]"
            ]
          },
          "execution_count": 6,
          "metadata": {},
          "output_type": "execute_result"
        }
      ],
      "source": [
        "df"
      ]
    },
    {
      "cell_type": "markdown",
      "id": "67df6f2a-2f60-44af-a321-208e227c092e",
      "metadata": {
        "id": "67df6f2a-2f60-44af-a321-208e227c092e"
      },
      "source": [
        "The dataset contains the details of 101 animals, each with 17 features.\n",
        "\n",
        "The majority (15) of those features are boolean (e.g., lays eggs or doesn't lay eggs); the exceptions are \"animal_name\" (e.g. \"boar\", unique to each animal) and \"legs\", an integer from 0 to 8.\n",
        "\n",
        "Finally, each entry is associated with a class_type attribute between 1 and 7, which identifies the animal as belonging to one of the following classes:\n",
        "1\tMammal,\n",
        "2\tBird,\n",
        "3\tReptile,\n",
        "4\tFish,\n",
        "5\tAmphibian,\n",
        "6\tBug, and\n",
        "7\tInvertebrate."
      ]
    },
    {
      "cell_type": "markdown",
      "id": "4c30df69-965d-4dbc-a7e7-a52c19748d88",
      "metadata": {
        "id": "4c30df69-965d-4dbc-a7e7-a52c19748d88"
      },
      "source": [
        "## Clean the data\n",
        "\n",
        "We saw earlier from the df.info() call that there is no missing data in this dataset.\n",
        "\n",
        "15 of the 17 features are boolean, so should not be subject to concerns of outlier data. Likewise, animal_name is a unique identifier.\n",
        "\n",
        "The legs category may exhibit outliers, but we will want to scale this feature later on to prevent our model from putting undue weight onto this feature (since the boolean categories will all be either 0 or 1, the model may mistakenly identify number of legs as being more important than it truly is, due to the fact that this number can range from 0 to 8 in our dataset).\n",
        "\n",
        "For now, we can sum the boolean features to get a sense of how frequent they are within this dataset, and examine the proportion of entries that fall into the legs and class_type bins."
      ]
    },
    {
      "cell_type": "code",
      "execution_count": null,
      "id": "09e0b7ff-3591-4992-b04d-20011c8a7762",
      "metadata": {
        "id": "09e0b7ff-3591-4992-b04d-20011c8a7762",
        "outputId": "7b3ca516-ee77-4022-f331-35dfad2a4f55"
      },
      "outputs": [
        {
          "data": {
            "text/plain": [
              "hair        43\n",
              "feathers    20\n",
              "eggs        59\n",
              "milk        41\n",
              "airborne    24\n",
              "aquatic     36\n",
              "predator    56\n",
              "toothed     61\n",
              "backbone    83\n",
              "breathes    80\n",
              "venomous     8\n",
              "fins        17\n",
              "tail        75\n",
              "domestic    13\n",
              "catsize     44\n",
              "dtype: int64"
            ]
          },
          "execution_count": 7,
          "metadata": {},
          "output_type": "execute_result"
        }
      ],
      "source": [
        "boolean_df = df.drop(columns=[\"animal_name\", \"legs\", \"class_type\"]).copy()\n",
        "boolean_df.sum()"
      ]
    },
    {
      "cell_type": "markdown",
      "id": "4c041361-a295-44ec-a9ec-64fbb50e8bea",
      "metadata": {
        "id": "4c041361-a295-44ec-a9ec-64fbb50e8bea"
      },
      "source": [
        "Above, we can see that the least common features are \"venomous\" and \"domestic\", applying to just 8 and 13 of the 101 animals, respectively. The most common features are \"backbone\", \"breathes\" and \"tail\", applying to 83, 80, and 75 of the animals in the dataset."
      ]
    },
    {
      "cell_type": "code",
      "execution_count": null,
      "id": "a0982ad2-bdf5-4a1f-a6b8-e7940cb45e1a",
      "metadata": {
        "id": "a0982ad2-bdf5-4a1f-a6b8-e7940cb45e1a",
        "outputId": "2b3c0df0-e8a7-4560-bddd-e725dd115c30"
      },
      "outputs": [
        {
          "data": {
            "text/plain": [
              "class_type\n",
              "1    41\n",
              "2    20\n",
              "3     5\n",
              "4    13\n",
              "5     4\n",
              "6     8\n",
              "7    10\n",
              "dtype: int64"
            ]
          },
          "execution_count": 8,
          "metadata": {},
          "output_type": "execute_result"
        }
      ],
      "source": [
        "class_counts = df.groupby(\"class_type\").size()\n",
        "class_counts"
      ]
    },
    {
      "cell_type": "markdown",
      "id": "4433c3a4-0a60-4365-81d8-4722a95f293e",
      "metadata": {
        "id": "4433c3a4-0a60-4365-81d8-4722a95f293e"
      },
      "source": [
        "Mammals account for close to 41% of the data points, whereas Amphibians and Reptiles account for just around 4% and 5%, respectively. We can anticipate that our models may struggle to correctly identify samples from those classes."
      ]
    },
    {
      "cell_type": "code",
      "execution_count": null,
      "id": "e6b55cb7-4047-4ca8-abac-711dce344a14",
      "metadata": {
        "id": "e6b55cb7-4047-4ca8-abac-711dce344a14",
        "outputId": "63b84515-700d-46f9-964d-c92d8513ef9a"
      },
      "outputs": [
        {
          "data": {
            "text/plain": [
              "legs\n",
              "0    23\n",
              "2    27\n",
              "4    38\n",
              "5     1\n",
              "6    10\n",
              "8     2\n",
              "dtype: int64"
            ]
          },
          "execution_count": 9,
          "metadata": {},
          "output_type": "execute_result"
        }
      ],
      "source": [
        "leg_counts = df.groupby(\"legs\").size()\n",
        "leg_counts"
      ]
    },
    {
      "cell_type": "markdown",
      "id": "66233a6b-2c15-44e9-9bcb-1c968ceadef4",
      "metadata": {
        "id": "66233a6b-2c15-44e9-9bcb-1c968ceadef4"
      },
      "source": [
        "With the exception of five- and eight-legged animals in the dataset (starfish, octopus, and scorpion), the legs feature appears to be fairly evenly spread across the dataset. We noted already that we will likely need to scale this feature for further handling; we can review at that stage whether additional measures are needed."
      ]
    },
    {
      "cell_type": "markdown",
      "id": "41820ae0-f768-40fb-8c4d-c5473068a34f",
      "metadata": {
        "id": "41820ae0-f768-40fb-8c4d-c5473068a34f"
      },
      "source": [
        "## Remove unused features\n",
        "\n",
        "As we saw in the K-Nearest Neighbours exercise, removing independent features actually reduced the predictive ability of the KNN model on this dataset.\n",
        "\n",
        "We will remove only the animal_name feature, since this is not an inherent animal quality."
      ]
    },
    {
      "cell_type": "code",
      "execution_count": null,
      "id": "797bc793-077d-40d1-8197-755b754bb912",
      "metadata": {
        "id": "797bc793-077d-40d1-8197-755b754bb912"
      },
      "outputs": [],
      "source": [
        "model_df = df.drop(columns=\"animal_name\").copy()"
      ]
    },
    {
      "cell_type": "markdown",
      "id": "9b46ac05-b95c-4478-a356-00243f741ade",
      "metadata": {
        "id": "9b46ac05-b95c-4478-a356-00243f741ade"
      },
      "source": [
        "## Feature scaling and transformations\n",
        "\n",
        "As noted above, the \"legs\" feature is likely to induce errors in its present form: the other features are all boolean, whereas \"legs\" can take integers from 0 to 8. To handle this, we can scale the legs feature using scikit-learn's scaling methods."
      ]
    },
    {
      "cell_type": "code",
      "execution_count": null,
      "id": "ceeab500-281a-4659-b8ca-c69d0f712583",
      "metadata": {
        "id": "ceeab500-281a-4659-b8ca-c69d0f712583"
      },
      "outputs": [],
      "source": [
        "legs_values = model_df[\"legs\"].values.reshape(-1, 1)\n",
        "# Instantiate the StandardScaler\n",
        "scaler = StandardScaler()\n",
        "# Fit and transform \"legs\" values\n",
        "legs_scaled = scaler.fit_transform(legs_values)\n",
        "# Replace the original \"legs\" values with the scaled values in your DataFrame\n",
        "model_df[\"legs\"] = legs_scaled"
      ]
    },
    {
      "cell_type": "code",
      "execution_count": null,
      "id": "58a1d1e8-75d5-40ea-a351-e50fc668306b",
      "metadata": {
        "id": "58a1d1e8-75d5-40ea-a351-e50fc668306b",
        "outputId": "6f7e0855-6b1b-4af5-85b7-6092c9247155"
      },
      "outputs": [
        {
          "data": {
            "text/html": [
              "<div>\n",
              "<style scoped>\n",
              "    .dataframe tbody tr th:only-of-type {\n",
              "        vertical-align: middle;\n",
              "    }\n",
              "\n",
              "    .dataframe tbody tr th {\n",
              "        vertical-align: top;\n",
              "    }\n",
              "\n",
              "    .dataframe thead th {\n",
              "        text-align: right;\n",
              "    }\n",
              "</style>\n",
              "<table border=\"1\" class=\"dataframe\">\n",
              "  <thead>\n",
              "    <tr style=\"text-align: right;\">\n",
              "      <th></th>\n",
              "      <th>hair</th>\n",
              "      <th>feathers</th>\n",
              "      <th>eggs</th>\n",
              "      <th>milk</th>\n",
              "      <th>airborne</th>\n",
              "      <th>aquatic</th>\n",
              "      <th>predator</th>\n",
              "      <th>toothed</th>\n",
              "      <th>backbone</th>\n",
              "      <th>breathes</th>\n",
              "      <th>venomous</th>\n",
              "      <th>fins</th>\n",
              "      <th>legs</th>\n",
              "      <th>tail</th>\n",
              "      <th>domestic</th>\n",
              "      <th>catsize</th>\n",
              "      <th>class_type</th>\n",
              "    </tr>\n",
              "  </thead>\n",
              "  <tbody>\n",
              "    <tr>\n",
              "      <th>0</th>\n",
              "      <td>1</td>\n",
              "      <td>0</td>\n",
              "      <td>0</td>\n",
              "      <td>1</td>\n",
              "      <td>0</td>\n",
              "      <td>0</td>\n",
              "      <td>1</td>\n",
              "      <td>1</td>\n",
              "      <td>1</td>\n",
              "      <td>1</td>\n",
              "      <td>0</td>\n",
              "      <td>0</td>\n",
              "      <td>0.572540</td>\n",
              "      <td>0</td>\n",
              "      <td>0</td>\n",
              "      <td>1</td>\n",
              "      <td>1</td>\n",
              "    </tr>\n",
              "    <tr>\n",
              "      <th>1</th>\n",
              "      <td>1</td>\n",
              "      <td>0</td>\n",
              "      <td>0</td>\n",
              "      <td>1</td>\n",
              "      <td>0</td>\n",
              "      <td>0</td>\n",
              "      <td>0</td>\n",
              "      <td>1</td>\n",
              "      <td>1</td>\n",
              "      <td>1</td>\n",
              "      <td>0</td>\n",
              "      <td>0</td>\n",
              "      <td>0.572540</td>\n",
              "      <td>1</td>\n",
              "      <td>0</td>\n",
              "      <td>1</td>\n",
              "      <td>1</td>\n",
              "    </tr>\n",
              "    <tr>\n",
              "      <th>2</th>\n",
              "      <td>0</td>\n",
              "      <td>0</td>\n",
              "      <td>1</td>\n",
              "      <td>0</td>\n",
              "      <td>0</td>\n",
              "      <td>1</td>\n",
              "      <td>1</td>\n",
              "      <td>1</td>\n",
              "      <td>1</td>\n",
              "      <td>0</td>\n",
              "      <td>0</td>\n",
              "      <td>1</td>\n",
              "      <td>-1.404435</td>\n",
              "      <td>1</td>\n",
              "      <td>0</td>\n",
              "      <td>0</td>\n",
              "      <td>4</td>\n",
              "    </tr>\n",
              "    <tr>\n",
              "      <th>3</th>\n",
              "      <td>1</td>\n",
              "      <td>0</td>\n",
              "      <td>0</td>\n",
              "      <td>1</td>\n",
              "      <td>0</td>\n",
              "      <td>0</td>\n",
              "      <td>1</td>\n",
              "      <td>1</td>\n",
              "      <td>1</td>\n",
              "      <td>1</td>\n",
              "      <td>0</td>\n",
              "      <td>0</td>\n",
              "      <td>0.572540</td>\n",
              "      <td>0</td>\n",
              "      <td>0</td>\n",
              "      <td>1</td>\n",
              "      <td>1</td>\n",
              "    </tr>\n",
              "    <tr>\n",
              "      <th>4</th>\n",
              "      <td>1</td>\n",
              "      <td>0</td>\n",
              "      <td>0</td>\n",
              "      <td>1</td>\n",
              "      <td>0</td>\n",
              "      <td>0</td>\n",
              "      <td>1</td>\n",
              "      <td>1</td>\n",
              "      <td>1</td>\n",
              "      <td>1</td>\n",
              "      <td>0</td>\n",
              "      <td>0</td>\n",
              "      <td>0.572540</td>\n",
              "      <td>1</td>\n",
              "      <td>0</td>\n",
              "      <td>1</td>\n",
              "      <td>1</td>\n",
              "    </tr>\n",
              "    <tr>\n",
              "      <th>...</th>\n",
              "      <td>...</td>\n",
              "      <td>...</td>\n",
              "      <td>...</td>\n",
              "      <td>...</td>\n",
              "      <td>...</td>\n",
              "      <td>...</td>\n",
              "      <td>...</td>\n",
              "      <td>...</td>\n",
              "      <td>...</td>\n",
              "      <td>...</td>\n",
              "      <td>...</td>\n",
              "      <td>...</td>\n",
              "      <td>...</td>\n",
              "      <td>...</td>\n",
              "      <td>...</td>\n",
              "      <td>...</td>\n",
              "      <td>...</td>\n",
              "    </tr>\n",
              "    <tr>\n",
              "      <th>96</th>\n",
              "      <td>1</td>\n",
              "      <td>0</td>\n",
              "      <td>0</td>\n",
              "      <td>1</td>\n",
              "      <td>0</td>\n",
              "      <td>0</td>\n",
              "      <td>0</td>\n",
              "      <td>1</td>\n",
              "      <td>1</td>\n",
              "      <td>1</td>\n",
              "      <td>0</td>\n",
              "      <td>0</td>\n",
              "      <td>-0.415948</td>\n",
              "      <td>1</td>\n",
              "      <td>0</td>\n",
              "      <td>1</td>\n",
              "      <td>1</td>\n",
              "    </tr>\n",
              "    <tr>\n",
              "      <th>97</th>\n",
              "      <td>1</td>\n",
              "      <td>0</td>\n",
              "      <td>1</td>\n",
              "      <td>0</td>\n",
              "      <td>1</td>\n",
              "      <td>0</td>\n",
              "      <td>0</td>\n",
              "      <td>0</td>\n",
              "      <td>0</td>\n",
              "      <td>1</td>\n",
              "      <td>1</td>\n",
              "      <td>0</td>\n",
              "      <td>1.561027</td>\n",
              "      <td>0</td>\n",
              "      <td>0</td>\n",
              "      <td>0</td>\n",
              "      <td>6</td>\n",
              "    </tr>\n",
              "    <tr>\n",
              "      <th>98</th>\n",
              "      <td>1</td>\n",
              "      <td>0</td>\n",
              "      <td>0</td>\n",
              "      <td>1</td>\n",
              "      <td>0</td>\n",
              "      <td>0</td>\n",
              "      <td>1</td>\n",
              "      <td>1</td>\n",
              "      <td>1</td>\n",
              "      <td>1</td>\n",
              "      <td>0</td>\n",
              "      <td>0</td>\n",
              "      <td>0.572540</td>\n",
              "      <td>1</td>\n",
              "      <td>0</td>\n",
              "      <td>1</td>\n",
              "      <td>1</td>\n",
              "    </tr>\n",
              "    <tr>\n",
              "      <th>99</th>\n",
              "      <td>0</td>\n",
              "      <td>0</td>\n",
              "      <td>1</td>\n",
              "      <td>0</td>\n",
              "      <td>0</td>\n",
              "      <td>0</td>\n",
              "      <td>0</td>\n",
              "      <td>0</td>\n",
              "      <td>0</td>\n",
              "      <td>1</td>\n",
              "      <td>0</td>\n",
              "      <td>0</td>\n",
              "      <td>-1.404435</td>\n",
              "      <td>0</td>\n",
              "      <td>0</td>\n",
              "      <td>0</td>\n",
              "      <td>7</td>\n",
              "    </tr>\n",
              "    <tr>\n",
              "      <th>100</th>\n",
              "      <td>0</td>\n",
              "      <td>1</td>\n",
              "      <td>1</td>\n",
              "      <td>0</td>\n",
              "      <td>1</td>\n",
              "      <td>0</td>\n",
              "      <td>0</td>\n",
              "      <td>0</td>\n",
              "      <td>1</td>\n",
              "      <td>1</td>\n",
              "      <td>0</td>\n",
              "      <td>0</td>\n",
              "      <td>-0.415948</td>\n",
              "      <td>1</td>\n",
              "      <td>0</td>\n",
              "      <td>0</td>\n",
              "      <td>2</td>\n",
              "    </tr>\n",
              "  </tbody>\n",
              "</table>\n",
              "<p>101 rows × 17 columns</p>\n",
              "</div>"
            ],
            "text/plain": [
              "     hair  feathers  eggs  milk  airborne  aquatic  predator  toothed  \\\n",
              "0       1         0     0     1         0        0         1        1   \n",
              "1       1         0     0     1         0        0         0        1   \n",
              "2       0         0     1     0         0        1         1        1   \n",
              "3       1         0     0     1         0        0         1        1   \n",
              "4       1         0     0     1         0        0         1        1   \n",
              "..    ...       ...   ...   ...       ...      ...       ...      ...   \n",
              "96      1         0     0     1         0        0         0        1   \n",
              "97      1         0     1     0         1        0         0        0   \n",
              "98      1         0     0     1         0        0         1        1   \n",
              "99      0         0     1     0         0        0         0        0   \n",
              "100     0         1     1     0         1        0         0        0   \n",
              "\n",
              "     backbone  breathes  venomous  fins      legs  tail  domestic  catsize  \\\n",
              "0           1         1         0     0  0.572540     0         0        1   \n",
              "1           1         1         0     0  0.572540     1         0        1   \n",
              "2           1         0         0     1 -1.404435     1         0        0   \n",
              "3           1         1         0     0  0.572540     0         0        1   \n",
              "4           1         1         0     0  0.572540     1         0        1   \n",
              "..        ...       ...       ...   ...       ...   ...       ...      ...   \n",
              "96          1         1         0     0 -0.415948     1         0        1   \n",
              "97          0         1         1     0  1.561027     0         0        0   \n",
              "98          1         1         0     0  0.572540     1         0        1   \n",
              "99          0         1         0     0 -1.404435     0         0        0   \n",
              "100         1         1         0     0 -0.415948     1         0        0   \n",
              "\n",
              "     class_type  \n",
              "0             1  \n",
              "1             1  \n",
              "2             4  \n",
              "3             1  \n",
              "4             1  \n",
              "..          ...  \n",
              "96            1  \n",
              "97            6  \n",
              "98            1  \n",
              "99            7  \n",
              "100           2  \n",
              "\n",
              "[101 rows x 17 columns]"
            ]
          },
          "execution_count": 12,
          "metadata": {},
          "output_type": "execute_result"
        }
      ],
      "source": [
        "model_df"
      ]
    },
    {
      "cell_type": "markdown",
      "id": "432e65a3-aa45-432e-b531-2c72c4a1775c",
      "metadata": {
        "id": "432e65a3-aa45-432e-b531-2c72c4a1775c"
      },
      "source": [
        "## Exploratory data analysis (EDA)\n",
        "\n",
        "Before preparing our K-Means model, we can select some of the features to plot againt the class_type label, to get a sense of how the data is clustered.\n",
        "\n",
        "Will will select just a subset of the features, to reduce the number of plots generated."
      ]
    },
    {
      "cell_type": "code",
      "execution_count": null,
      "id": "ae5b3409-c41b-4990-b415-02ecca1c9366",
      "metadata": {
        "id": "ae5b3409-c41b-4990-b415-02ecca1c9366"
      },
      "outputs": [],
      "source": [
        "# Map class_type y values to animal type\n",
        "class_type_map = {\n",
        "    1: \"Mammal\", 2: \"Bird\", 3: \"Reptile\",\n",
        "    4: \"Fish\", 5: \"Amphibian\", 6: \"Bug\", 7: \"Invertebrate\"\n",
        "}"
      ]
    },
    {
      "cell_type": "code",
      "execution_count": null,
      "id": "d35fd185-c103-4ab5-a122-df1313eb58da",
      "metadata": {
        "id": "d35fd185-c103-4ab5-a122-df1313eb58da"
      },
      "outputs": [],
      "source": [
        "selected_columns = [\"eggs\", \"aquatic\", \"venomous\", \"legs\", \"class_type\"]\n",
        "subset_df = model_df[selected_columns]"
      ]
    },
    {
      "cell_type": "code",
      "execution_count": null,
      "id": "74ea4b75-1c89-4a44-811c-b2e632b8ddf4",
      "metadata": {
        "id": "74ea4b75-1c89-4a44-811c-b2e632b8ddf4",
        "outputId": "475d2f5e-96f8-4828-e9fb-93f6a0c0faaa"
      },
      "outputs": [
        {
          "data": {
            "image/png": "[encoded data removed]",
            "text/plain": [
              "<Figure size 1090.6x1000 with 20 Axes>"
            ]
          },
          "metadata": {},
          "output_type": "display_data"
        }
      ],
      "source": [
        "# Convert custom_cmap to a list of colors\n",
        "colours_list = [custom_cmap.colors[i] for i in range(custom_cmap.N)]\n",
        "# Create a pairplot with scatter plots for each feature against the label\n",
        "sns.pairplot(subset_df, hue=\"class_type\", palette=colours_list, plot_kws={'alpha': 0.8})\n",
        "plt.show()"
      ]
    },
    {
      "cell_type": "markdown",
      "id": "58c04b1f-f7b2-44e7-ba73-fec75b8faf81",
      "metadata": {
        "id": "58c04b1f-f7b2-44e7-ba73-fec75b8faf81"
      },
      "source": [
        "The pairplots above depict combinations for just four of the features. However, as in the full feature list, only the \"legs\" feature is non-binary. We can observe that the binary nature of the features, combined with the fact of there being seven different class types, may make difficult the task of correctly separating the data according to class-type."
      ]
    },
    {
      "cell_type": "markdown",
      "id": "39d1355d-7d79-4460-bf47-e62602e091f3",
      "metadata": {
        "id": "39d1355d-7d79-4460-bf47-e62602e091f3"
      },
      "source": [
        "## Prepare data for training\n",
        "\n",
        "Next, we can prepare our data for modelling. Since we already identified that some class_types, such as reptile and amphibian, are underrepresented in the dataset, we accomodate for this by using scikit-learn's \"stratify\" parameter on the class_type label."
      ]
    },
    {
      "cell_type": "code",
      "execution_count": null,
      "id": "e75f464f-d59e-4971-b097-2525d3d91d71",
      "metadata": {
        "id": "e75f464f-d59e-4971-b097-2525d3d91d71"
      },
      "outputs": [],
      "source": [
        "# Take all remaining features as X values; last column is the target, class_type\n",
        "X = model_df.iloc[:,:-1].values\n",
        "y = model_df.class_type.values"
      ]
    },
    {
      "cell_type": "markdown",
      "id": "368ea075-8b38-4d92-b048-ba442e449ea8",
      "metadata": {
        "id": "368ea075-8b38-4d92-b048-ba442e449ea8"
      },
      "source": [
        "## K-means clustering"
      ]
    },
    {
      "cell_type": "markdown",
      "id": "116259ab-5f96-4603-ac63-c158532aa8ea",
      "metadata": {
        "id": "116259ab-5f96-4603-ac63-c158532aa8ea"
      },
      "source": [
        "### Elbow method\n",
        "\n",
        "The elbow method is applied to determine the optimal number of clusters a model should use, when that number is unknown.\n",
        "\n",
        "In this case, we know that there are seven classes of animal (mammal, bird, reptile, fish, amphibian, bug, invertebrate), so we will fix our number of clusters at seven.\n",
        "\n",
        "### K-Means\n",
        "\n",
        "Scikit-learn's [KMeans documentation](https://scikit-learn.org/stable/modules/generated/sklearn.cluster.KMeans.html#sklearn.cluster.KMeans) defines parameters for the K-Means model.\n",
        "\n",
        "In our case, n_clusters is 7 for our number of classes. We will experiment with both of the algorithms provided, the classical Expectation-Maximisation algorithm (\"lloyd\") and the \"Elkan\" variation.\n",
        "\n",
        "An n_init value of \"auto\" will use the default number of iterations (10). The model will return values based on the most successful of those iterations."
      ]
    },
    {
      "cell_type": "code",
      "execution_count": null,
      "id": "95d51d8f-35fd-4734-8c6d-422c6e599ed8",
      "metadata": {
        "id": "95d51d8f-35fd-4734-8c6d-422c6e599ed8"
      },
      "outputs": [],
      "source": [
        "kmeans_lloyd = KMeans(n_clusters=7, random_state=27, init=\"k-means++\", n_init=\"auto\", algorithm=\"lloyd\")\n",
        "y_kmeans_lloyd = kmeans_lloyd.fit_predict(X)"
      ]
    },
    {
      "cell_type": "code",
      "execution_count": null,
      "id": "0a682db6-8f2c-4213-a2a6-1c2d6ab55bce",
      "metadata": {
        "id": "0a682db6-8f2c-4213-a2a6-1c2d6ab55bce",
        "outputId": "976e3bc3-de40-4305-eafb-a1d9b5a86fd6"
      },
      "outputs": [
        {
          "data": {
            "text/plain": [
              "array([3, 3, 5, 3, 3, 3, 3, 5, 5, 3, 3, 2, 5, 4, 6, 6, 2, 3, 5, 1, 2, 2,\n",
              "       3, 2, 0, 6, 6, 3, 3, 3, 0, 3, 3, 2, 5, 3, 3, 2, 5, 0, 0, 2, 0, 2,\n",
              "       3, 3, 6, 3, 3, 3, 3, 0, 6, 6, 3, 3, 2, 2, 2, 2, 5, 5, 4, 3, 3, 3,\n",
              "       1, 3, 3, 3, 3, 2, 0, 5, 1, 1, 5, 4, 2, 2, 4, 4, 5, 2, 3, 6, 5, 2,\n",
              "       0, 6, 2, 6, 5, 3, 3, 2, 3, 0, 3, 4, 2])"
            ]
          },
          "execution_count": 18,
          "metadata": {},
          "output_type": "execute_result"
        }
      ],
      "source": [
        "y_kmeans_lloyd"
      ]
    },
    {
      "cell_type": "code",
      "execution_count": null,
      "id": "0a05c231-467a-4f1f-89b0-2c21d6cee679",
      "metadata": {
        "id": "0a05c231-467a-4f1f-89b0-2c21d6cee679"
      },
      "outputs": [],
      "source": [
        "kmeans_elkan = KMeans(n_clusters=7, random_state=27, init=\"k-means++\", n_init=\"auto\", algorithm=\"elkan\")\n",
        "y_kmeans_elkan = kmeans_elkan.fit_predict(X)"
      ]
    },
    {
      "cell_type": "code",
      "execution_count": null,
      "id": "d7c323d2-960a-4926-b664-13195d3a92b2",
      "metadata": {
        "id": "d7c323d2-960a-4926-b664-13195d3a92b2",
        "outputId": "892b6068-68e1-48f7-ec67-556a7eb12d27"
      },
      "outputs": [
        {
          "data": {
            "text/plain": [
              "array([3, 3, 5, 3, 3, 3, 3, 5, 5, 3, 3, 2, 5, 4, 6, 6, 2, 3, 5, 1, 2, 2,\n",
              "       3, 2, 0, 6, 6, 3, 3, 3, 0, 3, 3, 2, 5, 3, 3, 2, 5, 0, 0, 2, 0, 2,\n",
              "       3, 3, 6, 3, 3, 3, 3, 0, 6, 6, 3, 3, 2, 2, 2, 2, 5, 5, 4, 3, 3, 3,\n",
              "       1, 3, 3, 3, 3, 2, 0, 5, 1, 1, 4, 4, 2, 2, 4, 4, 5, 2, 3, 6, 5, 2,\n",
              "       0, 6, 2, 6, 5, 3, 3, 2, 3, 0, 3, 4, 2])"
            ]
          },
          "execution_count": 20,
          "metadata": {},
          "output_type": "execute_result"
        }
      ],
      "source": [
        "y_kmeans_elkan"
      ]
    },
    {
      "cell_type": "markdown",
      "id": "0d982b09-39c7-4469-acac-7ea18b4d80d7",
      "metadata": {
        "id": "0d982b09-39c7-4469-acac-7ea18b4d80d7"
      },
      "source": [
        "Reviewing the output of the Lloyd and Elkan algorithms above, their predictions on the training data are similar but not identical. With a larger dataset, we might observe greater variation between the two models.\n",
        "\n",
        "### Evaluation metrics\n",
        "\n",
        "Our model is 16-dimensional, so cannot be plotted in its current form. In lieu of plotting, we will examine the model metrics to understand its explanatory power.\n",
        "\n",
        "#### Silhouette Score:\n",
        "\n",
        "Measures how similar an object is to its own cluster (cohesion) compared to other clusters (separation).\n",
        "Scores range from -1 to 1, where a high value indicates that the object is well matched to its own cluster and poorly matched to neighboring clusters."
      ]
    },
    {
      "cell_type": "code",
      "execution_count": null,
      "id": "06816226-abb9-4c5c-ac02-4962eb9924ab",
      "metadata": {
        "id": "06816226-abb9-4c5c-ac02-4962eb9924ab",
        "outputId": "63ee9ff4-5838-4ee8-ce5b-21be3b480520"
      },
      "outputs": [
        {
          "name": "stdout",
          "output_type": "stream",
          "text": [
            "Silhouette Score - Lloyd: 0.42204\n",
            "Silhouette Score - Elkan: 0.42199\n"
          ]
        }
      ],
      "source": [
        "silhouette_avg_lloyd = silhouette_score(X, y_kmeans_lloyd)\n",
        "silhouette_avg_elkan = silhouette_score(X, y_kmeans_elkan)\n",
        "print(f\"Silhouette Score - Lloyd: {silhouette_avg_lloyd:.5f}\")\n",
        "print(f\"Silhouette Score - Elkan: {silhouette_avg_elkan:.5f}\")"
      ]
    },
    {
      "cell_type": "markdown",
      "id": "1d87dd78-ca67-4a0e-b89b-6a29380ae474",
      "metadata": {
        "id": "1d87dd78-ca67-4a0e-b89b-6a29380ae474"
      },
      "source": [
        "Our scores are well into the positive range, but still far from ideal.\n",
        "\n",
        "The Lloyd algorithm has performed slightly better than the Elkan algorithm, though the difference is negligible."
      ]
    },
    {
      "cell_type": "markdown",
      "id": "29ab7774-1e37-44be-9662-590a9f7c1465",
      "metadata": {
        "id": "29ab7774-1e37-44be-9662-590a9f7c1465"
      },
      "source": [
        "## K-means clustering with principal component analysis (PCA)\n",
        "\n",
        "We will apply PCA to reduce the dimensionality of our dataset to just two features, and plot the results."
      ]
    },
    {
      "cell_type": "code",
      "execution_count": null,
      "id": "368bfeba-85f6-4ad8-b37d-7e2d39ac0c4f",
      "metadata": {
        "id": "368bfeba-85f6-4ad8-b37d-7e2d39ac0c4f"
      },
      "outputs": [],
      "source": [
        "# Apply PCA to reduce dimensionality to 2 components\n",
        "pca = PCA(n_components=2)\n",
        "X_2d = pca.fit_transform(X)"
      ]
    },
    {
      "cell_type": "code",
      "execution_count": null,
      "id": "bfd400dd-7bd0-47d1-9db7-ff0ef620f50b",
      "metadata": {
        "id": "bfd400dd-7bd0-47d1-9db7-ff0ef620f50b"
      },
      "outputs": [],
      "source": [
        "kmeans_pca = KMeans(n_clusters=7, random_state=27, init=\"k-means++\", n_init=\"auto\", algorithm=\"lloyd\")\n",
        "# kmeans_pca = KMeans(n_clusters=7, random_state=27, init=\"k-means++\", n_init=\"auto\", algorithm=\"lloyd\")\n",
        "y_kmeans_pca = kmeans_pca.fit_predict(X_2d)"
      ]
    },
    {
      "cell_type": "code",
      "execution_count": null,
      "id": "c3e826db-b2c1-4092-9008-0ea781ed7d49",
      "metadata": {
        "id": "c3e826db-b2c1-4092-9008-0ea781ed7d49",
        "outputId": "43783ebc-a997-4354-fa91-13b5f635db93"
      },
      "outputs": [
        {
          "data": {
            "text/plain": [
              "array([3, 3, 4, 3, 3, 3, 3, 4, 4, 3, 3, 2, 4, 2, 5, 0, 2, 3, 4, 6, 2, 2,\n",
              "       3, 2, 0, 5, 5, 1, 3, 1, 0, 3, 1, 2, 4, 3, 3, 2, 4, 0, 0, 2, 0, 2,\n",
              "       3, 3, 0, 3, 3, 3, 3, 0, 5, 0, 3, 3, 2, 2, 2, 2, 4, 4, 4, 5, 3, 3,\n",
              "       6, 3, 3, 3, 3, 2, 0, 4, 6, 1, 4, 2, 2, 2, 4, 2, 4, 2, 1, 0, 4, 2,\n",
              "       0, 5, 5, 5, 4, 1, 3, 2, 1, 0, 3, 2, 2])"
            ]
          },
          "execution_count": 24,
          "metadata": {},
          "output_type": "execute_result"
        }
      ],
      "source": [
        "y_kmeans_pca"
      ]
    },
    {
      "cell_type": "code",
      "execution_count": null,
      "id": "fd18f0ba-8c99-44aa-8482-43c86b9b6c7a",
      "metadata": {
        "id": "fd18f0ba-8c99-44aa-8482-43c86b9b6c7a",
        "outputId": "eab82fe8-fba2-428a-9d78-febf03062d5a"
      },
      "outputs": [
        {
          "name": "stdout",
          "output_type": "stream",
          "text": [
            "Silhouette Score - PCA: 0.32109\n"
          ]
        }
      ],
      "source": [
        "silhouette_avg_pca = silhouette_score(X, y_kmeans_pca)\n",
        "print(f\"Silhouette Score - PCA: {silhouette_avg_pca:.5f}\")"
      ]
    },
    {
      "cell_type": "markdown",
      "id": "693557eb-0a9d-4437-b125-ae21197849b1",
      "metadata": {
        "id": "693557eb-0a9d-4437-b125-ae21197849b1"
      },
      "source": [
        "Note that PCA has resulted in a worse silhouette score compared with the full 16-dimensional dataset.\n",
        "\n",
        "### Plot clusters (coloured by cluster)\n",
        "\n",
        "First, we can plot the results of the PCA K-Means model, assigning a unique colour to each cluster."
      ]
    },
    {
      "cell_type": "code",
      "execution_count": null,
      "id": "7d57d0b8-e951-43cb-8545-4a46423dfdd0",
      "metadata": {
        "id": "7d57d0b8-e951-43cb-8545-4a46423dfdd0",
        "outputId": "ee78d20a-ca91-4ac2-d014-6922fe486190"
      },
      "outputs": [
        {
          "data": {
            "image/png": "[encoded data removed]",
            "text/plain": [
              "<Figure size 600x400 with 1 Axes>"
            ]
          },
          "metadata": {},
          "output_type": "display_data"
        }
      ],
      "source": [
        "fig, ax = plt.subplots(figsize=(6, 4))\n",
        "# Plot clusters\n",
        "plt.scatter(X_2d[:, 0],  # 1st component\n",
        "            X_2d[:, 1],  # 2nd component\n",
        "            s=50,\n",
        "            c=y_kmeans_pca,\n",
        "            cmap=custom_cmap,\n",
        "            ec=palette[\"stone\"])\n",
        "plt.scatter(kmeans_pca.cluster_centers_[:,0], kmeans_pca.cluster_centers_[:,1], s=100, c=palette[\"purple\"], marker=\"x\", label=\"Centroids\")\n",
        "# Set descriptors\n",
        "plt.title(\"K-Means Clustering in 2D (PCA)\\n(coloured by cluster)\", fontdict={\"size\": 16, \"color\": palette[\"light\"]})\n",
        "plt.xlabel(\"Principal Component 1\", fontdict={\"size\": 12, \"color\": palette[\"light\"]})\n",
        "plt.ylabel(\"Principal Component 2\", fontdict={\"size\": 12, \"color\": palette[\"light\"]})\n",
        "\n",
        "sns.despine(offset=5)\n",
        "# Remove ticks from x and y axes (left and bottom)\n",
        "ax.tick_params(left=False, bottom=False, colors=palette[\"stone\"])\n",
        "\n",
        "plt.show()"
      ]
    },
    {
      "cell_type": "markdown",
      "id": "9773262c-6f3b-4a3f-90ed-bfac5442dcd8",
      "metadata": {
        "id": "9773262c-6f3b-4a3f-90ed-bfac5442dcd8"
      },
      "source": [
        "From the plot above, we can observe perhaps 4-5 distinct clusters, though there are many ambiguous datapoints that could just as easily be assigned to neighbouring clusters.\n",
        "\n",
        "### Plot clusters (coloured by true class_type)\n",
        "\n",
        "To evaluate how successful our model was in determining the label of each datapoint, we now re-plot the above data, but this time colour each point based on its true class_type."
      ]
    },
    {
      "cell_type": "code",
      "execution_count": null,
      "id": "f1357ce0-f8b3-47b9-8765-98bb8cdec9d4",
      "metadata": {
        "id": "f1357ce0-f8b3-47b9-8765-98bb8cdec9d4"
      },
      "outputs": [],
      "source": [
        "# Map class_type y values to animal type\n",
        "class_type_map = {\n",
        "    1: \"Mammal\",\n",
        "    2: \"Bird\",\n",
        "    3: \"Reptile\",\n",
        "    4: \"Fish\",\n",
        "    5: \"Amphibian\",\n",
        "    6: \"Bug\",\n",
        "    7: \"Invertebrate\"\n",
        "}"
      ]
    },
    {
      "cell_type": "code",
      "execution_count": null,
      "id": "e3213a58-b394-4e35-bc77-0b7d90c660ce",
      "metadata": {
        "id": "e3213a58-b394-4e35-bc77-0b7d90c660ce",
        "outputId": "c45d888c-eabf-4ec6-d8d4-8a4103440824"
      },
      "outputs": [
        {
          "data": {
            "image/png": "[encoded data removed]",
            "text/plain": [
              "<Figure size 600x400 with 1 Axes>"
            ]
          },
          "metadata": {},
          "output_type": "display_data"
        }
      ],
      "source": [
        "fig, ax = plt.subplots(figsize=(6, 4))\n",
        "# Plot clusters with true class labels and legend labels\n",
        "for class_label in set(y):\n",
        "    class_points = X_2d[y == class_label]\n",
        "    plt.scatter(class_points[:, 0],  # 1st component\n",
        "                class_points[:, 1],  # 2nd compoentn1\n",
        "                s=50,\n",
        "                c=[custom_cmap(class_label - 1)],  # -1 to match indices\n",
        "                ec=palette[\"stone\"],\n",
        "                label=f\"Class {class_label} ({class_type_map[class_label]})\")\n",
        "# Plot centroids\n",
        "plt.scatter(kmeans_pca.cluster_centers_[:,0],\n",
        "            kmeans_pca.cluster_centers_[:,1],\n",
        "            s=100, c=palette[\"purple\"], marker=\"x\", label=\"Centroids\")\n",
        "# Set descriptors\n",
        "plt.title(\"K-Means Clustering in 2D (PCA)\\n(coloured by class_type)\", fontdict={\"size\": 16, \"color\": palette[\"light\"]})\n",
        "plt.xlabel(\"Principal Component 1\", fontdict={\"size\": 12, \"color\": palette[\"light\"]})\n",
        "plt.ylabel(\"Principal Component 2\", fontdict={\"size\": 12, \"color\": palette[\"light\"]})\n",
        "\n",
        "legend = plt.legend(bbox_to_anchor=(1, 0.8))\n",
        "# Set legend text color\n",
        "for text in legend.get_texts():\n",
        "    text.set_color(palette[\"stone\"])\n",
        "\n",
        "sns.despine(offset=5)\n",
        "# Remove ticks from x and y axes (left and bottom)\n",
        "ax.tick_params(left=False, bottom=False, colors=palette[\"stone\"])\n",
        "\n",
        "plt.show()"
      ]
    },
    {
      "cell_type": "markdown",
      "id": "8f0332aa-001b-497f-b8c0-7de6d0beccc5",
      "metadata": {
        "id": "8f0332aa-001b-497f-b8c0-7de6d0beccc5"
      },
      "source": [
        "This plot suggests that our K-Means algorithm has struggled to correctly cluster the animals in the dataset.\n",
        "\n",
        "Note that the Mammal (red) class is grouped together, though the large variance within the points has resulted in the data being assigned to three separate clusters that contain no other classes of animal (the bottom three centroids).\n",
        "\n",
        "Comparing with the cluster-based plot we first generated, we observe that one Mammal record, at approximately (0.5, 0.0) was assigned to the centroid shared by pink and green points, roughly in the center of the plot.\n",
        "\n",
        "The Bird (blue), Fish (yellow), Amphibian (pink) and Bug (white) animal classes have all been successfully clustered together with one centroid each.\n",
        "\n",
        "Unfortunately, however, these clusters are shared with points from either the Reptile (green) or Invertebrate (grey) classes.\n",
        "\n",
        "The algorithm has clearly had difficulty in correctly assigned the Reptile and Invertebrate records, and this has resulted in significant in the correct categorisation of the data."
      ]
    }
  ],
  "metadata": {
    "kernelspec": {
      "display_name": "Python 3 (ipykernel)",
      "language": "python",
      "name": "python3"
    },
    "language_info": {
      "codemirror_mode": {
        "name": "ipython",
        "version": 3
      },
      "file_extension": ".py",
      "mimetype": "text/x-python",
      "name": "python",
      "nbconvert_exporter": "python",
      "pygments_lexer": "ipython3",
      "version": "3.10.11"
    },
    "colab": {
      "provenance": [],
      "include_colab_link": true
    }
  },
  "nbformat": 4,
  "nbformat_minor": 5
}