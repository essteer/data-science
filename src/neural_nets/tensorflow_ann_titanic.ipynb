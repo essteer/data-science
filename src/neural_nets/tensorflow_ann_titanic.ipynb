{
  "cells": [
    {
      "cell_type": "markdown",
      "metadata": {
        "id": "view-in-github",
        "colab_type": "text"
      },
      "source": [
        "<a href=\"https://colab.research.google.com/github/essteer/data-science/blob/main/src/neural_nets/tensorflow_ann_titanic.ipynb\" target=\"_parent\"><img src=\"https://colab.research.google.com/assets/colab-badge.svg\" alt=\"Open In Colab\"/></a>"
      ]
    },
    {
      "cell_type": "markdown",
      "id": "d09369da-4fc5-4923-a63c-035b3cf709d3",
      "metadata": {
        "id": "d09369da-4fc5-4923-a63c-035b3cf709d3"
      },
      "source": [
        "# TensorFlow ANN - Titanic Dataset"
      ]
    },
    {
      "cell_type": "code",
      "execution_count": null,
      "id": "ed796964-6bb6-468d-813b-f4d173eda5bd",
      "metadata": {
        "id": "ed796964-6bb6-468d-813b-f4d173eda5bd"
      },
      "outputs": [],
      "source": [
        "import matplotlib.pyplot as plt\n",
        "import numpy as np\n",
        "import pandas as pd\n",
        "from sklearn.preprocessing import LabelEncoder, OneHotEncoder\n",
        "from sklearn.preprocessing import StandardScaler\n",
        "from sklearn.model_selection import train_test_split\n",
        "from sklearn.metrics import accuracy_score, confusion_matrix, classification_report\n",
        "import keras\n",
        "from keras.models import Sequential\n",
        "from keras.layers import Dense"
      ]
    },
    {
      "cell_type": "code",
      "execution_count": null,
      "id": "a5fa0bfa-288a-4d3f-b7e4-2aa8237558c3",
      "metadata": {
        "id": "a5fa0bfa-288a-4d3f-b7e4-2aa8237558c3"
      },
      "outputs": [],
      "source": [
        "df = pd.read_csv(\"titanic.csv\")"
      ]
    },
    {
      "cell_type": "code",
      "execution_count": null,
      "id": "214fa92c-2b20-470c-a4d5-5b366fdcc0d7",
      "metadata": {
        "id": "214fa92c-2b20-470c-a4d5-5b366fdcc0d7",
        "outputId": "4a08daf4-1e0e-420c-d875-89b5088ace3e"
      },
      "outputs": [
        {
          "name": "stdout",
          "output_type": "stream",
          "text": [
            "<class 'pandas.core.frame.DataFrame'>\n",
            "RangeIndex: 891 entries, 0 to 890\n",
            "Data columns (total 12 columns):\n",
            " #   Column       Non-Null Count  Dtype  \n",
            "---  ------       --------------  -----  \n",
            " 0   PassengerId  891 non-null    int64  \n",
            " 1   Survived     891 non-null    int64  \n",
            " 2   Pclass       891 non-null    int64  \n",
            " 3   Name         891 non-null    object \n",
            " 4   Sex          891 non-null    object \n",
            " 5   Age          714 non-null    float64\n",
            " 6   SibSp        891 non-null    int64  \n",
            " 7   Parch        891 non-null    int64  \n",
            " 8   Ticket       891 non-null    object \n",
            " 9   Fare         891 non-null    float64\n",
            " 10  Cabin        204 non-null    object \n",
            " 11  Embarked     889 non-null    object \n",
            "dtypes: float64(2), int64(5), object(5)\n",
            "memory usage: 83.7+ KB\n"
          ]
        }
      ],
      "source": [
        "df.info()"
      ]
    },
    {
      "cell_type": "code",
      "execution_count": null,
      "id": "74571d6a-17c7-4322-b7d3-09c51f73c515",
      "metadata": {
        "id": "74571d6a-17c7-4322-b7d3-09c51f73c515",
        "outputId": "0befd4f5-376d-4590-fdfe-9bc9ea5135ff"
      },
      "outputs": [
        {
          "data": {
            "text/plain": [
              "681"
            ]
          },
          "execution_count": 267,
          "metadata": {},
          "output_type": "execute_result"
        }
      ],
      "source": [
        "df[\"Ticket\"].nunique()"
      ]
    },
    {
      "cell_type": "code",
      "execution_count": null,
      "id": "a8e45b87-7497-4aa3-9bdd-02cc13ee3fa7",
      "metadata": {
        "id": "a8e45b87-7497-4aa3-9bdd-02cc13ee3fa7",
        "outputId": "3b7b5531-e536-4c46-90e6-7b95c943d7a5"
      },
      "outputs": [
        {
          "data": {
            "text/plain": [
              "147"
            ]
          },
          "execution_count": 268,
          "metadata": {},
          "output_type": "execute_result"
        }
      ],
      "source": [
        "df[\"Cabin\"].nunique()"
      ]
    },
    {
      "cell_type": "code",
      "execution_count": null,
      "id": "f725fa2f-ff4c-4fee-b4e5-68827f4d72d0",
      "metadata": {
        "id": "f725fa2f-ff4c-4fee-b4e5-68827f4d72d0"
      },
      "outputs": [],
      "source": [
        "# Drop arbitrary values\n",
        "df = df.drop(columns=[\"PassengerId\", \"Name\", \"Ticket\", \"Cabin\"])"
      ]
    },
    {
      "cell_type": "code",
      "execution_count": null,
      "id": "d7bc273f-2141-408d-9442-b4ab7879f5cd",
      "metadata": {
        "id": "d7bc273f-2141-408d-9442-b4ab7879f5cd",
        "outputId": "faf04296-e71f-44ef-d0ae-8ee8a0d1195a"
      },
      "outputs": [
        {
          "data": {
            "text/html": [
              "<div>\n",
              "<style scoped>\n",
              "    .dataframe tbody tr th:only-of-type {\n",
              "        vertical-align: middle;\n",
              "    }\n",
              "\n",
              "    .dataframe tbody tr th {\n",
              "        vertical-align: top;\n",
              "    }\n",
              "\n",
              "    .dataframe thead th {\n",
              "        text-align: right;\n",
              "    }\n",
              "</style>\n",
              "<table border=\"1\" class=\"dataframe\">\n",
              "  <thead>\n",
              "    <tr style=\"text-align: right;\">\n",
              "      <th></th>\n",
              "      <th>Survived</th>\n",
              "      <th>Pclass</th>\n",
              "      <th>Sex</th>\n",
              "      <th>Age</th>\n",
              "      <th>SibSp</th>\n",
              "      <th>Parch</th>\n",
              "      <th>Fare</th>\n",
              "      <th>Embarked</th>\n",
              "    </tr>\n",
              "  </thead>\n",
              "  <tbody>\n",
              "    <tr>\n",
              "      <th>0</th>\n",
              "      <td>0</td>\n",
              "      <td>3</td>\n",
              "      <td>male</td>\n",
              "      <td>22.0</td>\n",
              "      <td>1</td>\n",
              "      <td>0</td>\n",
              "      <td>7.25</td>\n",
              "      <td>S</td>\n",
              "    </tr>\n",
              "    <tr>\n",
              "      <th>890</th>\n",
              "      <td>0</td>\n",
              "      <td>3</td>\n",
              "      <td>male</td>\n",
              "      <td>32.0</td>\n",
              "      <td>0</td>\n",
              "      <td>0</td>\n",
              "      <td>7.75</td>\n",
              "      <td>Q</td>\n",
              "    </tr>\n",
              "  </tbody>\n",
              "</table>\n",
              "</div>"
            ],
            "text/plain": [
              "     Survived  Pclass   Sex   Age  SibSp  Parch  Fare Embarked\n",
              "0           0       3  male  22.0      1      0  7.25        S\n",
              "890         0       3  male  32.0      0      0  7.75        Q"
            ]
          },
          "execution_count": 270,
          "metadata": {},
          "output_type": "execute_result"
        }
      ],
      "source": [
        "df.iloc[[0, -1]]"
      ]
    },
    {
      "cell_type": "code",
      "execution_count": null,
      "id": "d1a0a7a5-151b-4106-b2c8-0ee19024570e",
      "metadata": {
        "id": "d1a0a7a5-151b-4106-b2c8-0ee19024570e",
        "outputId": "77eaabd8-b867-4944-ef0d-76f4703315cb"
      },
      "outputs": [
        {
          "data": {
            "text/plain": [
              "Survived\n",
              "0    549\n",
              "1    342\n",
              "Name: count, dtype: int64"
            ]
          },
          "execution_count": 271,
          "metadata": {},
          "output_type": "execute_result"
        }
      ],
      "source": [
        "df[\"Survived\"].value_counts()"
      ]
    },
    {
      "cell_type": "code",
      "execution_count": null,
      "id": "d12c9140-e436-40e3-9aec-1d72f94e3c34",
      "metadata": {
        "id": "d12c9140-e436-40e3-9aec-1d72f94e3c34",
        "outputId": "a6670899-237a-4c45-ed21-d8520e2f8812"
      },
      "outputs": [
        {
          "data": {
            "text/plain": [
              "Embarked\n",
              "S    644\n",
              "C    168\n",
              "Q     77\n",
              "Name: count, dtype: int64"
            ]
          },
          "execution_count": 272,
          "metadata": {},
          "output_type": "execute_result"
        }
      ],
      "source": [
        "df[\"Embarked\"].value_counts()"
      ]
    },
    {
      "cell_type": "code",
      "execution_count": null,
      "id": "de859c53-82ac-4b63-8648-9c783525139a",
      "metadata": {
        "id": "de859c53-82ac-4b63-8648-9c783525139a"
      },
      "outputs": [],
      "source": [
        "# Replace NaN values with most common value\n",
        "# Only 2/891 values are missing, so impute median before train test split\n",
        "df[\"Embarked\"].replace(np.nan, \"S\", inplace=True)"
      ]
    },
    {
      "cell_type": "markdown",
      "id": "ab24ba97-c1d1-4984-9951-7d231c14d3b3",
      "metadata": {
        "id": "ab24ba97-c1d1-4984-9951-7d231c14d3b3"
      },
      "source": [
        "## Train test split"
      ]
    },
    {
      "cell_type": "code",
      "execution_count": null,
      "id": "fdfc2cc5-27f8-4405-9528-a5682253a932",
      "metadata": {
        "id": "fdfc2cc5-27f8-4405-9528-a5682253a932"
      },
      "outputs": [],
      "source": [
        "X = df.iloc[:, 1:].values\n",
        "y = df.iloc[:, :1].values"
      ]
    },
    {
      "cell_type": "code",
      "execution_count": null,
      "id": "f70fb7d8-5150-4db9-83b8-fa66c17fe76b",
      "metadata": {
        "id": "f70fb7d8-5150-4db9-83b8-fa66c17fe76b",
        "outputId": "8ff66d02-6400-4bc9-e149-c3aac5942375"
      },
      "outputs": [
        {
          "data": {
            "text/plain": [
              "(891, 7)"
            ]
          },
          "execution_count": 275,
          "metadata": {},
          "output_type": "execute_result"
        }
      ],
      "source": [
        "X.shape"
      ]
    },
    {
      "cell_type": "code",
      "execution_count": null,
      "id": "f1c81b86-7e8b-445e-8839-d9131c0c868e",
      "metadata": {
        "id": "f1c81b86-7e8b-445e-8839-d9131c0c868e",
        "outputId": "765f6694-49ff-492d-8f5d-349d6cdd0de4"
      },
      "outputs": [
        {
          "data": {
            "text/plain": [
              "(891, 1)"
            ]
          },
          "execution_count": 276,
          "metadata": {},
          "output_type": "execute_result"
        }
      ],
      "source": [
        "y.shape"
      ]
    },
    {
      "cell_type": "code",
      "execution_count": null,
      "id": "3c5eeca5-8313-4e50-a827-f2a7ee94bc10",
      "metadata": {
        "id": "3c5eeca5-8313-4e50-a827-f2a7ee94bc10"
      },
      "outputs": [],
      "source": [
        "X_train, X_test, y_train, y_test = train_test_split(X, y, test_size=0.2, random_state=27)"
      ]
    },
    {
      "cell_type": "code",
      "execution_count": null,
      "id": "06ee5a4b-d3a5-4b2c-ab92-0a299b53e236",
      "metadata": {
        "id": "06ee5a4b-d3a5-4b2c-ab92-0a299b53e236",
        "outputId": "e8a8f2e8-607f-4a43-fa78-feb0551932d3"
      },
      "outputs": [
        {
          "data": {
            "text/plain": [
              "(712, 7)"
            ]
          },
          "execution_count": 278,
          "metadata": {},
          "output_type": "execute_result"
        }
      ],
      "source": [
        "X_train.shape"
      ]
    },
    {
      "cell_type": "code",
      "execution_count": null,
      "id": "0873ce01-8f49-4936-be3c-a06ca9a01439",
      "metadata": {
        "id": "0873ce01-8f49-4936-be3c-a06ca9a01439",
        "outputId": "b6f1f07c-d18c-4a64-e7f4-d131d9eae85b"
      },
      "outputs": [
        {
          "data": {
            "text/plain": [
              "(179, 7)"
            ]
          },
          "execution_count": 279,
          "metadata": {},
          "output_type": "execute_result"
        }
      ],
      "source": [
        "X_test.shape"
      ]
    },
    {
      "cell_type": "markdown",
      "id": "d42865b1-beea-4a61-be8f-347085b8b4ab",
      "metadata": {
        "id": "d42865b1-beea-4a61-be8f-347085b8b4ab"
      },
      "source": [
        "## Clean the data"
      ]
    },
    {
      "cell_type": "code",
      "execution_count": null,
      "id": "abca5f8d-26f5-4904-98a9-bc671cd9aaeb",
      "metadata": {
        "id": "abca5f8d-26f5-4904-98a9-bc671cd9aaeb",
        "outputId": "0fcf0d70-ecdb-4727-a874-eb0dcaf98886"
      },
      "outputs": [
        {
          "data": {
            "text/html": [
              "<div>\n",
              "<style scoped>\n",
              "    .dataframe tbody tr th:only-of-type {\n",
              "        vertical-align: middle;\n",
              "    }\n",
              "\n",
              "    .dataframe tbody tr th {\n",
              "        vertical-align: top;\n",
              "    }\n",
              "\n",
              "    .dataframe thead th {\n",
              "        text-align: right;\n",
              "    }\n",
              "</style>\n",
              "<table border=\"1\" class=\"dataframe\">\n",
              "  <thead>\n",
              "    <tr style=\"text-align: right;\">\n",
              "      <th></th>\n",
              "      <th>Survived</th>\n",
              "      <th>Pclass</th>\n",
              "      <th>Sex</th>\n",
              "      <th>Age</th>\n",
              "      <th>SibSp</th>\n",
              "      <th>Parch</th>\n",
              "      <th>Fare</th>\n",
              "      <th>Embarked</th>\n",
              "    </tr>\n",
              "  </thead>\n",
              "  <tbody>\n",
              "    <tr>\n",
              "      <th>0</th>\n",
              "      <td>0</td>\n",
              "      <td>3</td>\n",
              "      <td>male</td>\n",
              "      <td>22.0</td>\n",
              "      <td>1</td>\n",
              "      <td>0</td>\n",
              "      <td>7.2500</td>\n",
              "      <td>S</td>\n",
              "    </tr>\n",
              "    <tr>\n",
              "      <th>1</th>\n",
              "      <td>1</td>\n",
              "      <td>1</td>\n",
              "      <td>female</td>\n",
              "      <td>38.0</td>\n",
              "      <td>1</td>\n",
              "      <td>0</td>\n",
              "      <td>71.2833</td>\n",
              "      <td>C</td>\n",
              "    </tr>\n",
              "  </tbody>\n",
              "</table>\n",
              "</div>"
            ],
            "text/plain": [
              "   Survived  Pclass     Sex   Age  SibSp  Parch     Fare Embarked\n",
              "0         0       3    male  22.0      1      0   7.2500        S\n",
              "1         1       1  female  38.0      1      0  71.2833        C"
            ]
          },
          "execution_count": 280,
          "metadata": {},
          "output_type": "execute_result"
        }
      ],
      "source": [
        "df.head(2)"
      ]
    },
    {
      "cell_type": "code",
      "execution_count": null,
      "id": "db7bb916-bacc-4f04-a8a6-273918a740b4",
      "metadata": {
        "id": "db7bb916-bacc-4f04-a8a6-273918a740b4"
      },
      "outputs": [],
      "source": [
        "# Calculate mean train age (exlude NaNs)\n",
        "train_age = X_train[:, 2].astype(float)\n",
        "mean_train_age = np.nanmean(train_age[~np.isnan(train_age)])"
      ]
    },
    {
      "cell_type": "code",
      "execution_count": null,
      "id": "e5b2b125-a56d-4be5-bc7b-ba09a4a75f67",
      "metadata": {
        "id": "e5b2b125-a56d-4be5-bc7b-ba09a4a75f67"
      },
      "outputs": [],
      "source": [
        "# Replace NaN values with mean using nan_to_num\n",
        "train_age = np.nan_to_num(train_age, nan=mean_train_age)"
      ]
    },
    {
      "cell_type": "code",
      "execution_count": null,
      "id": "0bf6465c-68f9-4986-8950-46264704bb0b",
      "metadata": {
        "id": "0bf6465c-68f9-4986-8950-46264704bb0b"
      },
      "outputs": [],
      "source": [
        "X_train[:, 2] = train_age"
      ]
    },
    {
      "cell_type": "code",
      "execution_count": null,
      "id": "b2a38b94-f061-4950-8388-791ffe9d6bbb",
      "metadata": {
        "id": "b2a38b94-f061-4950-8388-791ffe9d6bbb"
      },
      "outputs": [],
      "source": [
        "# Calculate mean test age (exclude NaNs)\n",
        "test_age = X_test[:, 2].astype(float)\n",
        "mean_test_age = np.nanmean(test_age[~np.isnan(test_age)])"
      ]
    },
    {
      "cell_type": "code",
      "execution_count": null,
      "id": "458b5d08-5867-4154-997d-b3396792cee0",
      "metadata": {
        "id": "458b5d08-5867-4154-997d-b3396792cee0"
      },
      "outputs": [],
      "source": [
        "# Replace NaN values with mean using nan_to_num\n",
        "test_age = np.nan_to_num(test_age, nan=mean_test_age)"
      ]
    },
    {
      "cell_type": "code",
      "execution_count": null,
      "id": "57973f99-5986-453c-abd3-be923b00972d",
      "metadata": {
        "id": "57973f99-5986-453c-abd3-be923b00972d"
      },
      "outputs": [],
      "source": [
        "X_test[:, 2] = test_age"
      ]
    },
    {
      "cell_type": "markdown",
      "id": "7efafcdc-5067-42ad-813b-b00a3e2f3974",
      "metadata": {
        "id": "7efafcdc-5067-42ad-813b-b00a3e2f3974"
      },
      "source": [
        "## Transform features"
      ]
    },
    {
      "cell_type": "code",
      "execution_count": null,
      "id": "27491996-09e5-4db1-a01c-1d8aa8c94358",
      "metadata": {
        "id": "27491996-09e5-4db1-a01c-1d8aa8c94358"
      },
      "outputs": [],
      "source": [
        "# Encode data - don't scale until train-test split\n",
        "labelencoder_Sex = LabelEncoder()\n",
        "X_train[:, 1] = labelencoder_Sex.fit_transform(X_train[:, 1])\n",
        "X_test[:, 1] = labelencoder_Sex.transform(X_test[:, 1])\n",
        "labelencoder_Embarked = LabelEncoder()\n",
        "X_train[:, 6] = labelencoder_Embarked.fit_transform(X_train[:, 6])\n",
        "X_test[:, 6] = labelencoder_Embarked.transform(X_test[:, 6])"
      ]
    },
    {
      "cell_type": "markdown",
      "id": "0da04c63-d6a9-4fbd-acaa-3cdf9753a98b",
      "metadata": {
        "id": "0da04c63-d6a9-4fbd-acaa-3cdf9753a98b"
      },
      "source": [
        "## Scale features"
      ]
    },
    {
      "cell_type": "code",
      "execution_count": null,
      "id": "96a25d9a-0226-4c49-8ded-3398fc6d2056",
      "metadata": {
        "id": "96a25d9a-0226-4c49-8ded-3398fc6d2056"
      },
      "outputs": [],
      "source": [
        "sc = StandardScaler()\n",
        "X_train = sc.fit_transform(X_train)\n",
        "X_test = sc.transform(X_test)"
      ]
    },
    {
      "cell_type": "code",
      "execution_count": null,
      "id": "9d1e4f7f-21da-45bf-897e-799b29b18902",
      "metadata": {
        "id": "9d1e4f7f-21da-45bf-897e-799b29b18902",
        "outputId": "c5b945a7-aae8-4f2b-b2fd-fdec8850e9d7"
      },
      "outputs": [
        {
          "data": {
            "text/plain": [
              "array([[ 8.30566141e-01,  7.35612358e-01,  1.14779706e+00, ...,\n",
              "        -4.52479538e-01, -5.12175428e-01,  5.83683870e-01],\n",
              "       [-1.55877969e+00,  7.35612358e-01,  1.30196252e+00, ...,\n",
              "        -4.52479538e-01,  3.23200846e-02,  5.83683870e-01],\n",
              "       [-3.64106773e-01,  7.35612358e-01,  4.92593862e-01, ...,\n",
              "         1.98816767e+00, -1.29157469e-01,  5.83683870e-01],\n",
              "       ...,\n",
              "       [ 8.30566141e-01,  7.35612358e-01, -7.79271170e-01, ...,\n",
              "        -4.52479538e-01, -4.93049696e-01,  5.83683870e-01],\n",
              "       [ 8.30566141e-01,  7.35612358e-01,  1.07071433e+00, ...,\n",
              "        -4.52479538e-01, -4.90533152e-01,  5.83683870e-01],\n",
              "       [ 8.30566141e-01, -1.35941164e+00, -8.21558600e-16, ...,\n",
              "        -4.52479538e-01, -5.07142341e-01, -1.95810766e+00]])"
            ]
          },
          "execution_count": 289,
          "metadata": {},
          "output_type": "execute_result"
        }
      ],
      "source": [
        "X_train"
      ]
    },
    {
      "cell_type": "markdown",
      "id": "d8fc7932-090f-4fd7-8146-623cc74fec02",
      "metadata": {
        "id": "d8fc7932-090f-4fd7-8146-623cc74fec02"
      },
      "source": [
        "## ANN"
      ]
    },
    {
      "cell_type": "code",
      "execution_count": null,
      "id": "469f31ea-a6cf-4387-b8ed-4bffdcb372b7",
      "metadata": {
        "id": "469f31ea-a6cf-4387-b8ed-4bffdcb372b7"
      },
      "outputs": [],
      "source": [
        "# Initialise the ANN\n",
        "classifier = Sequential()"
      ]
    },
    {
      "cell_type": "markdown",
      "id": "7c07270c-342c-49a5-b6c5-4e7ef694dbb0",
      "metadata": {
        "id": "7c07270c-342c-49a5-b6c5-4e7ef694dbb0"
      },
      "source": [
        "Rule of thumb for determining the number of hidden unit:\n",
        "(no. input dimensions + no. output dimensions) / 2\n",
        "\n",
        "7 independent variables + 1 dependent variable\n",
        "(7 + 1) / 2 = 4."
      ]
    },
    {
      "cell_type": "code",
      "execution_count": null,
      "id": "352495f9-680a-4578-87d9-aa54776d5e4f",
      "metadata": {
        "id": "352495f9-680a-4578-87d9-aa54776d5e4f"
      },
      "outputs": [],
      "source": [
        "# Input layer and first hidden layer\n",
        "classifier.add(Dense(units=14, kernel_initializer=\"uniform\", activation=\"relu\", input_dim=7))\n",
        "# Second hidden layer\n",
        "classifier.add(Dense(units=14, kernel_initializer=\"uniform\", activation=\"relu\"))\n",
        "# Third  hidden layer\n",
        "classifier.add(Dense(units=4, kernel_initializer=\"uniform\", activation=\"relu\"))\n",
        "# Output layer - sigmoid for binary classification\n",
        "classifier.add(Dense(units=1, kernel_initializer=\"uniform\", activation=\"sigmoid\"))"
      ]
    },
    {
      "cell_type": "code",
      "execution_count": null,
      "id": "30ba02f0-c6a9-49c3-99ef-d8f92d16832d",
      "metadata": {
        "id": "30ba02f0-c6a9-49c3-99ef-d8f92d16832d",
        "outputId": "dc490a8d-cd54-4506-8603-d132b739929f"
      },
      "outputs": [
        {
          "data": {
            "text/plain": [
              "(712, 7)"
            ]
          },
          "execution_count": 335,
          "metadata": {},
          "output_type": "execute_result"
        }
      ],
      "source": [
        "X_train.shape"
      ]
    },
    {
      "cell_type": "markdown",
      "id": "21a89bbe-b39f-466a-a2e6-dd78f57a466d",
      "metadata": {
        "id": "21a89bbe-b39f-466a-a2e6-dd78f57a466d"
      },
      "source": [
        "This is a binary classification task, so the NN will use the binary_crossentropy loss function.\n",
        "\n",
        "Options for other multi-class classification tasks include categorical_crossentropy and sparsecategorical_crossentropy."
      ]
    },
    {
      "cell_type": "code",
      "execution_count": null,
      "id": "7c4622ba-1f91-4df3-8752-5cbbb7824948",
      "metadata": {
        "id": "7c4622ba-1f91-4df3-8752-5cbbb7824948"
      },
      "outputs": [],
      "source": [
        "# Compile the ANN\n",
        "classifier.compile(optimizer=\"adam\", loss=\"binary_crossentropy\", metrics=[\"accuracy\"])"
      ]
    },
    {
      "cell_type": "markdown",
      "id": "3f60d57c-9682-483a-a031-87eb0caf3b81",
      "metadata": {
        "id": "3f60d57c-9682-483a-a031-87eb0caf3b81"
      },
      "source": [
        "The training set has 712 observations.\n",
        "\n",
        "- With batch_size=4, epochs=178\n",
        "- With batch_size=8, epochs=89"
      ]
    },
    {
      "cell_type": "code",
      "execution_count": null,
      "id": "fc7022b6-0c17-4e17-b42b-6357d64e74f3",
      "metadata": {
        "id": "fc7022b6-0c17-4e17-b42b-6357d64e74f3",
        "outputId": "fc314fda-7ec6-4df2-d53d-e6769be47f43"
      },
      "outputs": [
        {
          "name": "stdout",
          "output_type": "stream",
          "text": [
            "Epoch 1/100\n",
            "89/89 [==============================] - 1s 2ms/step - loss: 0.6894 - accuracy: 0.6096\n",
            "Epoch 2/100\n",
            "89/89 [==============================] - 0s 2ms/step - loss: 0.6373 - accuracy: 0.6868\n",
            "Epoch 3/100\n",
            "89/89 [==============================] - 1s 17ms/step - loss: 0.4987 - accuracy: 0.7949\n",
            "Epoch 4/100\n",
            "89/89 [==============================] - 1s 14ms/step - loss: 0.4561 - accuracy: 0.7963\n",
            "Epoch 5/100\n",
            "89/89 [==============================] - 1s 6ms/step - loss: 0.4464 - accuracy: 0.7992\n",
            "Epoch 6/100\n",
            "89/89 [==============================] - 0s 4ms/step - loss: 0.4394 - accuracy: 0.7949\n",
            "Epoch 7/100\n",
            "89/89 [==============================] - 0s 4ms/step - loss: 0.4367 - accuracy: 0.7935\n",
            "Epoch 8/100\n",
            "89/89 [==============================] - 0s 4ms/step - loss: 0.4340 - accuracy: 0.8118\n",
            "Epoch 9/100\n",
            "89/89 [==============================] - 0s 4ms/step - loss: 0.4322 - accuracy: 0.8090\n",
            "Epoch 10/100\n",
            "89/89 [==============================] - 0s 4ms/step - loss: 0.4318 - accuracy: 0.8048\n",
            "Epoch 11/100\n",
            "89/89 [==============================] - 0s 4ms/step - loss: 0.4264 - accuracy: 0.8132\n",
            "Epoch 12/100\n",
            "89/89 [==============================] - 0s 4ms/step - loss: 0.4254 - accuracy: 0.8062\n",
            "Epoch 13/100\n",
            "89/89 [==============================] - 0s 4ms/step - loss: 0.4240 - accuracy: 0.8132\n",
            "Epoch 14/100\n",
            "89/89 [==============================] - 0s 4ms/step - loss: 0.4227 - accuracy: 0.8216\n",
            "Epoch 15/100\n",
            "89/89 [==============================] - 0s 4ms/step - loss: 0.4192 - accuracy: 0.8076\n",
            "Epoch 16/100\n",
            "89/89 [==============================] - 0s 4ms/step - loss: 0.4219 - accuracy: 0.8258\n",
            "Epoch 17/100\n",
            "89/89 [==============================] - 0s 4ms/step - loss: 0.4165 - accuracy: 0.8216\n",
            "Epoch 18/100\n",
            "89/89 [==============================] - 0s 3ms/step - loss: 0.4181 - accuracy: 0.8230\n",
            "Epoch 19/100\n",
            "89/89 [==============================] - 0s 4ms/step - loss: 0.4160 - accuracy: 0.8272\n",
            "Epoch 20/100\n",
            "89/89 [==============================] - 0s 4ms/step - loss: 0.4152 - accuracy: 0.8244\n",
            "Epoch 21/100\n",
            "89/89 [==============================] - 0s 3ms/step - loss: 0.4135 - accuracy: 0.8258\n",
            "Epoch 22/100\n",
            "89/89 [==============================] - 0s 4ms/step - loss: 0.4118 - accuracy: 0.8258\n",
            "Epoch 23/100\n",
            "89/89 [==============================] - 0s 4ms/step - loss: 0.4121 - accuracy: 0.8230\n",
            "Epoch 24/100\n",
            "89/89 [==============================] - 0s 4ms/step - loss: 0.4114 - accuracy: 0.8301\n",
            "Epoch 25/100\n",
            "89/89 [==============================] - 0s 4ms/step - loss: 0.4128 - accuracy: 0.8230\n",
            "Epoch 26/100\n",
            "89/89 [==============================] - 0s 4ms/step - loss: 0.4108 - accuracy: 0.8287\n",
            "Epoch 27/100\n",
            "89/89 [==============================] - 0s 3ms/step - loss: 0.4098 - accuracy: 0.8258\n",
            "Epoch 28/100\n",
            "89/89 [==============================] - 0s 3ms/step - loss: 0.4091 - accuracy: 0.8258\n",
            "Epoch 29/100\n",
            "89/89 [==============================] - 0s 4ms/step - loss: 0.4098 - accuracy: 0.8244\n",
            "Epoch 30/100\n",
            "89/89 [==============================] - 0s 4ms/step - loss: 0.4085 - accuracy: 0.8230\n",
            "Epoch 31/100\n",
            "89/89 [==============================] - 0s 3ms/step - loss: 0.4066 - accuracy: 0.8301\n",
            "Epoch 32/100\n",
            "89/89 [==============================] - 0s 3ms/step - loss: 0.4066 - accuracy: 0.8287\n",
            "Epoch 33/100\n",
            "89/89 [==============================] - 0s 3ms/step - loss: 0.4052 - accuracy: 0.8287\n",
            "Epoch 34/100\n",
            "89/89 [==============================] - 0s 3ms/step - loss: 0.4054 - accuracy: 0.8272\n",
            "Epoch 35/100\n",
            "89/89 [==============================] - 0s 3ms/step - loss: 0.4036 - accuracy: 0.8230\n",
            "Epoch 36/100\n",
            "89/89 [==============================] - 0s 3ms/step - loss: 0.4053 - accuracy: 0.8301\n",
            "Epoch 37/100\n",
            "89/89 [==============================] - 0s 3ms/step - loss: 0.4060 - accuracy: 0.8329\n",
            "Epoch 38/100\n",
            "89/89 [==============================] - 0s 3ms/step - loss: 0.4022 - accuracy: 0.8399\n",
            "Epoch 39/100\n",
            "89/89 [==============================] - 0s 4ms/step - loss: 0.4034 - accuracy: 0.8315\n",
            "Epoch 40/100\n",
            "89/89 [==============================] - 0s 3ms/step - loss: 0.4019 - accuracy: 0.8315\n",
            "Epoch 41/100\n",
            "89/89 [==============================] - 0s 3ms/step - loss: 0.4035 - accuracy: 0.8315\n",
            "Epoch 42/100\n",
            "89/89 [==============================] - 0s 4ms/step - loss: 0.4011 - accuracy: 0.8329\n",
            "Epoch 43/100\n",
            "89/89 [==============================] - 0s 3ms/step - loss: 0.4002 - accuracy: 0.8343\n",
            "Epoch 44/100\n",
            "89/89 [==============================] - 0s 3ms/step - loss: 0.4004 - accuracy: 0.8301\n",
            "Epoch 45/100\n",
            "89/89 [==============================] - 0s 3ms/step - loss: 0.4004 - accuracy: 0.8315\n",
            "Epoch 46/100\n",
            "89/89 [==============================] - 0s 3ms/step - loss: 0.3987 - accuracy: 0.8385\n",
            "Epoch 47/100\n",
            "89/89 [==============================] - 0s 3ms/step - loss: 0.4007 - accuracy: 0.8272\n",
            "Epoch 48/100\n",
            "89/89 [==============================] - 0s 3ms/step - loss: 0.3996 - accuracy: 0.8329\n",
            "Epoch 49/100\n",
            "89/89 [==============================] - 0s 3ms/step - loss: 0.3990 - accuracy: 0.8385\n",
            "Epoch 50/100\n",
            "89/89 [==============================] - 0s 3ms/step - loss: 0.3989 - accuracy: 0.8357\n",
            "Epoch 51/100\n",
            "89/89 [==============================] - 0s 3ms/step - loss: 0.3993 - accuracy: 0.8301\n",
            "Epoch 52/100\n",
            "89/89 [==============================] - 0s 3ms/step - loss: 0.3976 - accuracy: 0.8357\n",
            "Epoch 53/100\n",
            "89/89 [==============================] - 0s 4ms/step - loss: 0.3984 - accuracy: 0.8329\n",
            "Epoch 54/100\n",
            "89/89 [==============================] - 0s 3ms/step - loss: 0.3984 - accuracy: 0.8272\n",
            "Epoch 55/100\n",
            "89/89 [==============================] - 0s 3ms/step - loss: 0.3967 - accuracy: 0.8287\n",
            "Epoch 56/100\n",
            "89/89 [==============================] - 0s 3ms/step - loss: 0.3959 - accuracy: 0.8413\n",
            "Epoch 57/100\n",
            "89/89 [==============================] - 0s 3ms/step - loss: 0.3964 - accuracy: 0.8315\n",
            "Epoch 58/100\n",
            "89/89 [==============================] - 0s 3ms/step - loss: 0.3969 - accuracy: 0.8357\n",
            "Epoch 59/100\n",
            "89/89 [==============================] - 0s 3ms/step - loss: 0.3949 - accuracy: 0.8357\n",
            "Epoch 60/100\n",
            "89/89 [==============================] - 0s 3ms/step - loss: 0.3943 - accuracy: 0.8343\n",
            "Epoch 61/100\n",
            "89/89 [==============================] - 0s 3ms/step - loss: 0.3952 - accuracy: 0.8357\n",
            "Epoch 62/100\n",
            "89/89 [==============================] - 0s 3ms/step - loss: 0.3944 - accuracy: 0.8385\n",
            "Epoch 63/100\n",
            "89/89 [==============================] - 0s 3ms/step - loss: 0.3928 - accuracy: 0.8315\n",
            "Epoch 64/100\n",
            "89/89 [==============================] - 0s 3ms/step - loss: 0.3929 - accuracy: 0.8315\n",
            "Epoch 65/100\n",
            "89/89 [==============================] - 0s 3ms/step - loss: 0.3949 - accuracy: 0.8371\n",
            "Epoch 66/100\n",
            "89/89 [==============================] - 0s 3ms/step - loss: 0.3931 - accuracy: 0.8272\n",
            "Epoch 67/100\n",
            "89/89 [==============================] - 0s 3ms/step - loss: 0.3923 - accuracy: 0.8441\n",
            "Epoch 68/100\n",
            "89/89 [==============================] - 0s 2ms/step - loss: 0.3924 - accuracy: 0.8315\n",
            "Epoch 69/100\n",
            "89/89 [==============================] - 0s 2ms/step - loss: 0.3921 - accuracy: 0.8329\n",
            "Epoch 70/100\n",
            "89/89 [==============================] - 0s 2ms/step - loss: 0.3931 - accuracy: 0.8315\n",
            "Epoch 71/100\n",
            "89/89 [==============================] - 0s 2ms/step - loss: 0.3913 - accuracy: 0.8371\n",
            "Epoch 72/100\n",
            "89/89 [==============================] - 0s 2ms/step - loss: 0.3938 - accuracy: 0.8371\n",
            "Epoch 73/100\n",
            "89/89 [==============================] - 0s 2ms/step - loss: 0.3927 - accuracy: 0.8385\n",
            "Epoch 74/100\n",
            "89/89 [==============================] - 0s 2ms/step - loss: 0.3913 - accuracy: 0.8371\n",
            "Epoch 75/100\n",
            "89/89 [==============================] - 0s 2ms/step - loss: 0.3915 - accuracy: 0.8399\n",
            "Epoch 76/100\n",
            "89/89 [==============================] - 0s 2ms/step - loss: 0.3905 - accuracy: 0.8315\n",
            "Epoch 77/100\n",
            "89/89 [==============================] - 0s 2ms/step - loss: 0.3912 - accuracy: 0.8315\n",
            "Epoch 78/100\n",
            "89/89 [==============================] - 0s 2ms/step - loss: 0.3918 - accuracy: 0.8315\n",
            "Epoch 79/100\n",
            "89/89 [==============================] - 0s 2ms/step - loss: 0.3902 - accuracy: 0.8287\n",
            "Epoch 80/100\n",
            "89/89 [==============================] - 0s 2ms/step - loss: 0.3904 - accuracy: 0.8244\n",
            "Epoch 81/100\n",
            "89/89 [==============================] - 0s 2ms/step - loss: 0.3890 - accuracy: 0.8329\n",
            "Epoch 82/100\n",
            "89/89 [==============================] - 0s 2ms/step - loss: 0.3877 - accuracy: 0.8427\n",
            "Epoch 83/100\n",
            "89/89 [==============================] - 0s 2ms/step - loss: 0.3889 - accuracy: 0.8287\n",
            "Epoch 84/100\n",
            "89/89 [==============================] - 0s 2ms/step - loss: 0.3880 - accuracy: 0.8413\n",
            "Epoch 85/100\n",
            "89/89 [==============================] - 0s 2ms/step - loss: 0.3891 - accuracy: 0.8329\n",
            "Epoch 86/100\n",
            "89/89 [==============================] - 0s 2ms/step - loss: 0.3878 - accuracy: 0.8399\n",
            "Epoch 87/100\n",
            "89/89 [==============================] - 0s 2ms/step - loss: 0.3912 - accuracy: 0.8315\n",
            "Epoch 88/100\n",
            "89/89 [==============================] - 0s 2ms/step - loss: 0.3862 - accuracy: 0.8357\n",
            "Epoch 89/100\n",
            "89/89 [==============================] - 0s 2ms/step - loss: 0.3881 - accuracy: 0.8399\n",
            "Epoch 90/100\n",
            "89/89 [==============================] - 0s 2ms/step - loss: 0.3898 - accuracy: 0.8329\n",
            "Epoch 91/100\n",
            "89/89 [==============================] - 0s 2ms/step - loss: 0.3899 - accuracy: 0.8329\n",
            "Epoch 92/100\n",
            "89/89 [==============================] - 0s 2ms/step - loss: 0.3868 - accuracy: 0.8315\n",
            "Epoch 93/100\n",
            "89/89 [==============================] - 0s 2ms/step - loss: 0.3876 - accuracy: 0.8371\n",
            "Epoch 94/100\n",
            "89/89 [==============================] - 0s 2ms/step - loss: 0.3895 - accuracy: 0.8357\n",
            "Epoch 95/100\n",
            "89/89 [==============================] - 0s 2ms/step - loss: 0.3875 - accuracy: 0.8343\n",
            "Epoch 96/100\n",
            "89/89 [==============================] - 0s 2ms/step - loss: 0.3877 - accuracy: 0.8343\n",
            "Epoch 97/100\n",
            "89/89 [==============================] - 0s 2ms/step - loss: 0.3883 - accuracy: 0.8329\n",
            "Epoch 98/100\n",
            "89/89 [==============================] - 0s 2ms/step - loss: 0.3856 - accuracy: 0.8329\n",
            "Epoch 99/100\n",
            "89/89 [==============================] - 0s 2ms/step - loss: 0.3865 - accuracy: 0.8371\n",
            "Epoch 100/100\n",
            "89/89 [==============================] - 0s 2ms/step - loss: 0.3871 - accuracy: 0.8315\n"
          ]
        },
        {
          "data": {
            "text/plain": [
              "<keras.src.callbacks.History at 0x19e743aebc0>"
            ]
          },
          "execution_count": 337,
          "metadata": {},
          "output_type": "execute_result"
        }
      ],
      "source": [
        "# Fit the ANN to the training set\n",
        "classifier.fit(X_train, y_train, batch_size=8, epochs=100)"
      ]
    },
    {
      "cell_type": "markdown",
      "id": "a10fd0e0-075c-4291-9523-383a0f6d385b",
      "metadata": {
        "id": "a10fd0e0-075c-4291-9523-383a0f6d385b"
      },
      "source": [
        "## Test the model"
      ]
    },
    {
      "cell_type": "code",
      "execution_count": null,
      "id": "834b7b3e-e9fe-46de-ba12-405204597242",
      "metadata": {
        "id": "834b7b3e-e9fe-46de-ba12-405204597242",
        "outputId": "34bd1b9b-4de3-485a-fbd5-5526b250043a"
      },
      "outputs": [
        {
          "name": "stdout",
          "output_type": "stream",
          "text": [
            "6/6 [==============================] - 0s 3ms/step\n"
          ]
        }
      ],
      "source": [
        "y_pred = classifier.predict(X_test)"
      ]
    },
    {
      "cell_type": "code",
      "execution_count": null,
      "id": "56fbf93a-efdc-4320-88e0-dc6996dd16c1",
      "metadata": {
        "id": "56fbf93a-efdc-4320-88e0-dc6996dd16c1"
      },
      "outputs": [],
      "source": [
        "y_pred = (y_pred > 0.5)"
      ]
    },
    {
      "cell_type": "code",
      "execution_count": null,
      "id": "7ca11784-de6a-4da0-80b1-6727daed3c6b",
      "metadata": {
        "id": "7ca11784-de6a-4da0-80b1-6727daed3c6b",
        "outputId": "1870c75e-efc8-45f5-da70-7f18de73a9ca"
      },
      "outputs": [
        {
          "name": "stdout",
          "output_type": "stream",
          "text": [
            "Test set confusion matrix:\n",
            "[[103   9]\n",
            " [ 18  49]]\n"
          ]
        }
      ],
      "source": [
        "cm = confusion_matrix(y_test, y_pred)\n",
        "print(f\"Test set confusion matrix:\\n{cm}\")"
      ]
    },
    {
      "cell_type": "code",
      "execution_count": null,
      "id": "103aea2f-0030-4d9d-9456-05f16f64968c",
      "metadata": {
        "id": "103aea2f-0030-4d9d-9456-05f16f64968c",
        "outputId": "ce46ff10-f07e-4234-82c2-832e454a028c"
      },
      "outputs": [
        {
          "name": "stdout",
          "output_type": "stream",
          "text": [
            "Test set accuracy: 84.92%\n"
          ]
        }
      ],
      "source": [
        "accuracy = accuracy_score(y_test, y_pred)\n",
        "print(f\"Test set accuracy: {accuracy:.2%}\")"
      ]
    },
    {
      "cell_type": "code",
      "execution_count": null,
      "id": "0d9de40f-6be8-44a7-976a-c5089dbe0467",
      "metadata": {
        "id": "0d9de40f-6be8-44a7-976a-c5089dbe0467",
        "outputId": "b23e4bb2-ea84-4c25-d01e-be07b970beb5"
      },
      "outputs": [
        {
          "name": "stdout",
          "output_type": "stream",
          "text": [
            "              precision    recall  f1-score   support\n",
            "\n",
            "           0       0.85      0.92      0.88       112\n",
            "           1       0.84      0.73      0.78        67\n",
            "\n",
            "    accuracy                           0.85       179\n",
            "   macro avg       0.85      0.83      0.83       179\n",
            "weighted avg       0.85      0.85      0.85       179\n",
            "\n"
          ]
        }
      ],
      "source": [
        "report = classification_report(y_test, y_pred)\n",
        "print(report)"
      ]
    },
    {
      "cell_type": "code",
      "execution_count": null,
      "id": "ee14af8b-1554-4603-bd38-f7bc16eb4947",
      "metadata": {
        "id": "ee14af8b-1554-4603-bd38-f7bc16eb4947"
      },
      "outputs": [],
      "source": []
    }
  ],
  "metadata": {
    "kernelspec": {
      "display_name": "Python 3 (ipykernel)",
      "language": "python",
      "name": "python3"
    },
    "language_info": {
      "codemirror_mode": {
        "name": "ipython",
        "version": 3
      },
      "file_extension": ".py",
      "mimetype": "text/x-python",
      "name": "python",
      "nbconvert_exporter": "python",
      "pygments_lexer": "ipython3",
      "version": "3.10.11"
    },
    "colab": {
      "provenance": [],
      "include_colab_link": true
    }
  },
  "nbformat": 4,
  "nbformat_minor": 5
}